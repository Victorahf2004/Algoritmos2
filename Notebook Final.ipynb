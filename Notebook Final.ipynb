{
 "cells": [
  {
   "cell_type": "markdown",
   "metadata": {},
   "source": [
    "# Trabalho Prático 1 - Algoritmos 2 2024.1 UFMG\n",
    "Membros:\n",
    "\n",
    "* Gabriel Arcanjo Campelo Fadoul - 2021031645\n",
    "* Mateus Gonçalves Moreira - 2022035610\n",
    "* Victor Augusto Hon Fonseca - 2022035814"
   ]
  },
  {
   "cell_type": "markdown",
   "metadata": {},
   "source": [
    "# O Problema da Galeria de Arte\n",
    "\n",
    "Esse é um tipo de problema de otimização que busca minimizar, a partir da planta de uma galeria de arte descrita como um polígono, a quantidade de câmeras necessárias para que todos cômodos da propriedade sejam cobertos. Iremos utilizar instâncias disponibilizadas por pesquisadores da Universidade Estadual de Campinas(UNICAMP) no seguinte site: https://www.ic.unicamp.br/~cid/Problem-instances/Art-Gallery/AGPVG/index.html"
   ]
  },
  {
   "cell_type": "code",
   "execution_count": 3,
   "metadata": {},
   "outputs": [],
   "source": [
    "import numpy as np\n",
    "import plotly.express as px\n",
    "import plotly.graph_objects as go\n",
    "from TriangProntaAlterada import *"
   ]
  },
  {
   "cell_type": "markdown",
   "metadata": {},
   "source": [
    "## Carga das instâncias de testes"
   ]
  },
  {
   "cell_type": "markdown",
   "metadata": {},
   "source": [
    "Inicializamos montando um pequeno script que consegue consumir as instâncias de acordo com sua respectiva formatação e converte os valores para a nossa estrutura de dados"
   ]
  },
  {
   "cell_type": "code",
   "execution_count": 4,
   "metadata": {},
   "outputs": [],
   "source": [
    "with open(\"instances\\\\agp2009a-orthorand\\\\agp2009a-orthorand\\\\random-20-5.pol\") as f:\n",
    "    line = f.readline()\n",
    "    file_values = line.split()\n",
    "total_vertices = int(file_values[0])\n",
    "\n",
    "G = Grafo()\n",
    "\n",
    "V = []\n",
    "for i in range(1,len(file_values),2):\n",
    "    X, Y = file_values[i], file_values[i+1]\n",
    "    \n",
    "    a, b = X.split(\"/\")\n",
    "    coord_x = float(a) / float(b)\n",
    "    \n",
    "    a, b = Y.split(\"/\")\n",
    "    coord_y = float(a) / float(b)\n",
    "    \n",
    "    V.append(Vertice(coord_x, coord_y))\n",
    "    G.adicionar_vertice(Vertice(coord_x, coord_y))\n",
    "\n",
    "for i in range(len(V)-1):\n",
    "    G.adicionar_aresta(Aresta(G.vertices[i],G.vertices[i+1]))\n",
    "\n",
    "G.adicionar_aresta(Aresta(G.vertices[len(V)-1],G.vertices[0]))"
   ]
  },
  {
   "cell_type": "markdown",
   "metadata": {},
   "source": [
    "**Segue uma amostra de como é o formato do polígono carregado que representa a planta da galeria de arte:**"
   ]
  },
  {
   "cell_type": "code",
   "execution_count": 5,
   "metadata": {},
   "outputs": [
    {
     "data": {
      "application/vnd.plotly.v1+json": {
       "config": {
        "plotlyServerURL": "https://plot.ly"
       },
       "data": [
        {
         "hovertemplate": "x=%{x}<br>y=%{y}<extra></extra>",
         "legendgroup": "",
         "line": {
          "color": "#636efa",
          "dash": "solid"
         },
         "marker": {
          "size": 10,
          "symbol": "circle"
         },
         "mode": "markers+lines",
         "name": "",
         "orientation": "v",
         "showlegend": false,
         "type": "scatter",
         "x": [
          2,
          2,
          9,
          9,
          8,
          8,
          6,
          6,
          4,
          4,
          1,
          1,
          3,
          3,
          5,
          5,
          7,
          7,
          10,
          10,
          2
         ],
         "xaxis": "x",
         "y": [
          5,
          6,
          6,
          7,
          7,
          9,
          9,
          8,
          8,
          10,
          10,
          4,
          4,
          1,
          1,
          2,
          2,
          3,
          3,
          5,
          5
         ],
         "yaxis": "y"
        }
       ],
       "layout": {
        "height": 700,
        "legend": {
         "tracegroupgap": 0
        },
        "margin": {
         "t": 60
        },
        "template": {
         "data": {
          "bar": [
           {
            "error_x": {
             "color": "#2a3f5f"
            },
            "error_y": {
             "color": "#2a3f5f"
            },
            "marker": {
             "line": {
              "color": "#E5ECF6",
              "width": 0.5
             },
             "pattern": {
              "fillmode": "overlay",
              "size": 10,
              "solidity": 0.2
             }
            },
            "type": "bar"
           }
          ],
          "barpolar": [
           {
            "marker": {
             "line": {
              "color": "#E5ECF6",
              "width": 0.5
             },
             "pattern": {
              "fillmode": "overlay",
              "size": 10,
              "solidity": 0.2
             }
            },
            "type": "barpolar"
           }
          ],
          "carpet": [
           {
            "aaxis": {
             "endlinecolor": "#2a3f5f",
             "gridcolor": "white",
             "linecolor": "white",
             "minorgridcolor": "white",
             "startlinecolor": "#2a3f5f"
            },
            "baxis": {
             "endlinecolor": "#2a3f5f",
             "gridcolor": "white",
             "linecolor": "white",
             "minorgridcolor": "white",
             "startlinecolor": "#2a3f5f"
            },
            "type": "carpet"
           }
          ],
          "choropleth": [
           {
            "colorbar": {
             "outlinewidth": 0,
             "ticks": ""
            },
            "type": "choropleth"
           }
          ],
          "contour": [
           {
            "colorbar": {
             "outlinewidth": 0,
             "ticks": ""
            },
            "colorscale": [
             [
              0,
              "#0d0887"
             ],
             [
              0.1111111111111111,
              "#46039f"
             ],
             [
              0.2222222222222222,
              "#7201a8"
             ],
             [
              0.3333333333333333,
              "#9c179e"
             ],
             [
              0.4444444444444444,
              "#bd3786"
             ],
             [
              0.5555555555555556,
              "#d8576b"
             ],
             [
              0.6666666666666666,
              "#ed7953"
             ],
             [
              0.7777777777777778,
              "#fb9f3a"
             ],
             [
              0.8888888888888888,
              "#fdca26"
             ],
             [
              1,
              "#f0f921"
             ]
            ],
            "type": "contour"
           }
          ],
          "contourcarpet": [
           {
            "colorbar": {
             "outlinewidth": 0,
             "ticks": ""
            },
            "type": "contourcarpet"
           }
          ],
          "heatmap": [
           {
            "colorbar": {
             "outlinewidth": 0,
             "ticks": ""
            },
            "colorscale": [
             [
              0,
              "#0d0887"
             ],
             [
              0.1111111111111111,
              "#46039f"
             ],
             [
              0.2222222222222222,
              "#7201a8"
             ],
             [
              0.3333333333333333,
              "#9c179e"
             ],
             [
              0.4444444444444444,
              "#bd3786"
             ],
             [
              0.5555555555555556,
              "#d8576b"
             ],
             [
              0.6666666666666666,
              "#ed7953"
             ],
             [
              0.7777777777777778,
              "#fb9f3a"
             ],
             [
              0.8888888888888888,
              "#fdca26"
             ],
             [
              1,
              "#f0f921"
             ]
            ],
            "type": "heatmap"
           }
          ],
          "heatmapgl": [
           {
            "colorbar": {
             "outlinewidth": 0,
             "ticks": ""
            },
            "colorscale": [
             [
              0,
              "#0d0887"
             ],
             [
              0.1111111111111111,
              "#46039f"
             ],
             [
              0.2222222222222222,
              "#7201a8"
             ],
             [
              0.3333333333333333,
              "#9c179e"
             ],
             [
              0.4444444444444444,
              "#bd3786"
             ],
             [
              0.5555555555555556,
              "#d8576b"
             ],
             [
              0.6666666666666666,
              "#ed7953"
             ],
             [
              0.7777777777777778,
              "#fb9f3a"
             ],
             [
              0.8888888888888888,
              "#fdca26"
             ],
             [
              1,
              "#f0f921"
             ]
            ],
            "type": "heatmapgl"
           }
          ],
          "histogram": [
           {
            "marker": {
             "pattern": {
              "fillmode": "overlay",
              "size": 10,
              "solidity": 0.2
             }
            },
            "type": "histogram"
           }
          ],
          "histogram2d": [
           {
            "colorbar": {
             "outlinewidth": 0,
             "ticks": ""
            },
            "colorscale": [
             [
              0,
              "#0d0887"
             ],
             [
              0.1111111111111111,
              "#46039f"
             ],
             [
              0.2222222222222222,
              "#7201a8"
             ],
             [
              0.3333333333333333,
              "#9c179e"
             ],
             [
              0.4444444444444444,
              "#bd3786"
             ],
             [
              0.5555555555555556,
              "#d8576b"
             ],
             [
              0.6666666666666666,
              "#ed7953"
             ],
             [
              0.7777777777777778,
              "#fb9f3a"
             ],
             [
              0.8888888888888888,
              "#fdca26"
             ],
             [
              1,
              "#f0f921"
             ]
            ],
            "type": "histogram2d"
           }
          ],
          "histogram2dcontour": [
           {
            "colorbar": {
             "outlinewidth": 0,
             "ticks": ""
            },
            "colorscale": [
             [
              0,
              "#0d0887"
             ],
             [
              0.1111111111111111,
              "#46039f"
             ],
             [
              0.2222222222222222,
              "#7201a8"
             ],
             [
              0.3333333333333333,
              "#9c179e"
             ],
             [
              0.4444444444444444,
              "#bd3786"
             ],
             [
              0.5555555555555556,
              "#d8576b"
             ],
             [
              0.6666666666666666,
              "#ed7953"
             ],
             [
              0.7777777777777778,
              "#fb9f3a"
             ],
             [
              0.8888888888888888,
              "#fdca26"
             ],
             [
              1,
              "#f0f921"
             ]
            ],
            "type": "histogram2dcontour"
           }
          ],
          "mesh3d": [
           {
            "colorbar": {
             "outlinewidth": 0,
             "ticks": ""
            },
            "type": "mesh3d"
           }
          ],
          "parcoords": [
           {
            "line": {
             "colorbar": {
              "outlinewidth": 0,
              "ticks": ""
             }
            },
            "type": "parcoords"
           }
          ],
          "pie": [
           {
            "automargin": true,
            "type": "pie"
           }
          ],
          "scatter": [
           {
            "fillpattern": {
             "fillmode": "overlay",
             "size": 10,
             "solidity": 0.2
            },
            "type": "scatter"
           }
          ],
          "scatter3d": [
           {
            "line": {
             "colorbar": {
              "outlinewidth": 0,
              "ticks": ""
             }
            },
            "marker": {
             "colorbar": {
              "outlinewidth": 0,
              "ticks": ""
             }
            },
            "type": "scatter3d"
           }
          ],
          "scattercarpet": [
           {
            "marker": {
             "colorbar": {
              "outlinewidth": 0,
              "ticks": ""
             }
            },
            "type": "scattercarpet"
           }
          ],
          "scattergeo": [
           {
            "marker": {
             "colorbar": {
              "outlinewidth": 0,
              "ticks": ""
             }
            },
            "type": "scattergeo"
           }
          ],
          "scattergl": [
           {
            "marker": {
             "colorbar": {
              "outlinewidth": 0,
              "ticks": ""
             }
            },
            "type": "scattergl"
           }
          ],
          "scattermapbox": [
           {
            "marker": {
             "colorbar": {
              "outlinewidth": 0,
              "ticks": ""
             }
            },
            "type": "scattermapbox"
           }
          ],
          "scatterpolar": [
           {
            "marker": {
             "colorbar": {
              "outlinewidth": 0,
              "ticks": ""
             }
            },
            "type": "scatterpolar"
           }
          ],
          "scatterpolargl": [
           {
            "marker": {
             "colorbar": {
              "outlinewidth": 0,
              "ticks": ""
             }
            },
            "type": "scatterpolargl"
           }
          ],
          "scatterternary": [
           {
            "marker": {
             "colorbar": {
              "outlinewidth": 0,
              "ticks": ""
             }
            },
            "type": "scatterternary"
           }
          ],
          "surface": [
           {
            "colorbar": {
             "outlinewidth": 0,
             "ticks": ""
            },
            "colorscale": [
             [
              0,
              "#0d0887"
             ],
             [
              0.1111111111111111,
              "#46039f"
             ],
             [
              0.2222222222222222,
              "#7201a8"
             ],
             [
              0.3333333333333333,
              "#9c179e"
             ],
             [
              0.4444444444444444,
              "#bd3786"
             ],
             [
              0.5555555555555556,
              "#d8576b"
             ],
             [
              0.6666666666666666,
              "#ed7953"
             ],
             [
              0.7777777777777778,
              "#fb9f3a"
             ],
             [
              0.8888888888888888,
              "#fdca26"
             ],
             [
              1,
              "#f0f921"
             ]
            ],
            "type": "surface"
           }
          ],
          "table": [
           {
            "cells": {
             "fill": {
              "color": "#EBF0F8"
             },
             "line": {
              "color": "white"
             }
            },
            "header": {
             "fill": {
              "color": "#C8D4E3"
             },
             "line": {
              "color": "white"
             }
            },
            "type": "table"
           }
          ]
         },
         "layout": {
          "annotationdefaults": {
           "arrowcolor": "#2a3f5f",
           "arrowhead": 0,
           "arrowwidth": 1
          },
          "autotypenumbers": "strict",
          "coloraxis": {
           "colorbar": {
            "outlinewidth": 0,
            "ticks": ""
           }
          },
          "colorscale": {
           "diverging": [
            [
             0,
             "#8e0152"
            ],
            [
             0.1,
             "#c51b7d"
            ],
            [
             0.2,
             "#de77ae"
            ],
            [
             0.3,
             "#f1b6da"
            ],
            [
             0.4,
             "#fde0ef"
            ],
            [
             0.5,
             "#f7f7f7"
            ],
            [
             0.6,
             "#e6f5d0"
            ],
            [
             0.7,
             "#b8e186"
            ],
            [
             0.8,
             "#7fbc41"
            ],
            [
             0.9,
             "#4d9221"
            ],
            [
             1,
             "#276419"
            ]
           ],
           "sequential": [
            [
             0,
             "#0d0887"
            ],
            [
             0.1111111111111111,
             "#46039f"
            ],
            [
             0.2222222222222222,
             "#7201a8"
            ],
            [
             0.3333333333333333,
             "#9c179e"
            ],
            [
             0.4444444444444444,
             "#bd3786"
            ],
            [
             0.5555555555555556,
             "#d8576b"
            ],
            [
             0.6666666666666666,
             "#ed7953"
            ],
            [
             0.7777777777777778,
             "#fb9f3a"
            ],
            [
             0.8888888888888888,
             "#fdca26"
            ],
            [
             1,
             "#f0f921"
            ]
           ],
           "sequentialminus": [
            [
             0,
             "#0d0887"
            ],
            [
             0.1111111111111111,
             "#46039f"
            ],
            [
             0.2222222222222222,
             "#7201a8"
            ],
            [
             0.3333333333333333,
             "#9c179e"
            ],
            [
             0.4444444444444444,
             "#bd3786"
            ],
            [
             0.5555555555555556,
             "#d8576b"
            ],
            [
             0.6666666666666666,
             "#ed7953"
            ],
            [
             0.7777777777777778,
             "#fb9f3a"
            ],
            [
             0.8888888888888888,
             "#fdca26"
            ],
            [
             1,
             "#f0f921"
            ]
           ]
          },
          "colorway": [
           "#636efa",
           "#EF553B",
           "#00cc96",
           "#ab63fa",
           "#FFA15A",
           "#19d3f3",
           "#FF6692",
           "#B6E880",
           "#FF97FF",
           "#FECB52"
          ],
          "font": {
           "color": "#2a3f5f"
          },
          "geo": {
           "bgcolor": "white",
           "lakecolor": "white",
           "landcolor": "#E5ECF6",
           "showlakes": true,
           "showland": true,
           "subunitcolor": "white"
          },
          "hoverlabel": {
           "align": "left"
          },
          "hovermode": "closest",
          "mapbox": {
           "style": "light"
          },
          "paper_bgcolor": "white",
          "plot_bgcolor": "#E5ECF6",
          "polar": {
           "angularaxis": {
            "gridcolor": "white",
            "linecolor": "white",
            "ticks": ""
           },
           "bgcolor": "#E5ECF6",
           "radialaxis": {
            "gridcolor": "white",
            "linecolor": "white",
            "ticks": ""
           }
          },
          "scene": {
           "xaxis": {
            "backgroundcolor": "#E5ECF6",
            "gridcolor": "white",
            "gridwidth": 2,
            "linecolor": "white",
            "showbackground": true,
            "ticks": "",
            "zerolinecolor": "white"
           },
           "yaxis": {
            "backgroundcolor": "#E5ECF6",
            "gridcolor": "white",
            "gridwidth": 2,
            "linecolor": "white",
            "showbackground": true,
            "ticks": "",
            "zerolinecolor": "white"
           },
           "zaxis": {
            "backgroundcolor": "#E5ECF6",
            "gridcolor": "white",
            "gridwidth": 2,
            "linecolor": "white",
            "showbackground": true,
            "ticks": "",
            "zerolinecolor": "white"
           }
          },
          "shapedefaults": {
           "line": {
            "color": "#2a3f5f"
           }
          },
          "ternary": {
           "aaxis": {
            "gridcolor": "white",
            "linecolor": "white",
            "ticks": ""
           },
           "baxis": {
            "gridcolor": "white",
            "linecolor": "white",
            "ticks": ""
           },
           "bgcolor": "#E5ECF6",
           "caxis": {
            "gridcolor": "white",
            "linecolor": "white",
            "ticks": ""
           }
          },
          "title": {
           "x": 0.05
          },
          "xaxis": {
           "automargin": true,
           "gridcolor": "white",
           "linecolor": "white",
           "ticks": "",
           "title": {
            "standoff": 15
           },
           "zerolinecolor": "white",
           "zerolinewidth": 2
          },
          "yaxis": {
           "automargin": true,
           "gridcolor": "white",
           "linecolor": "white",
           "ticks": "",
           "title": {
            "standoff": 15
           },
           "zerolinecolor": "white",
           "zerolinewidth": 2
          }
         }
        },
        "width": 900,
        "xaxis": {
         "anchor": "y",
         "domain": [
          0,
          1
         ],
         "title": {
          "text": "x"
         }
        },
        "yaxis": {
         "anchor": "x",
         "domain": [
          0,
          1
         ],
         "title": {
          "text": "y"
         }
        }
       }
      }
     },
     "metadata": {},
     "output_type": "display_data"
    }
   ],
   "source": [
    "v = list(map(lambda P: (P.x,P.y),G.vertices))\n",
    "v.append(v[0]) # Repete primeiro vértice ao final para fechar o polígono\n",
    "\n",
    "fig = px.line(x=np.array(v)[:,0],y=np.array(v)[:,1],markers=True, width=900, height=700)\n",
    "fig.update_traces(marker_size=10)\n",
    "fig.show()"
   ]
  },
  {
   "cell_type": "markdown",
   "metadata": {},
   "source": [
    "## Triangulação"
   ]
  },
  {
   "cell_type": "markdown",
   "metadata": {},
   "source": [
    "O algoritmo de triangulação implementado é o algortimo conhecido como **Ear Clipping**, ele utiliza as primitivas de checagem se dois vetores estão numa orienção horária, anti-horária ou colineares. Essa primitiva irá ajudar a identificar se um ponto é carcterizado como uma ponta de orelha. Uma ponta de orelha é um ponto cujo vetor formado pelo seu antecessor e ele; juntamente com o vetor formado pelo ponto e seu sucessor possuem uma orientação anti-horária. Além disso, não deve possuir nenhum outro ponto dentro do triangulo formado por esses três pontos.\n",
    "\n",
    "A partir do momento em que um ponto é identificado como uma ponta de orelha, ele é \"removido\" do polígono, é criada uma nova aresta entre o ponto anterior e o sucessor; e seus vizinhos são atualizados. O algoritmo continua executando sucessivamente em todos os pontos até o momento em que sobram somente três pontos formando um triângulo.\n",
    "\n",
    "Esse processo será visível através da animação desenvolvida neste trabalho."
   ]
  },
  {
   "cell_type": "code",
   "execution_count": 6,
   "metadata": {},
   "outputs": [],
   "source": [
    "# Copia o grafo original para evitar mudanças \"inplace\"\n",
    "triang_graph = Grafo()\n",
    "triang_graph.graph = G.graph.copy()\n",
    "triang_graph.arestas = G.arestas.copy()\n",
    "triang_graph.vertices = G.vertices.copy()\n",
    "\n",
    "verticesAnimacao = list(triang_graph.vertices)\n",
    "verticesAnimacao.append(triang_graph.vertices[0])\n",
    "start_step = list(map(lambda P: (P.x,P.y), verticesAnimacao))\n",
    "(triang_graph, triangulos, polygon_stages, steps) = triangulacao(triang_graph, [start_step], [])"
   ]
  },
  {
   "cell_type": "code",
   "execution_count": 12,
   "metadata": {},
   "outputs": [
    {
     "data": {
      "application/vnd.plotly.v1+json": {
       "config": {
        "plotlyServerURL": "https://plot.ly"
       },
       "data": [
        {
         "line": {
          "shape": "linear"
         },
         "marker": {
          "color": [
           "blue",
           "blue",
           "blue",
           "blue",
           "blue",
           "blue",
           "blue",
           "blue",
           "blue",
           "blue",
           "blue",
           "blue",
           "blue",
           "blue",
           "blue",
           "blue",
           "blue",
           "blue",
           "blue",
           "blue",
           "red"
          ]
         },
         "mode": "lines+markers",
         "name": "Polygon",
         "type": "scatter",
         "x": [
          2,
          2,
          9,
          9,
          8,
          8,
          6,
          6,
          4,
          4,
          1,
          1,
          3,
          3,
          5,
          5,
          7,
          7,
          10,
          10,
          2
         ],
         "y": [
          5,
          6,
          6,
          7,
          7,
          9,
          9,
          8,
          8,
          10,
          10,
          4,
          4,
          1,
          1,
          2,
          2,
          3,
          3,
          5,
          5
         ]
        }
       ],
       "frames": [
        {
         "data": [
          {
           "line": {
            "shape": "linear"
           },
           "marker": {
            "color": [
             "blue",
             "blue",
             "blue",
             "blue",
             "blue",
             "blue",
             "blue",
             "blue",
             "blue",
             "blue",
             "blue",
             "blue",
             "blue",
             "blue",
             "blue",
             "blue",
             "blue",
             "blue",
             "blue",
             "blue",
             "red"
            ],
            "size": [
             10,
             10,
             10,
             10,
             10,
             10,
             10,
             10,
             10,
             10,
             10,
             10,
             10,
             10,
             10,
             10,
             10,
             10,
             10,
             10,
             15
            ]
           },
           "mode": "lines+markers",
           "name": "Polygon",
           "type": "scatter",
           "x": [
            2,
            2,
            9,
            9,
            8,
            8,
            6,
            6,
            4,
            4,
            1,
            1,
            3,
            3,
            5,
            5,
            7,
            7,
            10,
            10,
            2
           ],
           "y": [
            5,
            6,
            6,
            7,
            7,
            9,
            9,
            8,
            8,
            10,
            10,
            4,
            4,
            1,
            1,
            2,
            2,
            3,
            3,
            5,
            5
           ]
          }
         ],
         "name": "1"
        },
        {
         "data": [
          {
           "line": {
            "shape": "linear"
           },
           "marker": {
            "color": [
             "blue",
             "blue",
             "blue",
             "blue",
             "blue",
             "blue",
             "blue",
             "blue",
             "blue",
             "blue",
             "blue",
             "blue",
             "blue",
             "blue",
             "blue",
             "blue",
             "blue",
             "blue",
             "blue",
             "blue",
             "blue",
             "red"
            ],
            "size": [
             10,
             10,
             10,
             10,
             10,
             10,
             10,
             10,
             10,
             10,
             10,
             10,
             10,
             10,
             10,
             10,
             10,
             10,
             10,
             10,
             10,
             15
            ]
           },
           "mode": "lines+markers",
           "name": "Polygon",
           "type": "scatter",
           "x": [
            2,
            2,
            9,
            9,
            8,
            8,
            6,
            6,
            4,
            4,
            1,
            1,
            3,
            3,
            5,
            5,
            7,
            7,
            10,
            10,
            2,
            2
           ],
           "y": [
            5,
            6,
            6,
            7,
            7,
            9,
            9,
            8,
            8,
            10,
            10,
            4,
            4,
            1,
            1,
            2,
            2,
            3,
            3,
            5,
            5,
            6
           ]
          }
         ],
         "name": "2"
        },
        {
         "data": [
          {
           "line": {
            "shape": "linear"
           },
           "marker": {
            "color": [
             "blue",
             "blue",
             "blue",
             "blue",
             "blue",
             "blue",
             "blue",
             "blue",
             "blue",
             "blue",
             "blue",
             "blue",
             "blue",
             "blue",
             "blue",
             "blue",
             "blue",
             "blue",
             "blue",
             "blue",
             "blue",
             "blue",
             "red"
            ],
            "size": [
             10,
             10,
             10,
             10,
             10,
             10,
             10,
             10,
             10,
             10,
             10,
             10,
             10,
             10,
             10,
             10,
             10,
             10,
             10,
             10,
             10,
             10,
             15
            ]
           },
           "mode": "lines+markers",
           "name": "Polygon",
           "type": "scatter",
           "x": [
            2,
            2,
            9,
            9,
            8,
            8,
            6,
            6,
            4,
            4,
            1,
            1,
            3,
            3,
            5,
            5,
            7,
            7,
            10,
            10,
            2,
            2,
            9
           ],
           "y": [
            5,
            6,
            6,
            7,
            7,
            9,
            9,
            8,
            8,
            10,
            10,
            4,
            4,
            1,
            1,
            2,
            2,
            3,
            3,
            5,
            5,
            6,
            7
           ]
          }
         ],
         "name": "3"
        },
        {
         "data": [
          {
           "line": {
            "shape": "linear"
           },
           "marker": {
            "color": [
             "blue",
             "blue",
             "blue",
             "blue",
             "blue",
             "blue",
             "blue",
             "blue",
             "blue",
             "blue",
             "blue",
             "blue",
             "blue",
             "blue",
             "blue",
             "blue",
             "blue",
             "blue",
             "blue",
             "blue",
             "blue",
             "blue",
             "blue",
             "red"
            ],
            "size": [
             10,
             10,
             10,
             10,
             10,
             10,
             10,
             10,
             10,
             10,
             10,
             10,
             10,
             10,
             10,
             10,
             10,
             10,
             10,
             10,
             10,
             10,
             10,
             15
            ]
           },
           "mode": "lines+markers",
           "name": "Polygon",
           "type": "scatter",
           "x": [
            2,
            2,
            9,
            9,
            8,
            8,
            6,
            6,
            4,
            4,
            1,
            1,
            3,
            3,
            5,
            5,
            7,
            7,
            10,
            10,
            2,
            2,
            9,
            8
           ],
           "y": [
            5,
            6,
            6,
            7,
            7,
            9,
            9,
            8,
            8,
            10,
            10,
            4,
            4,
            1,
            1,
            2,
            2,
            3,
            3,
            5,
            5,
            6,
            7,
            7
           ]
          }
         ],
         "name": "4"
        },
        {
         "data": [
          {
           "line": {
            "shape": "linear"
           },
           "marker": {
            "color": [
             "blue",
             "blue",
             "blue",
             "blue",
             "blue",
             "blue",
             "blue",
             "blue",
             "blue",
             "blue",
             "blue",
             "blue",
             "blue",
             "blue",
             "blue",
             "blue",
             "blue",
             "blue",
             "blue",
             "blue",
             "blue",
             "blue",
             "blue",
             "blue",
             "red"
            ],
            "size": [
             10,
             10,
             10,
             10,
             10,
             10,
             10,
             10,
             10,
             10,
             10,
             10,
             10,
             10,
             10,
             10,
             10,
             10,
             10,
             10,
             10,
             10,
             10,
             10,
             15
            ]
           },
           "mode": "lines+markers",
           "name": "Polygon",
           "type": "scatter",
           "x": [
            2,
            2,
            9,
            9,
            8,
            8,
            6,
            6,
            4,
            4,
            1,
            1,
            3,
            3,
            5,
            5,
            7,
            7,
            10,
            10,
            2,
            2,
            9,
            8,
            6
           ],
           "y": [
            5,
            6,
            6,
            7,
            7,
            9,
            9,
            8,
            8,
            10,
            10,
            4,
            4,
            1,
            1,
            2,
            2,
            3,
            3,
            5,
            5,
            6,
            7,
            7,
            9
           ]
          }
         ],
         "name": "5"
        },
        {
         "data": [
          {
           "line": {
            "shape": "linear"
           },
           "marker": {
            "color": [
             "blue",
             "blue",
             "blue",
             "blue",
             "blue",
             "blue",
             "blue",
             "blue",
             "blue",
             "blue",
             "blue",
             "blue",
             "blue",
             "blue",
             "blue",
             "blue",
             "blue",
             "blue",
             "blue",
             "blue",
             "blue",
             "blue",
             "blue",
             "blue",
             "blue",
             "red"
            ],
            "size": [
             10,
             10,
             10,
             10,
             10,
             10,
             10,
             10,
             10,
             10,
             10,
             10,
             10,
             10,
             10,
             10,
             10,
             10,
             10,
             10,
             10,
             10,
             10,
             10,
             10,
             15
            ]
           },
           "mode": "lines+markers",
           "name": "Polygon",
           "type": "scatter",
           "x": [
            2,
            2,
            9,
            9,
            8,
            8,
            6,
            6,
            4,
            4,
            1,
            1,
            3,
            3,
            5,
            5,
            7,
            7,
            10,
            10,
            2,
            2,
            9,
            8,
            6,
            6
           ],
           "y": [
            5,
            6,
            6,
            7,
            7,
            9,
            9,
            8,
            8,
            10,
            10,
            4,
            4,
            1,
            1,
            2,
            2,
            3,
            3,
            5,
            5,
            6,
            7,
            7,
            9,
            8
           ]
          }
         ],
         "name": "6"
        },
        {
         "data": [
          {
           "line": {
            "shape": "linear"
           },
           "marker": {
            "color": [
             "blue",
             "blue",
             "blue",
             "blue",
             "blue",
             "blue",
             "blue",
             "blue",
             "blue",
             "blue",
             "blue",
             "blue",
             "blue",
             "blue",
             "blue",
             "blue",
             "blue",
             "blue",
             "blue",
             "blue",
             "blue",
             "blue",
             "blue",
             "blue",
             "blue",
             "blue",
             "red"
            ],
            "size": [
             10,
             10,
             10,
             10,
             10,
             10,
             10,
             10,
             10,
             10,
             10,
             10,
             10,
             10,
             10,
             10,
             10,
             10,
             10,
             10,
             10,
             10,
             10,
             10,
             10,
             10,
             15
            ]
           },
           "mode": "lines+markers",
           "name": "Polygon",
           "type": "scatter",
           "x": [
            2,
            2,
            9,
            9,
            8,
            8,
            6,
            6,
            4,
            4,
            1,
            1,
            3,
            3,
            5,
            5,
            7,
            7,
            10,
            10,
            2,
            2,
            9,
            8,
            6,
            6,
            4
           ],
           "y": [
            5,
            6,
            6,
            7,
            7,
            9,
            9,
            8,
            8,
            10,
            10,
            4,
            4,
            1,
            1,
            2,
            2,
            3,
            3,
            5,
            5,
            6,
            7,
            7,
            9,
            8,
            8
           ]
          }
         ],
         "name": "7"
        },
        {
         "data": [
          {
           "line": {
            "shape": "linear"
           },
           "marker": {
            "color": [
             "blue",
             "blue",
             "blue",
             "blue",
             "blue",
             "blue",
             "blue",
             "blue",
             "blue",
             "blue",
             "blue",
             "blue",
             "blue",
             "blue",
             "blue",
             "blue",
             "blue",
             "blue",
             "blue",
             "blue",
             "blue",
             "blue",
             "blue",
             "blue",
             "blue",
             "blue",
             "blue",
             "red"
            ],
            "size": [
             10,
             10,
             10,
             10,
             10,
             10,
             10,
             10,
             10,
             10,
             10,
             10,
             10,
             10,
             10,
             10,
             10,
             10,
             10,
             10,
             10,
             10,
             10,
             10,
             10,
             10,
             10,
             15
            ]
           },
           "mode": "lines+markers",
           "name": "Polygon",
           "type": "scatter",
           "x": [
            2,
            2,
            9,
            9,
            8,
            8,
            6,
            6,
            4,
            4,
            1,
            1,
            3,
            3,
            5,
            5,
            7,
            7,
            10,
            10,
            2,
            2,
            9,
            8,
            6,
            6,
            4,
            1
           ],
           "y": [
            5,
            6,
            6,
            7,
            7,
            9,
            9,
            8,
            8,
            10,
            10,
            4,
            4,
            1,
            1,
            2,
            2,
            3,
            3,
            5,
            5,
            6,
            7,
            7,
            9,
            8,
            8,
            10
           ]
          }
         ],
         "name": "8"
        },
        {
         "data": [
          {
           "line": {
            "shape": "linear"
           },
           "marker": {
            "color": [
             "blue",
             "blue",
             "blue",
             "blue",
             "blue",
             "blue",
             "blue",
             "blue",
             "blue",
             "blue",
             "blue",
             "blue",
             "blue",
             "blue",
             "blue",
             "blue",
             "blue",
             "blue",
             "blue",
             "blue",
             "blue",
             "blue",
             "blue",
             "blue",
             "blue",
             "blue",
             "blue",
             "blue",
             "red"
            ],
            "size": [
             10,
             10,
             10,
             10,
             10,
             10,
             10,
             10,
             10,
             10,
             10,
             10,
             10,
             10,
             10,
             10,
             10,
             10,
             10,
             10,
             10,
             10,
             10,
             10,
             10,
             10,
             10,
             10,
             15
            ]
           },
           "mode": "lines+markers",
           "name": "Polygon",
           "type": "scatter",
           "x": [
            2,
            2,
            9,
            9,
            8,
            8,
            6,
            6,
            4,
            4,
            1,
            1,
            3,
            3,
            5,
            5,
            7,
            7,
            10,
            10,
            2,
            2,
            9,
            8,
            6,
            6,
            4,
            1,
            1
           ],
           "y": [
            5,
            6,
            6,
            7,
            7,
            9,
            9,
            8,
            8,
            10,
            10,
            4,
            4,
            1,
            1,
            2,
            2,
            3,
            3,
            5,
            5,
            6,
            7,
            7,
            9,
            8,
            8,
            10,
            4
           ]
          }
         ],
         "name": "9"
        },
        {
         "data": [
          {
           "line": {
            "shape": "linear"
           },
           "marker": {
            "color": [
             "blue",
             "blue",
             "blue",
             "blue",
             "blue",
             "blue",
             "blue",
             "blue",
             "blue",
             "blue",
             "blue",
             "blue",
             "blue",
             "blue",
             "blue",
             "blue",
             "blue",
             "blue",
             "blue",
             "blue",
             "blue",
             "blue",
             "blue",
             "blue",
             "blue",
             "blue",
             "blue",
             "blue",
             "blue",
             "red"
            ],
            "size": [
             10,
             10,
             10,
             10,
             10,
             10,
             10,
             10,
             10,
             10,
             10,
             10,
             10,
             10,
             10,
             10,
             10,
             10,
             10,
             10,
             10,
             10,
             10,
             10,
             10,
             10,
             10,
             10,
             10,
             15
            ]
           },
           "mode": "lines+markers",
           "name": "Polygon",
           "type": "scatter",
           "x": [
            2,
            2,
            9,
            9,
            8,
            8,
            6,
            6,
            4,
            4,
            1,
            1,
            3,
            3,
            5,
            5,
            7,
            7,
            10,
            10,
            2,
            2,
            9,
            8,
            6,
            6,
            4,
            1,
            1,
            3
           ],
           "y": [
            5,
            6,
            6,
            7,
            7,
            9,
            9,
            8,
            8,
            10,
            10,
            4,
            4,
            1,
            1,
            2,
            2,
            3,
            3,
            5,
            5,
            6,
            7,
            7,
            9,
            8,
            8,
            10,
            4,
            4
           ]
          }
         ],
         "name": "10"
        },
        {
         "data": [
          {
           "line": {
            "shape": "linear"
           },
           "marker": {
            "color": [
             "blue",
             "blue",
             "blue",
             "blue",
             "blue",
             "blue",
             "blue",
             "blue",
             "blue",
             "blue",
             "blue",
             "blue",
             "blue",
             "blue",
             "blue",
             "blue",
             "blue",
             "blue",
             "blue",
             "blue",
             "blue",
             "blue",
             "blue",
             "blue",
             "blue",
             "blue",
             "blue",
             "blue",
             "blue",
             "blue",
             "red"
            ],
            "size": [
             10,
             10,
             10,
             10,
             10,
             10,
             10,
             10,
             10,
             10,
             10,
             10,
             10,
             10,
             10,
             10,
             10,
             10,
             10,
             10,
             10,
             10,
             10,
             10,
             10,
             10,
             10,
             10,
             10,
             10,
             15
            ]
           },
           "mode": "lines+markers",
           "name": "Polygon",
           "type": "scatter",
           "x": [
            2,
            2,
            9,
            9,
            8,
            8,
            6,
            6,
            4,
            4,
            1,
            1,
            3,
            3,
            5,
            5,
            7,
            7,
            10,
            10,
            2,
            2,
            9,
            8,
            6,
            6,
            4,
            1,
            1,
            3,
            5
           ],
           "y": [
            5,
            6,
            6,
            7,
            7,
            9,
            9,
            8,
            8,
            10,
            10,
            4,
            4,
            1,
            1,
            2,
            2,
            3,
            3,
            5,
            5,
            6,
            7,
            7,
            9,
            8,
            8,
            10,
            4,
            4,
            1
           ]
          }
         ],
         "name": "11"
        },
        {
         "data": [
          {
           "line": {
            "shape": "linear"
           },
           "marker": {
            "color": [
             "blue",
             "blue",
             "blue",
             "blue",
             "blue",
             "blue",
             "blue",
             "blue",
             "blue",
             "blue",
             "blue",
             "blue",
             "blue",
             "blue",
             "blue",
             "blue",
             "blue",
             "blue",
             "blue",
             "blue",
             "blue",
             "blue",
             "blue",
             "blue",
             "blue",
             "blue",
             "blue",
             "blue",
             "blue",
             "blue",
             "blue",
             "red"
            ],
            "size": [
             10,
             10,
             10,
             10,
             10,
             10,
             10,
             10,
             10,
             10,
             10,
             10,
             10,
             10,
             10,
             10,
             10,
             10,
             10,
             10,
             10,
             10,
             10,
             10,
             10,
             10,
             10,
             10,
             10,
             10,
             10,
             15
            ]
           },
           "mode": "lines+markers",
           "name": "Polygon",
           "type": "scatter",
           "x": [
            2,
            2,
            9,
            9,
            8,
            8,
            6,
            6,
            4,
            4,
            1,
            1,
            3,
            3,
            5,
            5,
            7,
            7,
            10,
            10,
            2,
            2,
            9,
            8,
            6,
            6,
            4,
            1,
            1,
            3,
            5,
            5
           ],
           "y": [
            5,
            6,
            6,
            7,
            7,
            9,
            9,
            8,
            8,
            10,
            10,
            4,
            4,
            1,
            1,
            2,
            2,
            3,
            3,
            5,
            5,
            6,
            7,
            7,
            9,
            8,
            8,
            10,
            4,
            4,
            1,
            2
           ]
          }
         ],
         "name": "12"
        },
        {
         "data": [
          {
           "line": {
            "shape": "linear"
           },
           "marker": {
            "color": [
             "blue",
             "blue",
             "blue",
             "blue",
             "blue",
             "blue",
             "blue",
             "blue",
             "blue",
             "blue",
             "blue",
             "blue",
             "blue",
             "blue",
             "blue",
             "blue",
             "blue",
             "blue",
             "blue",
             "blue",
             "blue",
             "blue",
             "blue",
             "blue",
             "blue",
             "blue",
             "blue",
             "blue",
             "blue",
             "blue",
             "blue",
             "blue",
             "red"
            ],
            "size": [
             10,
             10,
             10,
             10,
             10,
             10,
             10,
             10,
             10,
             10,
             10,
             10,
             10,
             10,
             10,
             10,
             10,
             10,
             10,
             10,
             10,
             10,
             10,
             10,
             10,
             10,
             10,
             10,
             10,
             10,
             10,
             10,
             15
            ]
           },
           "mode": "lines+markers",
           "name": "Polygon",
           "type": "scatter",
           "x": [
            2,
            2,
            9,
            9,
            8,
            8,
            6,
            6,
            4,
            4,
            1,
            1,
            3,
            3,
            5,
            5,
            7,
            7,
            10,
            10,
            2,
            2,
            9,
            8,
            6,
            6,
            4,
            1,
            1,
            3,
            5,
            5,
            7
           ],
           "y": [
            5,
            6,
            6,
            7,
            7,
            9,
            9,
            8,
            8,
            10,
            10,
            4,
            4,
            1,
            1,
            2,
            2,
            3,
            3,
            5,
            5,
            6,
            7,
            7,
            9,
            8,
            8,
            10,
            4,
            4,
            1,
            2,
            3
           ]
          }
         ],
         "name": "13"
        },
        {
         "data": [
          {
           "line": {
            "shape": "linear"
           },
           "marker": {
            "color": [
             "blue",
             "blue",
             "blue",
             "blue",
             "blue",
             "blue",
             "blue",
             "blue",
             "blue",
             "blue",
             "blue",
             "blue",
             "blue",
             "blue",
             "blue",
             "blue",
             "blue",
             "blue",
             "blue",
             "blue",
             "blue",
             "blue",
             "blue",
             "blue",
             "blue",
             "blue",
             "blue",
             "blue",
             "blue",
             "blue",
             "blue",
             "blue",
             "blue",
             "red"
            ],
            "size": [
             10,
             10,
             10,
             10,
             10,
             10,
             10,
             10,
             10,
             10,
             10,
             10,
             10,
             10,
             10,
             10,
             10,
             10,
             10,
             10,
             10,
             10,
             10,
             10,
             10,
             10,
             10,
             10,
             10,
             10,
             10,
             10,
             10,
             15
            ]
           },
           "mode": "lines+markers",
           "name": "Polygon",
           "type": "scatter",
           "x": [
            2,
            2,
            9,
            9,
            8,
            8,
            6,
            6,
            4,
            4,
            1,
            1,
            3,
            3,
            5,
            5,
            7,
            7,
            10,
            10,
            2,
            2,
            9,
            8,
            6,
            6,
            4,
            1,
            1,
            3,
            5,
            5,
            7,
            10
           ],
           "y": [
            5,
            6,
            6,
            7,
            7,
            9,
            9,
            8,
            8,
            10,
            10,
            4,
            4,
            1,
            1,
            2,
            2,
            3,
            3,
            5,
            5,
            6,
            7,
            7,
            9,
            8,
            8,
            10,
            4,
            4,
            1,
            2,
            3,
            5
           ]
          }
         ],
         "name": "14"
        },
        {
         "data": [
          {
           "line": {
            "shape": "linear"
           },
           "marker": {
            "color": [
             "blue",
             "blue",
             "blue",
             "blue",
             "blue",
             "blue",
             "blue",
             "blue",
             "blue",
             "blue",
             "blue",
             "blue",
             "blue",
             "blue",
             "blue",
             "blue",
             "blue",
             "blue",
             "blue",
             "blue",
             "blue",
             "blue",
             "blue",
             "blue",
             "blue",
             "blue",
             "blue",
             "blue",
             "blue",
             "blue",
             "blue",
             "blue",
             "blue",
             "blue",
             "red"
            ],
            "size": [
             10,
             10,
             10,
             10,
             10,
             10,
             10,
             10,
             10,
             10,
             10,
             10,
             10,
             10,
             10,
             10,
             10,
             10,
             10,
             10,
             10,
             10,
             10,
             10,
             10,
             10,
             10,
             10,
             10,
             10,
             10,
             10,
             10,
             10,
             15
            ]
           },
           "mode": "lines+markers",
           "name": "Polygon",
           "type": "scatter",
           "x": [
            2,
            2,
            9,
            9,
            8,
            8,
            6,
            6,
            4,
            4,
            1,
            1,
            3,
            3,
            5,
            5,
            7,
            7,
            10,
            10,
            2,
            2,
            9,
            8,
            6,
            6,
            4,
            1,
            1,
            3,
            5,
            5,
            7,
            10,
            2
           ],
           "y": [
            5,
            6,
            6,
            7,
            7,
            9,
            9,
            8,
            8,
            10,
            10,
            4,
            4,
            1,
            1,
            2,
            2,
            3,
            3,
            5,
            5,
            6,
            7,
            7,
            9,
            8,
            8,
            10,
            4,
            4,
            1,
            2,
            3,
            5,
            5
           ]
          }
         ],
         "name": "15"
        },
        {
         "data": [
          {
           "line": {
            "shape": "linear"
           },
           "marker": {
            "color": [
             "blue",
             "blue",
             "blue",
             "blue",
             "blue",
             "blue",
             "blue",
             "blue",
             "blue",
             "blue",
             "blue",
             "blue",
             "blue",
             "blue",
             "blue",
             "blue",
             "blue",
             "blue",
             "blue",
             "blue",
             "blue",
             "blue",
             "blue",
             "blue",
             "blue",
             "blue",
             "blue",
             "blue",
             "blue",
             "blue",
             "blue",
             "blue",
             "blue",
             "blue",
             "blue",
             "red"
            ],
            "size": [
             10,
             10,
             10,
             10,
             10,
             10,
             10,
             10,
             10,
             10,
             10,
             10,
             10,
             10,
             10,
             10,
             10,
             10,
             10,
             10,
             10,
             10,
             10,
             10,
             10,
             10,
             10,
             10,
             10,
             10,
             10,
             10,
             10,
             10,
             10,
             15
            ]
           },
           "mode": "lines+markers",
           "name": "Polygon",
           "type": "scatter",
           "x": [
            2,
            2,
            9,
            9,
            8,
            8,
            6,
            6,
            4,
            4,
            1,
            1,
            3,
            3,
            5,
            5,
            7,
            7,
            10,
            10,
            2,
            2,
            9,
            8,
            6,
            6,
            4,
            1,
            1,
            3,
            5,
            5,
            7,
            10,
            2,
            2
           ],
           "y": [
            5,
            6,
            6,
            7,
            7,
            9,
            9,
            8,
            8,
            10,
            10,
            4,
            4,
            1,
            1,
            2,
            2,
            3,
            3,
            5,
            5,
            6,
            7,
            7,
            9,
            8,
            8,
            10,
            4,
            4,
            1,
            2,
            3,
            5,
            5,
            6
           ]
          }
         ],
         "name": "16"
        },
        {
         "data": [
          {
           "line": {
            "shape": "linear"
           },
           "marker": {
            "color": [
             "blue",
             "blue",
             "blue",
             "blue",
             "blue",
             "blue",
             "blue",
             "blue",
             "blue",
             "blue",
             "blue",
             "blue",
             "blue",
             "blue",
             "blue",
             "blue",
             "blue",
             "blue",
             "blue",
             "blue",
             "blue",
             "blue",
             "blue",
             "blue",
             "blue",
             "blue",
             "blue",
             "blue",
             "blue",
             "blue",
             "blue",
             "blue",
             "blue",
             "blue",
             "blue",
             "blue",
             "red"
            ],
            "size": [
             10,
             10,
             10,
             10,
             10,
             10,
             10,
             10,
             10,
             10,
             10,
             10,
             10,
             10,
             10,
             10,
             10,
             10,
             10,
             10,
             10,
             10,
             10,
             10,
             10,
             10,
             10,
             10,
             10,
             10,
             10,
             10,
             10,
             10,
             10,
             10,
             15
            ]
           },
           "mode": "lines+markers",
           "name": "Polygon",
           "type": "scatter",
           "x": [
            2,
            2,
            9,
            9,
            8,
            8,
            6,
            6,
            4,
            4,
            1,
            1,
            3,
            3,
            5,
            5,
            7,
            7,
            10,
            10,
            2,
            2,
            9,
            8,
            6,
            6,
            4,
            1,
            1,
            3,
            5,
            5,
            7,
            10,
            2,
            2,
            8
           ],
           "y": [
            5,
            6,
            6,
            7,
            7,
            9,
            9,
            8,
            8,
            10,
            10,
            4,
            4,
            1,
            1,
            2,
            2,
            3,
            3,
            5,
            5,
            6,
            7,
            7,
            9,
            8,
            8,
            10,
            4,
            4,
            1,
            2,
            3,
            5,
            5,
            6,
            7
           ]
          }
         ],
         "name": "17"
        },
        {
         "data": [
          {
           "line": {
            "shape": "linear"
           },
           "marker": {
            "color": [
             "blue",
             "blue",
             "blue",
             "blue",
             "blue",
             "blue",
             "blue",
             "blue",
             "blue",
             "blue",
             "blue",
             "blue",
             "blue",
             "blue",
             "blue",
             "blue",
             "blue",
             "blue",
             "blue",
             "blue",
             "blue",
             "blue",
             "blue",
             "blue",
             "blue",
             "blue",
             "blue",
             "blue",
             "blue",
             "blue",
             "blue",
             "blue",
             "blue",
             "blue",
             "blue",
             "blue",
             "blue",
             "red"
            ],
            "size": [
             10,
             10,
             10,
             10,
             10,
             10,
             10,
             10,
             10,
             10,
             10,
             10,
             10,
             10,
             10,
             10,
             10,
             10,
             10,
             10,
             10,
             10,
             10,
             10,
             10,
             10,
             10,
             10,
             10,
             10,
             10,
             10,
             10,
             10,
             10,
             10,
             10,
             15
            ]
           },
           "mode": "lines+markers",
           "name": "Polygon",
           "type": "scatter",
           "x": [
            2,
            2,
            9,
            9,
            8,
            8,
            6,
            6,
            4,
            4,
            1,
            1,
            3,
            3,
            5,
            5,
            7,
            7,
            10,
            10,
            2,
            2,
            9,
            8,
            6,
            6,
            4,
            1,
            1,
            3,
            5,
            5,
            7,
            10,
            2,
            2,
            8,
            6
           ],
           "y": [
            5,
            6,
            6,
            7,
            7,
            9,
            9,
            8,
            8,
            10,
            10,
            4,
            4,
            1,
            1,
            2,
            2,
            3,
            3,
            5,
            5,
            6,
            7,
            7,
            9,
            8,
            8,
            10,
            4,
            4,
            1,
            2,
            3,
            5,
            5,
            6,
            7,
            8
           ]
          }
         ],
         "name": "18"
        },
        {
         "data": [
          {
           "line": {
            "shape": "linear"
           },
           "marker": {
            "color": [
             "blue",
             "blue",
             "blue",
             "blue",
             "blue",
             "blue",
             "blue",
             "blue",
             "blue",
             "blue",
             "blue",
             "blue",
             "blue",
             "blue",
             "blue",
             "blue",
             "blue",
             "blue",
             "blue",
             "blue",
             "blue",
             "blue",
             "blue",
             "blue",
             "blue",
             "blue",
             "blue",
             "blue",
             "blue",
             "blue",
             "blue",
             "blue",
             "blue",
             "blue",
             "blue",
             "blue",
             "blue",
             "blue",
             "red"
            ],
            "size": [
             10,
             10,
             10,
             10,
             10,
             10,
             10,
             10,
             10,
             10,
             10,
             10,
             10,
             10,
             10,
             10,
             10,
             10,
             10,
             10,
             10,
             10,
             10,
             10,
             10,
             10,
             10,
             10,
             10,
             10,
             10,
             10,
             10,
             10,
             10,
             10,
             10,
             10,
             15
            ]
           },
           "mode": "lines+markers",
           "name": "Polygon",
           "type": "scatter",
           "x": [
            2,
            2,
            9,
            9,
            8,
            8,
            6,
            6,
            4,
            4,
            1,
            1,
            3,
            3,
            5,
            5,
            7,
            7,
            10,
            10,
            2,
            2,
            9,
            8,
            6,
            6,
            4,
            1,
            1,
            3,
            5,
            5,
            7,
            10,
            2,
            2,
            8,
            6,
            4
           ],
           "y": [
            5,
            6,
            6,
            7,
            7,
            9,
            9,
            8,
            8,
            10,
            10,
            4,
            4,
            1,
            1,
            2,
            2,
            3,
            3,
            5,
            5,
            6,
            7,
            7,
            9,
            8,
            8,
            10,
            4,
            4,
            1,
            2,
            3,
            5,
            5,
            6,
            7,
            8,
            8
           ]
          }
         ],
         "name": "19"
        },
        {
         "data": [
          {
           "line": {
            "shape": "linear"
           },
           "marker": {
            "color": [
             "blue",
             "blue",
             "blue",
             "blue",
             "blue",
             "blue",
             "blue",
             "blue",
             "blue",
             "blue",
             "blue",
             "blue",
             "blue",
             "blue",
             "blue",
             "blue",
             "blue",
             "blue",
             "blue",
             "blue",
             "blue",
             "blue",
             "blue",
             "blue",
             "blue",
             "blue",
             "blue",
             "blue",
             "blue",
             "blue",
             "blue",
             "blue",
             "blue",
             "blue",
             "blue",
             "blue",
             "blue",
             "blue",
             "blue",
             "red"
            ],
            "size": [
             10,
             10,
             10,
             10,
             10,
             10,
             10,
             10,
             10,
             10,
             10,
             10,
             10,
             10,
             10,
             10,
             10,
             10,
             10,
             10,
             10,
             10,
             10,
             10,
             10,
             10,
             10,
             10,
             10,
             10,
             10,
             10,
             10,
             10,
             10,
             10,
             10,
             10,
             10,
             15
            ]
           },
           "mode": "lines+markers",
           "name": "Polygon",
           "type": "scatter",
           "x": [
            2,
            2,
            9,
            9,
            8,
            8,
            6,
            6,
            4,
            4,
            1,
            1,
            3,
            3,
            5,
            5,
            7,
            7,
            10,
            10,
            2,
            2,
            9,
            8,
            6,
            6,
            4,
            1,
            1,
            3,
            5,
            5,
            7,
            10,
            2,
            2,
            8,
            6,
            4,
            1
           ],
           "y": [
            5,
            6,
            6,
            7,
            7,
            9,
            9,
            8,
            8,
            10,
            10,
            4,
            4,
            1,
            1,
            2,
            2,
            3,
            3,
            5,
            5,
            6,
            7,
            7,
            9,
            8,
            8,
            10,
            4,
            4,
            1,
            2,
            3,
            5,
            5,
            6,
            7,
            8,
            8,
            10
           ]
          }
         ],
         "name": "20"
        },
        {
         "data": [
          {
           "line": {
            "shape": "linear"
           },
           "marker": {
            "color": [
             "blue",
             "blue",
             "blue",
             "blue",
             "blue",
             "blue",
             "blue",
             "blue",
             "blue",
             "blue",
             "blue",
             "blue",
             "blue",
             "blue",
             "blue",
             "blue",
             "blue",
             "blue",
             "blue",
             "blue",
             "blue",
             "blue",
             "blue",
             "blue",
             "blue",
             "blue",
             "blue",
             "blue",
             "blue",
             "blue",
             "blue",
             "blue",
             "blue",
             "blue",
             "blue",
             "blue",
             "blue",
             "blue",
             "blue",
             "blue",
             "red"
            ],
            "size": [
             10,
             10,
             10,
             10,
             10,
             10,
             10,
             10,
             10,
             10,
             10,
             10,
             10,
             10,
             10,
             10,
             10,
             10,
             10,
             10,
             10,
             10,
             10,
             10,
             10,
             10,
             10,
             10,
             10,
             10,
             10,
             10,
             10,
             10,
             10,
             10,
             10,
             10,
             10,
             10,
             15
            ]
           },
           "mode": "lines+markers",
           "name": "Polygon",
           "type": "scatter",
           "x": [
            2,
            2,
            9,
            9,
            8,
            8,
            6,
            6,
            4,
            4,
            1,
            1,
            3,
            3,
            5,
            5,
            7,
            7,
            10,
            10,
            2,
            2,
            9,
            8,
            6,
            6,
            4,
            1,
            1,
            3,
            5,
            5,
            7,
            10,
            2,
            2,
            8,
            6,
            4,
            1,
            1
           ],
           "y": [
            5,
            6,
            6,
            7,
            7,
            9,
            9,
            8,
            8,
            10,
            10,
            4,
            4,
            1,
            1,
            2,
            2,
            3,
            3,
            5,
            5,
            6,
            7,
            7,
            9,
            8,
            8,
            10,
            4,
            4,
            1,
            2,
            3,
            5,
            5,
            6,
            7,
            8,
            8,
            10,
            4
           ]
          }
         ],
         "name": "21"
        },
        {
         "data": [
          {
           "line": {
            "shape": "linear"
           },
           "marker": {
            "color": [
             "blue",
             "blue",
             "blue",
             "blue",
             "blue",
             "blue",
             "blue",
             "blue",
             "blue",
             "blue",
             "blue",
             "blue",
             "blue",
             "blue",
             "blue",
             "blue",
             "blue",
             "blue",
             "blue",
             "blue",
             "blue",
             "blue",
             "blue",
             "blue",
             "blue",
             "blue",
             "blue",
             "blue",
             "blue",
             "blue",
             "blue",
             "blue",
             "blue",
             "blue",
             "blue",
             "blue",
             "blue",
             "blue",
             "blue",
             "blue",
             "blue",
             "red"
            ],
            "size": [
             10,
             10,
             10,
             10,
             10,
             10,
             10,
             10,
             10,
             10,
             10,
             10,
             10,
             10,
             10,
             10,
             10,
             10,
             10,
             10,
             10,
             10,
             10,
             10,
             10,
             10,
             10,
             10,
             10,
             10,
             10,
             10,
             10,
             10,
             10,
             10,
             10,
             10,
             10,
             10,
             10,
             15
            ]
           },
           "mode": "lines+markers",
           "name": "Polygon",
           "type": "scatter",
           "x": [
            2,
            2,
            9,
            9,
            8,
            8,
            6,
            6,
            4,
            4,
            1,
            1,
            3,
            3,
            5,
            5,
            7,
            7,
            10,
            10,
            2,
            2,
            9,
            8,
            6,
            6,
            4,
            1,
            1,
            3,
            5,
            5,
            7,
            10,
            2,
            2,
            8,
            6,
            4,
            1,
            1,
            3
           ],
           "y": [
            5,
            6,
            6,
            7,
            7,
            9,
            9,
            8,
            8,
            10,
            10,
            4,
            4,
            1,
            1,
            2,
            2,
            3,
            3,
            5,
            5,
            6,
            7,
            7,
            9,
            8,
            8,
            10,
            4,
            4,
            1,
            2,
            3,
            5,
            5,
            6,
            7,
            8,
            8,
            10,
            4,
            4
           ]
          }
         ],
         "name": "22"
        },
        {
         "data": [
          {
           "line": {
            "shape": "linear"
           },
           "marker": {
            "color": [
             "blue",
             "blue",
             "blue",
             "blue",
             "blue",
             "blue",
             "blue",
             "blue",
             "blue",
             "blue",
             "blue",
             "blue",
             "blue",
             "blue",
             "blue",
             "blue",
             "blue",
             "blue",
             "blue",
             "blue",
             "blue",
             "blue",
             "blue",
             "blue",
             "blue",
             "blue",
             "blue",
             "blue",
             "blue",
             "blue",
             "blue",
             "blue",
             "blue",
             "blue",
             "blue",
             "blue",
             "blue",
             "blue",
             "blue",
             "blue",
             "blue",
             "blue",
             "red"
            ],
            "size": [
             10,
             10,
             10,
             10,
             10,
             10,
             10,
             10,
             10,
             10,
             10,
             10,
             10,
             10,
             10,
             10,
             10,
             10,
             10,
             10,
             10,
             10,
             10,
             10,
             10,
             10,
             10,
             10,
             10,
             10,
             10,
             10,
             10,
             10,
             10,
             10,
             10,
             10,
             10,
             10,
             10,
             10,
             15
            ]
           },
           "mode": "lines+markers",
           "name": "Polygon",
           "type": "scatter",
           "x": [
            2,
            2,
            9,
            9,
            8,
            8,
            6,
            6,
            4,
            4,
            1,
            1,
            3,
            3,
            5,
            5,
            7,
            7,
            10,
            10,
            2,
            2,
            9,
            8,
            6,
            6,
            4,
            1,
            1,
            3,
            5,
            5,
            7,
            10,
            2,
            2,
            8,
            6,
            4,
            1,
            1,
            3,
            5
           ],
           "y": [
            5,
            6,
            6,
            7,
            7,
            9,
            9,
            8,
            8,
            10,
            10,
            4,
            4,
            1,
            1,
            2,
            2,
            3,
            3,
            5,
            5,
            6,
            7,
            7,
            9,
            8,
            8,
            10,
            4,
            4,
            1,
            2,
            3,
            5,
            5,
            6,
            7,
            8,
            8,
            10,
            4,
            4,
            2
           ]
          }
         ],
         "name": "23"
        },
        {
         "data": [
          {
           "line": {
            "shape": "linear"
           },
           "marker": {
            "color": [
             "blue",
             "blue",
             "blue",
             "blue",
             "blue",
             "blue",
             "blue",
             "blue",
             "blue",
             "blue",
             "blue",
             "blue",
             "blue",
             "blue",
             "blue",
             "blue",
             "blue",
             "blue",
             "blue",
             "blue",
             "blue",
             "blue",
             "blue",
             "blue",
             "blue",
             "blue",
             "blue",
             "blue",
             "blue",
             "blue",
             "blue",
             "blue",
             "blue",
             "blue",
             "blue",
             "blue",
             "blue",
             "blue",
             "blue",
             "blue",
             "blue",
             "blue",
             "blue",
             "red"
            ],
            "size": [
             10,
             10,
             10,
             10,
             10,
             10,
             10,
             10,
             10,
             10,
             10,
             10,
             10,
             10,
             10,
             10,
             10,
             10,
             10,
             10,
             10,
             10,
             10,
             10,
             10,
             10,
             10,
             10,
             10,
             10,
             10,
             10,
             10,
             10,
             10,
             10,
             10,
             10,
             10,
             10,
             10,
             10,
             10,
             15
            ]
           },
           "mode": "lines+markers",
           "name": "Polygon",
           "type": "scatter",
           "x": [
            2,
            2,
            9,
            9,
            8,
            8,
            6,
            6,
            4,
            4,
            1,
            1,
            3,
            3,
            5,
            5,
            7,
            7,
            10,
            10,
            2,
            2,
            9,
            8,
            6,
            6,
            4,
            1,
            1,
            3,
            5,
            5,
            7,
            10,
            2,
            2,
            8,
            6,
            4,
            1,
            1,
            3,
            5,
            10
           ],
           "y": [
            5,
            6,
            6,
            7,
            7,
            9,
            9,
            8,
            8,
            10,
            10,
            4,
            4,
            1,
            1,
            2,
            2,
            3,
            3,
            5,
            5,
            6,
            7,
            7,
            9,
            8,
            8,
            10,
            4,
            4,
            1,
            2,
            3,
            5,
            5,
            6,
            7,
            8,
            8,
            10,
            4,
            4,
            2,
            5
           ]
          }
         ],
         "name": "24"
        },
        {
         "data": [
          {
           "line": {
            "shape": "linear"
           },
           "marker": {
            "color": [
             "blue",
             "blue",
             "blue",
             "blue",
             "blue",
             "blue",
             "blue",
             "blue",
             "blue",
             "blue",
             "blue",
             "blue",
             "blue",
             "blue",
             "blue",
             "blue",
             "blue",
             "blue",
             "blue",
             "blue",
             "blue",
             "blue",
             "blue",
             "blue",
             "blue",
             "blue",
             "blue",
             "blue",
             "blue",
             "blue",
             "blue",
             "blue",
             "blue",
             "blue",
             "blue",
             "blue",
             "blue",
             "blue",
             "blue",
             "blue",
             "blue",
             "blue",
             "blue",
             "blue",
             "red"
            ],
            "size": [
             10,
             10,
             10,
             10,
             10,
             10,
             10,
             10,
             10,
             10,
             10,
             10,
             10,
             10,
             10,
             10,
             10,
             10,
             10,
             10,
             10,
             10,
             10,
             10,
             10,
             10,
             10,
             10,
             10,
             10,
             10,
             10,
             10,
             10,
             10,
             10,
             10,
             10,
             10,
             10,
             10,
             10,
             10,
             10,
             15
            ]
           },
           "mode": "lines+markers",
           "name": "Polygon",
           "type": "scatter",
           "x": [
            2,
            2,
            9,
            9,
            8,
            8,
            6,
            6,
            4,
            4,
            1,
            1,
            3,
            3,
            5,
            5,
            7,
            7,
            10,
            10,
            2,
            2,
            9,
            8,
            6,
            6,
            4,
            1,
            1,
            3,
            5,
            5,
            7,
            10,
            2,
            2,
            8,
            6,
            4,
            1,
            1,
            3,
            5,
            10,
            2
           ],
           "y": [
            5,
            6,
            6,
            7,
            7,
            9,
            9,
            8,
            8,
            10,
            10,
            4,
            4,
            1,
            1,
            2,
            2,
            3,
            3,
            5,
            5,
            6,
            7,
            7,
            9,
            8,
            8,
            10,
            4,
            4,
            1,
            2,
            3,
            5,
            5,
            6,
            7,
            8,
            8,
            10,
            4,
            4,
            2,
            5,
            5
           ]
          }
         ],
         "name": "25"
        },
        {
         "data": [
          {
           "line": {
            "shape": "linear"
           },
           "marker": {
            "color": [
             "blue",
             "blue",
             "blue",
             "blue",
             "blue",
             "blue",
             "blue",
             "blue",
             "blue",
             "blue",
             "blue",
             "blue",
             "blue",
             "blue",
             "blue",
             "blue",
             "blue",
             "blue",
             "blue",
             "blue",
             "blue",
             "blue",
             "blue",
             "blue",
             "blue",
             "blue",
             "blue",
             "blue",
             "blue",
             "blue",
             "blue",
             "blue",
             "blue",
             "blue",
             "blue",
             "blue",
             "blue",
             "blue",
             "blue",
             "blue",
             "blue",
             "blue",
             "blue",
             "blue",
             "blue",
             "red"
            ],
            "size": [
             10,
             10,
             10,
             10,
             10,
             10,
             10,
             10,
             10,
             10,
             10,
             10,
             10,
             10,
             10,
             10,
             10,
             10,
             10,
             10,
             10,
             10,
             10,
             10,
             10,
             10,
             10,
             10,
             10,
             10,
             10,
             10,
             10,
             10,
             10,
             10,
             10,
             10,
             10,
             10,
             10,
             10,
             10,
             10,
             10,
             15
            ]
           },
           "mode": "lines+markers",
           "name": "Polygon",
           "type": "scatter",
           "x": [
            2,
            2,
            9,
            9,
            8,
            8,
            6,
            6,
            4,
            4,
            1,
            1,
            3,
            3,
            5,
            5,
            7,
            7,
            10,
            10,
            2,
            2,
            9,
            8,
            6,
            6,
            4,
            1,
            1,
            3,
            5,
            5,
            7,
            10,
            2,
            2,
            8,
            6,
            4,
            1,
            1,
            3,
            5,
            10,
            2,
            2
           ],
           "y": [
            5,
            6,
            6,
            7,
            7,
            9,
            9,
            8,
            8,
            10,
            10,
            4,
            4,
            1,
            1,
            2,
            2,
            3,
            3,
            5,
            5,
            6,
            7,
            7,
            9,
            8,
            8,
            10,
            4,
            4,
            1,
            2,
            3,
            5,
            5,
            6,
            7,
            8,
            8,
            10,
            4,
            4,
            2,
            5,
            5,
            6
           ]
          }
         ],
         "name": "26"
        },
        {
         "data": [
          {
           "line": {
            "shape": "linear"
           },
           "marker": {
            "color": [
             "blue",
             "blue",
             "blue",
             "blue",
             "blue",
             "blue",
             "blue",
             "blue",
             "blue",
             "blue",
             "blue",
             "blue",
             "blue",
             "blue",
             "blue",
             "blue",
             "blue",
             "blue",
             "blue",
             "blue",
             "blue",
             "blue",
             "blue",
             "blue",
             "blue",
             "blue",
             "blue",
             "blue",
             "blue",
             "blue",
             "blue",
             "blue",
             "blue",
             "blue",
             "blue",
             "blue",
             "blue",
             "blue",
             "blue",
             "blue",
             "blue",
             "blue",
             "blue",
             "blue",
             "blue",
             "blue",
             "red"
            ],
            "size": [
             10,
             10,
             10,
             10,
             10,
             10,
             10,
             10,
             10,
             10,
             10,
             10,
             10,
             10,
             10,
             10,
             10,
             10,
             10,
             10,
             10,
             10,
             10,
             10,
             10,
             10,
             10,
             10,
             10,
             10,
             10,
             10,
             10,
             10,
             10,
             10,
             10,
             10,
             10,
             10,
             10,
             10,
             10,
             10,
             10,
             10,
             15
            ]
           },
           "mode": "lines+markers",
           "name": "Polygon",
           "type": "scatter",
           "x": [
            2,
            2,
            9,
            9,
            8,
            8,
            6,
            6,
            4,
            4,
            1,
            1,
            3,
            3,
            5,
            5,
            7,
            7,
            10,
            10,
            2,
            2,
            9,
            8,
            6,
            6,
            4,
            1,
            1,
            3,
            5,
            5,
            7,
            10,
            2,
            2,
            8,
            6,
            4,
            1,
            1,
            3,
            5,
            10,
            2,
            2,
            6
           ],
           "y": [
            5,
            6,
            6,
            7,
            7,
            9,
            9,
            8,
            8,
            10,
            10,
            4,
            4,
            1,
            1,
            2,
            2,
            3,
            3,
            5,
            5,
            6,
            7,
            7,
            9,
            8,
            8,
            10,
            4,
            4,
            1,
            2,
            3,
            5,
            5,
            6,
            7,
            8,
            8,
            10,
            4,
            4,
            2,
            5,
            5,
            6,
            8
           ]
          }
         ],
         "name": "27"
        },
        {
         "data": [
          {
           "line": {
            "shape": "linear"
           },
           "marker": {
            "color": [
             "blue",
             "blue",
             "blue",
             "blue",
             "blue",
             "blue",
             "blue",
             "blue",
             "blue",
             "blue",
             "blue",
             "blue",
             "blue",
             "blue",
             "blue",
             "blue",
             "blue",
             "blue",
             "blue",
             "blue",
             "blue",
             "blue",
             "blue",
             "blue",
             "blue",
             "blue",
             "blue",
             "blue",
             "blue",
             "blue",
             "blue",
             "blue",
             "blue",
             "blue",
             "blue",
             "blue",
             "blue",
             "blue",
             "blue",
             "blue",
             "blue",
             "blue",
             "blue",
             "blue",
             "blue",
             "blue",
             "blue",
             "red"
            ],
            "size": [
             10,
             10,
             10,
             10,
             10,
             10,
             10,
             10,
             10,
             10,
             10,
             10,
             10,
             10,
             10,
             10,
             10,
             10,
             10,
             10,
             10,
             10,
             10,
             10,
             10,
             10,
             10,
             10,
             10,
             10,
             10,
             10,
             10,
             10,
             10,
             10,
             10,
             10,
             10,
             10,
             10,
             10,
             10,
             10,
             10,
             10,
             10,
             15
            ]
           },
           "mode": "lines+markers",
           "name": "Polygon",
           "type": "scatter",
           "x": [
            2,
            2,
            9,
            9,
            8,
            8,
            6,
            6,
            4,
            4,
            1,
            1,
            3,
            3,
            5,
            5,
            7,
            7,
            10,
            10,
            2,
            2,
            9,
            8,
            6,
            6,
            4,
            1,
            1,
            3,
            5,
            5,
            7,
            10,
            2,
            2,
            8,
            6,
            4,
            1,
            1,
            3,
            5,
            10,
            2,
            2,
            6,
            4
           ],
           "y": [
            5,
            6,
            6,
            7,
            7,
            9,
            9,
            8,
            8,
            10,
            10,
            4,
            4,
            1,
            1,
            2,
            2,
            3,
            3,
            5,
            5,
            6,
            7,
            7,
            9,
            8,
            8,
            10,
            4,
            4,
            1,
            2,
            3,
            5,
            5,
            6,
            7,
            8,
            8,
            10,
            4,
            4,
            2,
            5,
            5,
            6,
            8,
            8
           ]
          }
         ],
         "name": "28"
        },
        {
         "data": [
          {
           "line": {
            "shape": "linear"
           },
           "marker": {
            "color": [
             "blue",
             "blue",
             "blue",
             "blue",
             "blue",
             "blue",
             "blue",
             "blue",
             "blue",
             "blue",
             "blue",
             "blue",
             "blue",
             "blue",
             "blue",
             "blue",
             "blue",
             "blue",
             "blue",
             "blue",
             "blue",
             "blue",
             "blue",
             "blue",
             "blue",
             "blue",
             "blue",
             "blue",
             "blue",
             "blue",
             "blue",
             "blue",
             "blue",
             "blue",
             "blue",
             "blue",
             "blue",
             "blue",
             "blue",
             "blue",
             "blue",
             "blue",
             "blue",
             "blue",
             "blue",
             "blue",
             "blue",
             "blue",
             "red"
            ],
            "size": [
             10,
             10,
             10,
             10,
             10,
             10,
             10,
             10,
             10,
             10,
             10,
             10,
             10,
             10,
             10,
             10,
             10,
             10,
             10,
             10,
             10,
             10,
             10,
             10,
             10,
             10,
             10,
             10,
             10,
             10,
             10,
             10,
             10,
             10,
             10,
             10,
             10,
             10,
             10,
             10,
             10,
             10,
             10,
             10,
             10,
             10,
             10,
             10,
             15
            ]
           },
           "mode": "lines+markers",
           "name": "Polygon",
           "type": "scatter",
           "x": [
            2,
            2,
            9,
            9,
            8,
            8,
            6,
            6,
            4,
            4,
            1,
            1,
            3,
            3,
            5,
            5,
            7,
            7,
            10,
            10,
            2,
            2,
            9,
            8,
            6,
            6,
            4,
            1,
            1,
            3,
            5,
            5,
            7,
            10,
            2,
            2,
            8,
            6,
            4,
            1,
            1,
            3,
            5,
            10,
            2,
            2,
            6,
            4,
            1
           ],
           "y": [
            5,
            6,
            6,
            7,
            7,
            9,
            9,
            8,
            8,
            10,
            10,
            4,
            4,
            1,
            1,
            2,
            2,
            3,
            3,
            5,
            5,
            6,
            7,
            7,
            9,
            8,
            8,
            10,
            4,
            4,
            1,
            2,
            3,
            5,
            5,
            6,
            7,
            8,
            8,
            10,
            4,
            4,
            2,
            5,
            5,
            6,
            8,
            8,
            10
           ]
          }
         ],
         "name": "29"
        },
        {
         "data": [
          {
           "line": {
            "shape": "linear"
           },
           "marker": {
            "color": [
             "blue",
             "blue",
             "blue",
             "blue",
             "blue",
             "blue",
             "blue",
             "blue",
             "blue",
             "blue",
             "blue",
             "blue",
             "blue",
             "blue",
             "blue",
             "blue",
             "blue",
             "blue",
             "blue",
             "blue",
             "blue",
             "blue",
             "blue",
             "blue",
             "blue",
             "blue",
             "blue",
             "blue",
             "blue",
             "blue",
             "blue",
             "blue",
             "blue",
             "blue",
             "blue",
             "blue",
             "blue",
             "blue",
             "blue",
             "blue",
             "blue",
             "blue",
             "blue",
             "blue",
             "blue",
             "blue",
             "blue",
             "blue",
             "blue",
             "red"
            ],
            "size": [
             10,
             10,
             10,
             10,
             10,
             10,
             10,
             10,
             10,
             10,
             10,
             10,
             10,
             10,
             10,
             10,
             10,
             10,
             10,
             10,
             10,
             10,
             10,
             10,
             10,
             10,
             10,
             10,
             10,
             10,
             10,
             10,
             10,
             10,
             10,
             10,
             10,
             10,
             10,
             10,
             10,
             10,
             10,
             10,
             10,
             10,
             10,
             10,
             10,
             15
            ]
           },
           "mode": "lines+markers",
           "name": "Polygon",
           "type": "scatter",
           "x": [
            2,
            2,
            9,
            9,
            8,
            8,
            6,
            6,
            4,
            4,
            1,
            1,
            3,
            3,
            5,
            5,
            7,
            7,
            10,
            10,
            2,
            2,
            9,
            8,
            6,
            6,
            4,
            1,
            1,
            3,
            5,
            5,
            7,
            10,
            2,
            2,
            8,
            6,
            4,
            1,
            1,
            3,
            5,
            10,
            2,
            2,
            6,
            4,
            1,
            1
           ],
           "y": [
            5,
            6,
            6,
            7,
            7,
            9,
            9,
            8,
            8,
            10,
            10,
            4,
            4,
            1,
            1,
            2,
            2,
            3,
            3,
            5,
            5,
            6,
            7,
            7,
            9,
            8,
            8,
            10,
            4,
            4,
            1,
            2,
            3,
            5,
            5,
            6,
            7,
            8,
            8,
            10,
            4,
            4,
            2,
            5,
            5,
            6,
            8,
            8,
            10,
            4
           ]
          }
         ],
         "name": "30"
        },
        {
         "data": [
          {
           "line": {
            "shape": "linear"
           },
           "marker": {
            "color": [
             "blue",
             "blue",
             "blue",
             "blue",
             "blue",
             "blue",
             "blue",
             "blue",
             "blue",
             "blue",
             "blue",
             "blue",
             "blue",
             "blue",
             "blue",
             "blue",
             "blue",
             "blue",
             "blue",
             "blue",
             "blue",
             "blue",
             "blue",
             "blue",
             "blue",
             "blue",
             "blue",
             "blue",
             "blue",
             "blue",
             "blue",
             "blue",
             "blue",
             "blue",
             "blue",
             "blue",
             "blue",
             "blue",
             "blue",
             "blue",
             "blue",
             "blue",
             "blue",
             "blue",
             "blue",
             "blue",
             "blue",
             "blue",
             "blue",
             "blue",
             "red"
            ],
            "size": [
             10,
             10,
             10,
             10,
             10,
             10,
             10,
             10,
             10,
             10,
             10,
             10,
             10,
             10,
             10,
             10,
             10,
             10,
             10,
             10,
             10,
             10,
             10,
             10,
             10,
             10,
             10,
             10,
             10,
             10,
             10,
             10,
             10,
             10,
             10,
             10,
             10,
             10,
             10,
             10,
             10,
             10,
             10,
             10,
             10,
             10,
             10,
             10,
             10,
             10,
             15
            ]
           },
           "mode": "lines+markers",
           "name": "Polygon",
           "type": "scatter",
           "x": [
            2,
            2,
            9,
            9,
            8,
            8,
            6,
            6,
            4,
            4,
            1,
            1,
            3,
            3,
            5,
            5,
            7,
            7,
            10,
            10,
            2,
            2,
            9,
            8,
            6,
            6,
            4,
            1,
            1,
            3,
            5,
            5,
            7,
            10,
            2,
            2,
            8,
            6,
            4,
            1,
            1,
            3,
            5,
            10,
            2,
            2,
            6,
            4,
            1,
            1,
            3
           ],
           "y": [
            5,
            6,
            6,
            7,
            7,
            9,
            9,
            8,
            8,
            10,
            10,
            4,
            4,
            1,
            1,
            2,
            2,
            3,
            3,
            5,
            5,
            6,
            7,
            7,
            9,
            8,
            8,
            10,
            4,
            4,
            1,
            2,
            3,
            5,
            5,
            6,
            7,
            8,
            8,
            10,
            4,
            4,
            2,
            5,
            5,
            6,
            8,
            8,
            10,
            4,
            4
           ]
          }
         ],
         "name": "31"
        },
        {
         "data": [
          {
           "line": {
            "shape": "linear"
           },
           "marker": {
            "color": [
             "blue",
             "blue",
             "blue",
             "blue",
             "blue",
             "blue",
             "blue",
             "blue",
             "blue",
             "blue",
             "blue",
             "blue",
             "blue",
             "blue",
             "blue",
             "blue",
             "blue",
             "blue",
             "blue",
             "blue",
             "blue",
             "blue",
             "blue",
             "blue",
             "blue",
             "blue",
             "blue",
             "blue",
             "blue",
             "blue",
             "blue",
             "blue",
             "blue",
             "blue",
             "blue",
             "blue",
             "blue",
             "blue",
             "blue",
             "blue",
             "blue",
             "blue",
             "blue",
             "blue",
             "blue",
             "blue",
             "blue",
             "blue",
             "blue",
             "blue",
             "blue",
             "red"
            ],
            "size": [
             10,
             10,
             10,
             10,
             10,
             10,
             10,
             10,
             10,
             10,
             10,
             10,
             10,
             10,
             10,
             10,
             10,
             10,
             10,
             10,
             10,
             10,
             10,
             10,
             10,
             10,
             10,
             10,
             10,
             10,
             10,
             10,
             10,
             10,
             10,
             10,
             10,
             10,
             10,
             10,
             10,
             10,
             10,
             10,
             10,
             10,
             10,
             10,
             10,
             10,
             10,
             15
            ]
           },
           "mode": "lines+markers",
           "name": "Polygon",
           "type": "scatter",
           "x": [
            2,
            2,
            9,
            9,
            8,
            8,
            6,
            6,
            4,
            4,
            1,
            1,
            3,
            3,
            5,
            5,
            7,
            7,
            10,
            10,
            2,
            2,
            9,
            8,
            6,
            6,
            4,
            1,
            1,
            3,
            5,
            5,
            7,
            10,
            2,
            2,
            8,
            6,
            4,
            1,
            1,
            3,
            5,
            10,
            2,
            2,
            6,
            4,
            1,
            1,
            3,
            10
           ],
           "y": [
            5,
            6,
            6,
            7,
            7,
            9,
            9,
            8,
            8,
            10,
            10,
            4,
            4,
            1,
            1,
            2,
            2,
            3,
            3,
            5,
            5,
            6,
            7,
            7,
            9,
            8,
            8,
            10,
            4,
            4,
            1,
            2,
            3,
            5,
            5,
            6,
            7,
            8,
            8,
            10,
            4,
            4,
            2,
            5,
            5,
            6,
            8,
            8,
            10,
            4,
            4,
            5
           ]
          }
         ],
         "name": "32"
        },
        {
         "data": [
          {
           "line": {
            "shape": "linear"
           },
           "marker": {
            "color": [
             "blue",
             "blue",
             "blue",
             "blue",
             "blue",
             "blue",
             "blue",
             "blue",
             "blue",
             "blue",
             "blue",
             "blue",
             "blue",
             "blue",
             "blue",
             "blue",
             "blue",
             "blue",
             "blue",
             "blue",
             "blue",
             "blue",
             "blue",
             "blue",
             "blue",
             "blue",
             "blue",
             "blue",
             "blue",
             "blue",
             "blue",
             "blue",
             "blue",
             "blue",
             "blue",
             "blue",
             "blue",
             "blue",
             "blue",
             "blue",
             "blue",
             "blue",
             "blue",
             "blue",
             "blue",
             "blue",
             "blue",
             "blue",
             "blue",
             "blue",
             "blue",
             "blue",
             "red"
            ],
            "size": [
             10,
             10,
             10,
             10,
             10,
             10,
             10,
             10,
             10,
             10,
             10,
             10,
             10,
             10,
             10,
             10,
             10,
             10,
             10,
             10,
             10,
             10,
             10,
             10,
             10,
             10,
             10,
             10,
             10,
             10,
             10,
             10,
             10,
             10,
             10,
             10,
             10,
             10,
             10,
             10,
             10,
             10,
             10,
             10,
             10,
             10,
             10,
             10,
             10,
             10,
             10,
             10,
             15
            ]
           },
           "mode": "lines+markers",
           "name": "Polygon",
           "type": "scatter",
           "x": [
            2,
            2,
            9,
            9,
            8,
            8,
            6,
            6,
            4,
            4,
            1,
            1,
            3,
            3,
            5,
            5,
            7,
            7,
            10,
            10,
            2,
            2,
            9,
            8,
            6,
            6,
            4,
            1,
            1,
            3,
            5,
            5,
            7,
            10,
            2,
            2,
            8,
            6,
            4,
            1,
            1,
            3,
            5,
            10,
            2,
            2,
            6,
            4,
            1,
            1,
            3,
            10,
            2
           ],
           "y": [
            5,
            6,
            6,
            7,
            7,
            9,
            9,
            8,
            8,
            10,
            10,
            4,
            4,
            1,
            1,
            2,
            2,
            3,
            3,
            5,
            5,
            6,
            7,
            7,
            9,
            8,
            8,
            10,
            4,
            4,
            1,
            2,
            3,
            5,
            5,
            6,
            7,
            8,
            8,
            10,
            4,
            4,
            2,
            5,
            5,
            6,
            8,
            8,
            10,
            4,
            4,
            5,
            5
           ]
          }
         ],
         "name": "33"
        },
        {
         "data": [
          {
           "line": {
            "shape": "linear"
           },
           "marker": {
            "color": [
             "blue",
             "blue",
             "blue",
             "blue",
             "blue",
             "blue",
             "blue",
             "blue",
             "blue",
             "blue",
             "blue",
             "blue",
             "blue",
             "blue",
             "blue",
             "blue",
             "blue",
             "blue",
             "blue",
             "blue",
             "blue",
             "blue",
             "blue",
             "blue",
             "blue",
             "blue",
             "blue",
             "blue",
             "blue",
             "blue",
             "blue",
             "blue",
             "blue",
             "blue",
             "blue",
             "blue",
             "blue",
             "blue",
             "blue",
             "blue",
             "blue",
             "blue",
             "blue",
             "blue",
             "blue",
             "blue",
             "blue",
             "blue",
             "blue",
             "blue",
             "blue",
             "blue",
             "blue",
             "red"
            ],
            "size": [
             10,
             10,
             10,
             10,
             10,
             10,
             10,
             10,
             10,
             10,
             10,
             10,
             10,
             10,
             10,
             10,
             10,
             10,
             10,
             10,
             10,
             10,
             10,
             10,
             10,
             10,
             10,
             10,
             10,
             10,
             10,
             10,
             10,
             10,
             10,
             10,
             10,
             10,
             10,
             10,
             10,
             10,
             10,
             10,
             10,
             10,
             10,
             10,
             10,
             10,
             10,
             10,
             10,
             15
            ]
           },
           "mode": "lines+markers",
           "name": "Polygon",
           "type": "scatter",
           "x": [
            2,
            2,
            9,
            9,
            8,
            8,
            6,
            6,
            4,
            4,
            1,
            1,
            3,
            3,
            5,
            5,
            7,
            7,
            10,
            10,
            2,
            2,
            9,
            8,
            6,
            6,
            4,
            1,
            1,
            3,
            5,
            5,
            7,
            10,
            2,
            2,
            8,
            6,
            4,
            1,
            1,
            3,
            5,
            10,
            2,
            2,
            6,
            4,
            1,
            1,
            3,
            10,
            2,
            2
           ],
           "y": [
            5,
            6,
            6,
            7,
            7,
            9,
            9,
            8,
            8,
            10,
            10,
            4,
            4,
            1,
            1,
            2,
            2,
            3,
            3,
            5,
            5,
            6,
            7,
            7,
            9,
            8,
            8,
            10,
            4,
            4,
            1,
            2,
            3,
            5,
            5,
            6,
            7,
            8,
            8,
            10,
            4,
            4,
            2,
            5,
            5,
            6,
            8,
            8,
            10,
            4,
            4,
            5,
            5,
            6
           ]
          }
         ],
         "name": "34"
        },
        {
         "data": [
          {
           "line": {
            "shape": "linear"
           },
           "marker": {
            "color": [
             "blue",
             "blue",
             "blue",
             "blue",
             "blue",
             "blue",
             "blue",
             "blue",
             "blue",
             "blue",
             "blue",
             "blue",
             "blue",
             "blue",
             "blue",
             "blue",
             "blue",
             "blue",
             "blue",
             "blue",
             "blue",
             "blue",
             "blue",
             "blue",
             "blue",
             "blue",
             "blue",
             "blue",
             "blue",
             "blue",
             "blue",
             "blue",
             "blue",
             "blue",
             "blue",
             "blue",
             "blue",
             "blue",
             "blue",
             "blue",
             "blue",
             "blue",
             "blue",
             "blue",
             "blue",
             "blue",
             "blue",
             "blue",
             "blue",
             "blue",
             "blue",
             "blue",
             "blue",
             "blue",
             "red"
            ],
            "size": [
             10,
             10,
             10,
             10,
             10,
             10,
             10,
             10,
             10,
             10,
             10,
             10,
             10,
             10,
             10,
             10,
             10,
             10,
             10,
             10,
             10,
             10,
             10,
             10,
             10,
             10,
             10,
             10,
             10,
             10,
             10,
             10,
             10,
             10,
             10,
             10,
             10,
             10,
             10,
             10,
             10,
             10,
             10,
             10,
             10,
             10,
             10,
             10,
             10,
             10,
             10,
             10,
             10,
             10,
             15
            ]
           },
           "mode": "lines+markers",
           "name": "Polygon",
           "type": "scatter",
           "x": [
            2,
            2,
            9,
            9,
            8,
            8,
            6,
            6,
            4,
            4,
            1,
            1,
            3,
            3,
            5,
            5,
            7,
            7,
            10,
            10,
            2,
            2,
            9,
            8,
            6,
            6,
            4,
            1,
            1,
            3,
            5,
            5,
            7,
            10,
            2,
            2,
            8,
            6,
            4,
            1,
            1,
            3,
            5,
            10,
            2,
            2,
            6,
            4,
            1,
            1,
            3,
            10,
            2,
            2,
            4
           ],
           "y": [
            5,
            6,
            6,
            7,
            7,
            9,
            9,
            8,
            8,
            10,
            10,
            4,
            4,
            1,
            1,
            2,
            2,
            3,
            3,
            5,
            5,
            6,
            7,
            7,
            9,
            8,
            8,
            10,
            4,
            4,
            1,
            2,
            3,
            5,
            5,
            6,
            7,
            8,
            8,
            10,
            4,
            4,
            2,
            5,
            5,
            6,
            8,
            8,
            10,
            4,
            4,
            5,
            5,
            6,
            8
           ]
          }
         ],
         "name": "35"
        },
        {
         "data": [
          {
           "line": {
            "shape": "linear"
           },
           "marker": {
            "color": [
             "blue",
             "blue",
             "blue",
             "blue",
             "blue",
             "blue",
             "blue",
             "blue",
             "blue",
             "blue",
             "blue",
             "blue",
             "blue",
             "blue",
             "blue",
             "blue",
             "blue",
             "blue",
             "blue",
             "blue",
             "blue",
             "blue",
             "blue",
             "blue",
             "blue",
             "blue",
             "blue",
             "blue",
             "blue",
             "blue",
             "blue",
             "blue",
             "blue",
             "blue",
             "blue",
             "blue",
             "blue",
             "blue",
             "blue",
             "blue",
             "blue",
             "blue",
             "blue",
             "blue",
             "blue",
             "blue",
             "blue",
             "blue",
             "blue",
             "blue",
             "blue",
             "blue",
             "blue",
             "blue",
             "blue",
             "red"
            ],
            "size": [
             10,
             10,
             10,
             10,
             10,
             10,
             10,
             10,
             10,
             10,
             10,
             10,
             10,
             10,
             10,
             10,
             10,
             10,
             10,
             10,
             10,
             10,
             10,
             10,
             10,
             10,
             10,
             10,
             10,
             10,
             10,
             10,
             10,
             10,
             10,
             10,
             10,
             10,
             10,
             10,
             10,
             10,
             10,
             10,
             10,
             10,
             10,
             10,
             10,
             10,
             10,
             10,
             10,
             10,
             10,
             15
            ]
           },
           "mode": "lines+markers",
           "name": "Polygon",
           "type": "scatter",
           "x": [
            2,
            2,
            9,
            9,
            8,
            8,
            6,
            6,
            4,
            4,
            1,
            1,
            3,
            3,
            5,
            5,
            7,
            7,
            10,
            10,
            2,
            2,
            9,
            8,
            6,
            6,
            4,
            1,
            1,
            3,
            5,
            5,
            7,
            10,
            2,
            2,
            8,
            6,
            4,
            1,
            1,
            3,
            5,
            10,
            2,
            2,
            6,
            4,
            1,
            1,
            3,
            10,
            2,
            2,
            4,
            1
           ],
           "y": [
            5,
            6,
            6,
            7,
            7,
            9,
            9,
            8,
            8,
            10,
            10,
            4,
            4,
            1,
            1,
            2,
            2,
            3,
            3,
            5,
            5,
            6,
            7,
            7,
            9,
            8,
            8,
            10,
            4,
            4,
            1,
            2,
            3,
            5,
            5,
            6,
            7,
            8,
            8,
            10,
            4,
            4,
            2,
            5,
            5,
            6,
            8,
            8,
            10,
            4,
            4,
            5,
            5,
            6,
            8,
            10
           ]
          }
         ],
         "name": "36"
        },
        {
         "data": [
          {
           "line": {
            "shape": "linear"
           },
           "marker": {
            "color": [
             "blue",
             "blue",
             "blue",
             "blue",
             "blue",
             "blue",
             "blue",
             "blue",
             "blue",
             "blue",
             "blue",
             "blue",
             "blue",
             "blue",
             "blue",
             "blue",
             "blue",
             "blue",
             "blue",
             "blue",
             "blue",
             "blue",
             "blue",
             "blue",
             "blue",
             "blue",
             "blue",
             "blue",
             "blue",
             "blue",
             "blue",
             "blue",
             "blue",
             "blue",
             "blue",
             "blue",
             "blue",
             "blue",
             "blue",
             "blue",
             "blue",
             "blue",
             "blue",
             "blue",
             "blue",
             "blue",
             "blue",
             "blue",
             "blue",
             "blue",
             "blue",
             "blue",
             "blue",
             "blue",
             "blue",
             "blue",
             "red"
            ],
            "size": [
             10,
             10,
             10,
             10,
             10,
             10,
             10,
             10,
             10,
             10,
             10,
             10,
             10,
             10,
             10,
             10,
             10,
             10,
             10,
             10,
             10,
             10,
             10,
             10,
             10,
             10,
             10,
             10,
             10,
             10,
             10,
             10,
             10,
             10,
             10,
             10,
             10,
             10,
             10,
             10,
             10,
             10,
             10,
             10,
             10,
             10,
             10,
             10,
             10,
             10,
             10,
             10,
             10,
             10,
             10,
             10,
             15
            ]
           },
           "mode": "lines+markers",
           "name": "Polygon",
           "type": "scatter",
           "x": [
            2,
            2,
            9,
            9,
            8,
            8,
            6,
            6,
            4,
            4,
            1,
            1,
            3,
            3,
            5,
            5,
            7,
            7,
            10,
            10,
            2,
            2,
            9,
            8,
            6,
            6,
            4,
            1,
            1,
            3,
            5,
            5,
            7,
            10,
            2,
            2,
            8,
            6,
            4,
            1,
            1,
            3,
            5,
            10,
            2,
            2,
            6,
            4,
            1,
            1,
            3,
            10,
            2,
            2,
            4,
            1,
            1
           ],
           "y": [
            5,
            6,
            6,
            7,
            7,
            9,
            9,
            8,
            8,
            10,
            10,
            4,
            4,
            1,
            1,
            2,
            2,
            3,
            3,
            5,
            5,
            6,
            7,
            7,
            9,
            8,
            8,
            10,
            4,
            4,
            1,
            2,
            3,
            5,
            5,
            6,
            7,
            8,
            8,
            10,
            4,
            4,
            2,
            5,
            5,
            6,
            8,
            8,
            10,
            4,
            4,
            5,
            5,
            6,
            8,
            10,
            4
           ]
          }
         ],
         "name": "37"
        },
        {
         "data": [
          {
           "line": {
            "shape": "linear"
           },
           "marker": {
            "color": [
             "blue",
             "blue",
             "blue",
             "blue",
             "blue",
             "blue",
             "blue",
             "blue",
             "blue",
             "blue",
             "blue",
             "blue",
             "blue",
             "blue",
             "blue",
             "blue",
             "blue",
             "blue",
             "blue",
             "blue",
             "blue",
             "blue",
             "blue",
             "blue",
             "blue",
             "blue",
             "blue",
             "blue",
             "blue",
             "blue",
             "blue",
             "blue",
             "blue",
             "blue",
             "blue",
             "blue",
             "blue",
             "blue",
             "blue",
             "blue",
             "blue",
             "blue",
             "blue",
             "blue",
             "blue",
             "blue",
             "blue",
             "blue",
             "blue",
             "blue",
             "blue",
             "blue",
             "blue",
             "blue",
             "blue",
             "blue",
             "blue",
             "red"
            ],
            "size": [
             10,
             10,
             10,
             10,
             10,
             10,
             10,
             10,
             10,
             10,
             10,
             10,
             10,
             10,
             10,
             10,
             10,
             10,
             10,
             10,
             10,
             10,
             10,
             10,
             10,
             10,
             10,
             10,
             10,
             10,
             10,
             10,
             10,
             10,
             10,
             10,
             10,
             10,
             10,
             10,
             10,
             10,
             10,
             10,
             10,
             10,
             10,
             10,
             10,
             10,
             10,
             10,
             10,
             10,
             10,
             10,
             10,
             15
            ]
           },
           "mode": "lines+markers",
           "name": "Polygon",
           "type": "scatter",
           "x": [
            2,
            2,
            9,
            9,
            8,
            8,
            6,
            6,
            4,
            4,
            1,
            1,
            3,
            3,
            5,
            5,
            7,
            7,
            10,
            10,
            2,
            2,
            9,
            8,
            6,
            6,
            4,
            1,
            1,
            3,
            5,
            5,
            7,
            10,
            2,
            2,
            8,
            6,
            4,
            1,
            1,
            3,
            5,
            10,
            2,
            2,
            6,
            4,
            1,
            1,
            3,
            10,
            2,
            2,
            4,
            1,
            1,
            10
           ],
           "y": [
            5,
            6,
            6,
            7,
            7,
            9,
            9,
            8,
            8,
            10,
            10,
            4,
            4,
            1,
            1,
            2,
            2,
            3,
            3,
            5,
            5,
            6,
            7,
            7,
            9,
            8,
            8,
            10,
            4,
            4,
            1,
            2,
            3,
            5,
            5,
            6,
            7,
            8,
            8,
            10,
            4,
            4,
            2,
            5,
            5,
            6,
            8,
            8,
            10,
            4,
            4,
            5,
            5,
            6,
            8,
            10,
            4,
            5
           ]
          }
         ],
         "name": "38"
        },
        {
         "data": [
          {
           "line": {
            "shape": "linear"
           },
           "marker": {
            "color": [
             "blue",
             "blue",
             "blue",
             "blue",
             "blue",
             "blue",
             "blue",
             "blue",
             "blue",
             "blue",
             "blue",
             "blue",
             "blue",
             "blue",
             "blue",
             "blue",
             "blue",
             "blue",
             "blue",
             "blue",
             "blue",
             "blue",
             "blue",
             "blue",
             "blue",
             "blue",
             "blue",
             "blue",
             "blue",
             "blue",
             "blue",
             "blue",
             "blue",
             "blue",
             "blue",
             "blue",
             "blue",
             "blue",
             "blue",
             "blue",
             "blue",
             "blue",
             "blue",
             "blue",
             "blue",
             "blue",
             "blue",
             "blue",
             "blue",
             "blue",
             "blue",
             "blue",
             "blue",
             "blue",
             "blue",
             "blue",
             "blue",
             "blue",
             "red"
            ],
            "size": [
             10,
             10,
             10,
             10,
             10,
             10,
             10,
             10,
             10,
             10,
             10,
             10,
             10,
             10,
             10,
             10,
             10,
             10,
             10,
             10,
             10,
             10,
             10,
             10,
             10,
             10,
             10,
             10,
             10,
             10,
             10,
             10,
             10,
             10,
             10,
             10,
             10,
             10,
             10,
             10,
             10,
             10,
             10,
             10,
             10,
             10,
             10,
             10,
             10,
             10,
             10,
             10,
             10,
             10,
             10,
             10,
             10,
             10,
             15
            ]
           },
           "mode": "lines+markers",
           "name": "Polygon",
           "type": "scatter",
           "x": [
            2,
            2,
            9,
            9,
            8,
            8,
            6,
            6,
            4,
            4,
            1,
            1,
            3,
            3,
            5,
            5,
            7,
            7,
            10,
            10,
            2,
            2,
            9,
            8,
            6,
            6,
            4,
            1,
            1,
            3,
            5,
            5,
            7,
            10,
            2,
            2,
            8,
            6,
            4,
            1,
            1,
            3,
            5,
            10,
            2,
            2,
            6,
            4,
            1,
            1,
            3,
            10,
            2,
            2,
            4,
            1,
            1,
            10,
            2
           ],
           "y": [
            5,
            6,
            6,
            7,
            7,
            9,
            9,
            8,
            8,
            10,
            10,
            4,
            4,
            1,
            1,
            2,
            2,
            3,
            3,
            5,
            5,
            6,
            7,
            7,
            9,
            8,
            8,
            10,
            4,
            4,
            1,
            2,
            3,
            5,
            5,
            6,
            7,
            8,
            8,
            10,
            4,
            4,
            2,
            5,
            5,
            6,
            8,
            8,
            10,
            4,
            4,
            5,
            5,
            6,
            8,
            10,
            4,
            5,
            5
           ]
          }
         ],
         "name": "39"
        },
        {
         "data": [
          {
           "line": {
            "shape": "linear"
           },
           "marker": {
            "color": [
             "blue",
             "blue",
             "blue",
             "blue",
             "blue",
             "blue",
             "blue",
             "blue",
             "blue",
             "blue",
             "blue",
             "blue",
             "blue",
             "blue",
             "blue",
             "blue",
             "blue",
             "blue",
             "blue",
             "blue",
             "blue",
             "blue",
             "blue",
             "blue",
             "blue",
             "blue",
             "blue",
             "blue",
             "blue",
             "blue",
             "blue",
             "blue",
             "blue",
             "blue",
             "blue",
             "blue",
             "blue",
             "blue",
             "blue",
             "blue",
             "blue",
             "blue",
             "blue",
             "blue",
             "blue",
             "blue",
             "blue",
             "blue",
             "blue",
             "blue",
             "blue",
             "blue",
             "blue",
             "blue",
             "blue",
             "blue",
             "blue",
             "blue",
             "blue",
             "red"
            ],
            "size": [
             10,
             10,
             10,
             10,
             10,
             10,
             10,
             10,
             10,
             10,
             10,
             10,
             10,
             10,
             10,
             10,
             10,
             10,
             10,
             10,
             10,
             10,
             10,
             10,
             10,
             10,
             10,
             10,
             10,
             10,
             10,
             10,
             10,
             10,
             10,
             10,
             10,
             10,
             10,
             10,
             10,
             10,
             10,
             10,
             10,
             10,
             10,
             10,
             10,
             10,
             10,
             10,
             10,
             10,
             10,
             10,
             10,
             10,
             10,
             15
            ]
           },
           "mode": "lines+markers",
           "name": "Polygon",
           "type": "scatter",
           "x": [
            2,
            2,
            9,
            9,
            8,
            8,
            6,
            6,
            4,
            4,
            1,
            1,
            3,
            3,
            5,
            5,
            7,
            7,
            10,
            10,
            2,
            2,
            9,
            8,
            6,
            6,
            4,
            1,
            1,
            3,
            5,
            5,
            7,
            10,
            2,
            2,
            8,
            6,
            4,
            1,
            1,
            3,
            5,
            10,
            2,
            2,
            6,
            4,
            1,
            1,
            3,
            10,
            2,
            2,
            4,
            1,
            1,
            10,
            2,
            2
           ],
           "y": [
            5,
            6,
            6,
            7,
            7,
            9,
            9,
            8,
            8,
            10,
            10,
            4,
            4,
            1,
            1,
            2,
            2,
            3,
            3,
            5,
            5,
            6,
            7,
            7,
            9,
            8,
            8,
            10,
            4,
            4,
            1,
            2,
            3,
            5,
            5,
            6,
            7,
            8,
            8,
            10,
            4,
            4,
            2,
            5,
            5,
            6,
            8,
            8,
            10,
            4,
            4,
            5,
            5,
            6,
            8,
            10,
            4,
            5,
            5,
            6
           ]
          }
         ],
         "name": "40"
        },
        {
         "data": [
          {
           "line": {
            "shape": "linear"
           },
           "marker": {
            "color": [
             "blue",
             "blue",
             "blue",
             "blue",
             "blue",
             "blue",
             "blue",
             "blue",
             "blue",
             "blue",
             "blue",
             "blue",
             "blue",
             "blue",
             "blue",
             "blue",
             "blue",
             "blue",
             "blue",
             "blue",
             "blue",
             "blue",
             "blue",
             "blue",
             "blue",
             "blue",
             "blue",
             "blue",
             "blue",
             "blue",
             "blue",
             "blue",
             "blue",
             "blue",
             "blue",
             "blue",
             "blue",
             "blue",
             "blue",
             "blue",
             "blue",
             "blue",
             "blue",
             "blue",
             "blue",
             "blue",
             "blue",
             "blue",
             "blue",
             "blue",
             "blue",
             "blue",
             "blue",
             "blue",
             "blue",
             "blue",
             "blue",
             "blue",
             "blue",
             "blue",
             "red"
            ],
            "size": [
             10,
             10,
             10,
             10,
             10,
             10,
             10,
             10,
             10,
             10,
             10,
             10,
             10,
             10,
             10,
             10,
             10,
             10,
             10,
             10,
             10,
             10,
             10,
             10,
             10,
             10,
             10,
             10,
             10,
             10,
             10,
             10,
             10,
             10,
             10,
             10,
             10,
             10,
             10,
             10,
             10,
             10,
             10,
             10,
             10,
             10,
             10,
             10,
             10,
             10,
             10,
             10,
             10,
             10,
             10,
             10,
             10,
             10,
             10,
             10,
             15
            ]
           },
           "mode": "lines+markers",
           "name": "Polygon",
           "type": "scatter",
           "x": [
            2,
            2,
            9,
            9,
            8,
            8,
            6,
            6,
            4,
            4,
            1,
            1,
            3,
            3,
            5,
            5,
            7,
            7,
            10,
            10,
            2,
            2,
            9,
            8,
            6,
            6,
            4,
            1,
            1,
            3,
            5,
            5,
            7,
            10,
            2,
            2,
            8,
            6,
            4,
            1,
            1,
            3,
            5,
            10,
            2,
            2,
            6,
            4,
            1,
            1,
            3,
            10,
            2,
            2,
            4,
            1,
            1,
            10,
            2,
            2,
            1
           ],
           "y": [
            5,
            6,
            6,
            7,
            7,
            9,
            9,
            8,
            8,
            10,
            10,
            4,
            4,
            1,
            1,
            2,
            2,
            3,
            3,
            5,
            5,
            6,
            7,
            7,
            9,
            8,
            8,
            10,
            4,
            4,
            1,
            2,
            3,
            5,
            5,
            6,
            7,
            8,
            8,
            10,
            4,
            4,
            2,
            5,
            5,
            6,
            8,
            8,
            10,
            4,
            4,
            5,
            5,
            6,
            8,
            10,
            4,
            5,
            5,
            6,
            10
           ]
          }
         ],
         "name": "41"
        },
        {
         "data": [
          {
           "line": {
            "shape": "linear"
           },
           "marker": {
            "color": [
             "blue",
             "blue",
             "blue",
             "blue",
             "blue",
             "blue",
             "blue",
             "blue",
             "blue",
             "blue",
             "blue",
             "blue",
             "blue",
             "blue",
             "blue",
             "blue",
             "blue",
             "blue",
             "blue",
             "blue",
             "blue",
             "blue",
             "blue",
             "blue",
             "blue",
             "blue",
             "blue",
             "blue",
             "blue",
             "blue",
             "blue",
             "blue",
             "blue",
             "blue",
             "blue",
             "blue",
             "blue",
             "blue",
             "blue",
             "blue",
             "blue",
             "blue",
             "blue",
             "blue",
             "blue",
             "blue",
             "blue",
             "blue",
             "blue",
             "blue",
             "blue",
             "blue",
             "blue",
             "blue",
             "blue",
             "blue",
             "blue",
             "blue",
             "blue",
             "blue",
             "blue",
             "red"
            ],
            "size": [
             10,
             10,
             10,
             10,
             10,
             10,
             10,
             10,
             10,
             10,
             10,
             10,
             10,
             10,
             10,
             10,
             10,
             10,
             10,
             10,
             10,
             10,
             10,
             10,
             10,
             10,
             10,
             10,
             10,
             10,
             10,
             10,
             10,
             10,
             10,
             10,
             10,
             10,
             10,
             10,
             10,
             10,
             10,
             10,
             10,
             10,
             10,
             10,
             10,
             10,
             10,
             10,
             10,
             10,
             10,
             10,
             10,
             10,
             10,
             10,
             10,
             15
            ]
           },
           "mode": "lines+markers",
           "name": "Polygon",
           "type": "scatter",
           "x": [
            2,
            2,
            9,
            9,
            8,
            8,
            6,
            6,
            4,
            4,
            1,
            1,
            3,
            3,
            5,
            5,
            7,
            7,
            10,
            10,
            2,
            2,
            9,
            8,
            6,
            6,
            4,
            1,
            1,
            3,
            5,
            5,
            7,
            10,
            2,
            2,
            8,
            6,
            4,
            1,
            1,
            3,
            5,
            10,
            2,
            2,
            6,
            4,
            1,
            1,
            3,
            10,
            2,
            2,
            4,
            1,
            1,
            10,
            2,
            2,
            1,
            1
           ],
           "y": [
            5,
            6,
            6,
            7,
            7,
            9,
            9,
            8,
            8,
            10,
            10,
            4,
            4,
            1,
            1,
            2,
            2,
            3,
            3,
            5,
            5,
            6,
            7,
            7,
            9,
            8,
            8,
            10,
            4,
            4,
            1,
            2,
            3,
            5,
            5,
            6,
            7,
            8,
            8,
            10,
            4,
            4,
            2,
            5,
            5,
            6,
            8,
            8,
            10,
            4,
            4,
            5,
            5,
            6,
            8,
            10,
            4,
            5,
            5,
            6,
            10,
            4
           ]
          }
         ],
         "name": "42"
        },
        {
         "data": [
          {
           "line": {
            "shape": "linear"
           },
           "marker": {
            "color": [
             "blue",
             "blue",
             "blue",
             "blue",
             "blue",
             "blue",
             "blue",
             "blue",
             "blue",
             "blue",
             "blue",
             "blue",
             "blue",
             "blue",
             "blue",
             "blue",
             "blue",
             "blue",
             "blue",
             "blue",
             "blue",
             "blue",
             "blue",
             "blue",
             "blue",
             "blue",
             "blue",
             "blue",
             "blue",
             "blue",
             "blue",
             "blue",
             "blue",
             "blue",
             "blue",
             "blue",
             "blue",
             "blue",
             "blue",
             "blue",
             "blue",
             "blue",
             "blue",
             "blue",
             "blue",
             "blue",
             "blue",
             "blue",
             "blue",
             "blue",
             "blue",
             "blue",
             "blue",
             "blue",
             "blue",
             "blue",
             "blue",
             "blue",
             "blue",
             "blue",
             "blue",
             "blue",
             "red"
            ],
            "size": [
             10,
             10,
             10,
             10,
             10,
             10,
             10,
             10,
             10,
             10,
             10,
             10,
             10,
             10,
             10,
             10,
             10,
             10,
             10,
             10,
             10,
             10,
             10,
             10,
             10,
             10,
             10,
             10,
             10,
             10,
             10,
             10,
             10,
             10,
             10,
             10,
             10,
             10,
             10,
             10,
             10,
             10,
             10,
             10,
             10,
             10,
             10,
             10,
             10,
             10,
             10,
             10,
             10,
             10,
             10,
             10,
             10,
             10,
             10,
             10,
             10,
             10,
             15
            ]
           },
           "mode": "lines+markers",
           "name": "Polygon",
           "type": "scatter",
           "x": [
            2,
            2,
            9,
            9,
            8,
            8,
            6,
            6,
            4,
            4,
            1,
            1,
            3,
            3,
            5,
            5,
            7,
            7,
            10,
            10,
            2,
            2,
            9,
            8,
            6,
            6,
            4,
            1,
            1,
            3,
            5,
            5,
            7,
            10,
            2,
            2,
            8,
            6,
            4,
            1,
            1,
            3,
            5,
            10,
            2,
            2,
            6,
            4,
            1,
            1,
            3,
            10,
            2,
            2,
            4,
            1,
            1,
            10,
            2,
            2,
            1,
            1,
            2
           ],
           "y": [
            5,
            6,
            6,
            7,
            7,
            9,
            9,
            8,
            8,
            10,
            10,
            4,
            4,
            1,
            1,
            2,
            2,
            3,
            3,
            5,
            5,
            6,
            7,
            7,
            9,
            8,
            8,
            10,
            4,
            4,
            1,
            2,
            3,
            5,
            5,
            6,
            7,
            8,
            8,
            10,
            4,
            4,
            2,
            5,
            5,
            6,
            8,
            8,
            10,
            4,
            4,
            5,
            5,
            6,
            8,
            10,
            4,
            5,
            5,
            6,
            10,
            4,
            5
           ]
          }
         ],
         "name": "43"
        },
        {
         "data": [
          {
           "line": {
            "shape": "linear"
           },
           "marker": {
            "color": [
             "blue",
             "blue",
             "blue",
             "blue",
             "blue",
             "blue",
             "blue",
             "blue",
             "blue",
             "blue",
             "blue",
             "blue",
             "blue",
             "blue",
             "blue",
             "blue",
             "blue",
             "blue",
             "blue",
             "blue",
             "blue",
             "blue",
             "blue",
             "blue",
             "blue",
             "blue",
             "blue",
             "blue",
             "blue",
             "blue",
             "blue",
             "blue",
             "blue",
             "blue",
             "blue",
             "blue",
             "blue",
             "blue",
             "blue",
             "blue",
             "blue",
             "blue",
             "blue",
             "blue",
             "blue",
             "blue",
             "blue",
             "blue",
             "blue",
             "blue",
             "blue",
             "blue",
             "blue",
             "blue",
             "blue",
             "blue",
             "blue",
             "blue",
             "blue",
             "blue",
             "blue",
             "blue",
             "blue",
             "red"
            ],
            "size": [
             10,
             10,
             10,
             10,
             10,
             10,
             10,
             10,
             10,
             10,
             10,
             10,
             10,
             10,
             10,
             10,
             10,
             10,
             10,
             10,
             10,
             10,
             10,
             10,
             10,
             10,
             10,
             10,
             10,
             10,
             10,
             10,
             10,
             10,
             10,
             10,
             10,
             10,
             10,
             10,
             10,
             10,
             10,
             10,
             10,
             10,
             10,
             10,
             10,
             10,
             10,
             10,
             10,
             10,
             10,
             10,
             10,
             10,
             10,
             10,
             10,
             10,
             10,
             15
            ]
           },
           "mode": "lines+markers",
           "name": "Polygon",
           "type": "scatter",
           "x": [
            2,
            2,
            9,
            9,
            8,
            8,
            6,
            6,
            4,
            4,
            1,
            1,
            3,
            3,
            5,
            5,
            7,
            7,
            10,
            10,
            2,
            2,
            9,
            8,
            6,
            6,
            4,
            1,
            1,
            3,
            5,
            5,
            7,
            10,
            2,
            2,
            8,
            6,
            4,
            1,
            1,
            3,
            5,
            10,
            2,
            2,
            6,
            4,
            1,
            1,
            3,
            10,
            2,
            2,
            4,
            1,
            1,
            10,
            2,
            2,
            1,
            1,
            2,
            1
           ],
           "y": [
            5,
            6,
            6,
            7,
            7,
            9,
            9,
            8,
            8,
            10,
            10,
            4,
            4,
            1,
            1,
            2,
            2,
            3,
            3,
            5,
            5,
            6,
            7,
            7,
            9,
            8,
            8,
            10,
            4,
            4,
            1,
            2,
            3,
            5,
            5,
            6,
            7,
            8,
            8,
            10,
            4,
            4,
            2,
            5,
            5,
            6,
            8,
            8,
            10,
            4,
            4,
            5,
            5,
            6,
            8,
            10,
            4,
            5,
            5,
            6,
            10,
            4,
            5,
            10
           ]
          }
         ],
         "name": "44"
        }
       ],
       "layout": {
        "height": 700,
        "hovermode": "closest",
        "sliders": [
         {
          "active": 0,
          "currentvalue": {
           "font": {
            "size": 20
           },
           "prefix": "Stage:",
           "visible": true,
           "xanchor": "right"
          },
          "len": 0.9,
          "pad": {
           "b": 10,
           "t": 50
          },
          "steps": [
           {
            "args": [
             [
              "1"
             ],
             {
              "frame": {
               "duration": 300,
               "redraw": false
              },
              "mode": "immediate",
              "transition": {
               "duration": 300
              }
             }
            ],
            "label": "1",
            "method": "animate"
           },
           {
            "args": [
             [
              "2"
             ],
             {
              "frame": {
               "duration": 300,
               "redraw": false
              },
              "mode": "immediate",
              "transition": {
               "duration": 300
              }
             }
            ],
            "label": "2",
            "method": "animate"
           },
           {
            "args": [
             [
              "3"
             ],
             {
              "frame": {
               "duration": 300,
               "redraw": false
              },
              "mode": "immediate",
              "transition": {
               "duration": 300
              }
             }
            ],
            "label": "3",
            "method": "animate"
           },
           {
            "args": [
             [
              "4"
             ],
             {
              "frame": {
               "duration": 300,
               "redraw": false
              },
              "mode": "immediate",
              "transition": {
               "duration": 300
              }
             }
            ],
            "label": "4",
            "method": "animate"
           },
           {
            "args": [
             [
              "5"
             ],
             {
              "frame": {
               "duration": 300,
               "redraw": false
              },
              "mode": "immediate",
              "transition": {
               "duration": 300
              }
             }
            ],
            "label": "5",
            "method": "animate"
           },
           {
            "args": [
             [
              "6"
             ],
             {
              "frame": {
               "duration": 300,
               "redraw": false
              },
              "mode": "immediate",
              "transition": {
               "duration": 300
              }
             }
            ],
            "label": "6",
            "method": "animate"
           },
           {
            "args": [
             [
              "7"
             ],
             {
              "frame": {
               "duration": 300,
               "redraw": false
              },
              "mode": "immediate",
              "transition": {
               "duration": 300
              }
             }
            ],
            "label": "7",
            "method": "animate"
           },
           {
            "args": [
             [
              "8"
             ],
             {
              "frame": {
               "duration": 300,
               "redraw": false
              },
              "mode": "immediate",
              "transition": {
               "duration": 300
              }
             }
            ],
            "label": "8",
            "method": "animate"
           },
           {
            "args": [
             [
              "9"
             ],
             {
              "frame": {
               "duration": 300,
               "redraw": false
              },
              "mode": "immediate",
              "transition": {
               "duration": 300
              }
             }
            ],
            "label": "9",
            "method": "animate"
           },
           {
            "args": [
             [
              "10"
             ],
             {
              "frame": {
               "duration": 300,
               "redraw": false
              },
              "mode": "immediate",
              "transition": {
               "duration": 300
              }
             }
            ],
            "label": "10",
            "method": "animate"
           },
           {
            "args": [
             [
              "11"
             ],
             {
              "frame": {
               "duration": 300,
               "redraw": false
              },
              "mode": "immediate",
              "transition": {
               "duration": 300
              }
             }
            ],
            "label": "11",
            "method": "animate"
           },
           {
            "args": [
             [
              "12"
             ],
             {
              "frame": {
               "duration": 300,
               "redraw": false
              },
              "mode": "immediate",
              "transition": {
               "duration": 300
              }
             }
            ],
            "label": "12",
            "method": "animate"
           },
           {
            "args": [
             [
              "13"
             ],
             {
              "frame": {
               "duration": 300,
               "redraw": false
              },
              "mode": "immediate",
              "transition": {
               "duration": 300
              }
             }
            ],
            "label": "13",
            "method": "animate"
           },
           {
            "args": [
             [
              "14"
             ],
             {
              "frame": {
               "duration": 300,
               "redraw": false
              },
              "mode": "immediate",
              "transition": {
               "duration": 300
              }
             }
            ],
            "label": "14",
            "method": "animate"
           },
           {
            "args": [
             [
              "15"
             ],
             {
              "frame": {
               "duration": 300,
               "redraw": false
              },
              "mode": "immediate",
              "transition": {
               "duration": 300
              }
             }
            ],
            "label": "15",
            "method": "animate"
           },
           {
            "args": [
             [
              "16"
             ],
             {
              "frame": {
               "duration": 300,
               "redraw": false
              },
              "mode": "immediate",
              "transition": {
               "duration": 300
              }
             }
            ],
            "label": "16",
            "method": "animate"
           },
           {
            "args": [
             [
              "17"
             ],
             {
              "frame": {
               "duration": 300,
               "redraw": false
              },
              "mode": "immediate",
              "transition": {
               "duration": 300
              }
             }
            ],
            "label": "17",
            "method": "animate"
           },
           {
            "args": [
             [
              "18"
             ],
             {
              "frame": {
               "duration": 300,
               "redraw": false
              },
              "mode": "immediate",
              "transition": {
               "duration": 300
              }
             }
            ],
            "label": "18",
            "method": "animate"
           },
           {
            "args": [
             [
              "19"
             ],
             {
              "frame": {
               "duration": 300,
               "redraw": false
              },
              "mode": "immediate",
              "transition": {
               "duration": 300
              }
             }
            ],
            "label": "19",
            "method": "animate"
           },
           {
            "args": [
             [
              "20"
             ],
             {
              "frame": {
               "duration": 300,
               "redraw": false
              },
              "mode": "immediate",
              "transition": {
               "duration": 300
              }
             }
            ],
            "label": "20",
            "method": "animate"
           },
           {
            "args": [
             [
              "21"
             ],
             {
              "frame": {
               "duration": 300,
               "redraw": false
              },
              "mode": "immediate",
              "transition": {
               "duration": 300
              }
             }
            ],
            "label": "21",
            "method": "animate"
           },
           {
            "args": [
             [
              "22"
             ],
             {
              "frame": {
               "duration": 300,
               "redraw": false
              },
              "mode": "immediate",
              "transition": {
               "duration": 300
              }
             }
            ],
            "label": "22",
            "method": "animate"
           },
           {
            "args": [
             [
              "23"
             ],
             {
              "frame": {
               "duration": 300,
               "redraw": false
              },
              "mode": "immediate",
              "transition": {
               "duration": 300
              }
             }
            ],
            "label": "23",
            "method": "animate"
           },
           {
            "args": [
             [
              "24"
             ],
             {
              "frame": {
               "duration": 300,
               "redraw": false
              },
              "mode": "immediate",
              "transition": {
               "duration": 300
              }
             }
            ],
            "label": "24",
            "method": "animate"
           },
           {
            "args": [
             [
              "25"
             ],
             {
              "frame": {
               "duration": 300,
               "redraw": false
              },
              "mode": "immediate",
              "transition": {
               "duration": 300
              }
             }
            ],
            "label": "25",
            "method": "animate"
           },
           {
            "args": [
             [
              "26"
             ],
             {
              "frame": {
               "duration": 300,
               "redraw": false
              },
              "mode": "immediate",
              "transition": {
               "duration": 300
              }
             }
            ],
            "label": "26",
            "method": "animate"
           },
           {
            "args": [
             [
              "27"
             ],
             {
              "frame": {
               "duration": 300,
               "redraw": false
              },
              "mode": "immediate",
              "transition": {
               "duration": 300
              }
             }
            ],
            "label": "27",
            "method": "animate"
           },
           {
            "args": [
             [
              "28"
             ],
             {
              "frame": {
               "duration": 300,
               "redraw": false
              },
              "mode": "immediate",
              "transition": {
               "duration": 300
              }
             }
            ],
            "label": "28",
            "method": "animate"
           },
           {
            "args": [
             [
              "29"
             ],
             {
              "frame": {
               "duration": 300,
               "redraw": false
              },
              "mode": "immediate",
              "transition": {
               "duration": 300
              }
             }
            ],
            "label": "29",
            "method": "animate"
           },
           {
            "args": [
             [
              "30"
             ],
             {
              "frame": {
               "duration": 300,
               "redraw": false
              },
              "mode": "immediate",
              "transition": {
               "duration": 300
              }
             }
            ],
            "label": "30",
            "method": "animate"
           },
           {
            "args": [
             [
              "31"
             ],
             {
              "frame": {
               "duration": 300,
               "redraw": false
              },
              "mode": "immediate",
              "transition": {
               "duration": 300
              }
             }
            ],
            "label": "31",
            "method": "animate"
           },
           {
            "args": [
             [
              "32"
             ],
             {
              "frame": {
               "duration": 300,
               "redraw": false
              },
              "mode": "immediate",
              "transition": {
               "duration": 300
              }
             }
            ],
            "label": "32",
            "method": "animate"
           },
           {
            "args": [
             [
              "33"
             ],
             {
              "frame": {
               "duration": 300,
               "redraw": false
              },
              "mode": "immediate",
              "transition": {
               "duration": 300
              }
             }
            ],
            "label": "33",
            "method": "animate"
           },
           {
            "args": [
             [
              "34"
             ],
             {
              "frame": {
               "duration": 300,
               "redraw": false
              },
              "mode": "immediate",
              "transition": {
               "duration": 300
              }
             }
            ],
            "label": "34",
            "method": "animate"
           },
           {
            "args": [
             [
              "35"
             ],
             {
              "frame": {
               "duration": 300,
               "redraw": false
              },
              "mode": "immediate",
              "transition": {
               "duration": 300
              }
             }
            ],
            "label": "35",
            "method": "animate"
           },
           {
            "args": [
             [
              "36"
             ],
             {
              "frame": {
               "duration": 300,
               "redraw": false
              },
              "mode": "immediate",
              "transition": {
               "duration": 300
              }
             }
            ],
            "label": "36",
            "method": "animate"
           },
           {
            "args": [
             [
              "37"
             ],
             {
              "frame": {
               "duration": 300,
               "redraw": false
              },
              "mode": "immediate",
              "transition": {
               "duration": 300
              }
             }
            ],
            "label": "37",
            "method": "animate"
           },
           {
            "args": [
             [
              "38"
             ],
             {
              "frame": {
               "duration": 300,
               "redraw": false
              },
              "mode": "immediate",
              "transition": {
               "duration": 300
              }
             }
            ],
            "label": "38",
            "method": "animate"
           },
           {
            "args": [
             [
              "39"
             ],
             {
              "frame": {
               "duration": 300,
               "redraw": false
              },
              "mode": "immediate",
              "transition": {
               "duration": 300
              }
             }
            ],
            "label": "39",
            "method": "animate"
           },
           {
            "args": [
             [
              "40"
             ],
             {
              "frame": {
               "duration": 300,
               "redraw": false
              },
              "mode": "immediate",
              "transition": {
               "duration": 300
              }
             }
            ],
            "label": "40",
            "method": "animate"
           },
           {
            "args": [
             [
              "41"
             ],
             {
              "frame": {
               "duration": 300,
               "redraw": false
              },
              "mode": "immediate",
              "transition": {
               "duration": 300
              }
             }
            ],
            "label": "41",
            "method": "animate"
           },
           {
            "args": [
             [
              "42"
             ],
             {
              "frame": {
               "duration": 300,
               "redraw": false
              },
              "mode": "immediate",
              "transition": {
               "duration": 300
              }
             }
            ],
            "label": "42",
            "method": "animate"
           },
           {
            "args": [
             [
              "43"
             ],
             {
              "frame": {
               "duration": 300,
               "redraw": false
              },
              "mode": "immediate",
              "transition": {
               "duration": 300
              }
             }
            ],
            "label": "43",
            "method": "animate"
           },
           {
            "args": [
             [
              "44"
             ],
             {
              "frame": {
               "duration": 300,
               "redraw": false
              },
              "mode": "immediate",
              "transition": {
               "duration": 300
              }
             }
            ],
            "label": "44",
            "method": "animate"
           }
          ],
          "transition": {
           "duration": 300,
           "easing": "cubic-in-out"
          },
          "x": 0.1,
          "xanchor": "left",
          "y": 0,
          "yanchor": "top"
         }
        ],
        "template": {
         "data": {
          "bar": [
           {
            "error_x": {
             "color": "#2a3f5f"
            },
            "error_y": {
             "color": "#2a3f5f"
            },
            "marker": {
             "line": {
              "color": "#E5ECF6",
              "width": 0.5
             },
             "pattern": {
              "fillmode": "overlay",
              "size": 10,
              "solidity": 0.2
             }
            },
            "type": "bar"
           }
          ],
          "barpolar": [
           {
            "marker": {
             "line": {
              "color": "#E5ECF6",
              "width": 0.5
             },
             "pattern": {
              "fillmode": "overlay",
              "size": 10,
              "solidity": 0.2
             }
            },
            "type": "barpolar"
           }
          ],
          "carpet": [
           {
            "aaxis": {
             "endlinecolor": "#2a3f5f",
             "gridcolor": "white",
             "linecolor": "white",
             "minorgridcolor": "white",
             "startlinecolor": "#2a3f5f"
            },
            "baxis": {
             "endlinecolor": "#2a3f5f",
             "gridcolor": "white",
             "linecolor": "white",
             "minorgridcolor": "white",
             "startlinecolor": "#2a3f5f"
            },
            "type": "carpet"
           }
          ],
          "choropleth": [
           {
            "colorbar": {
             "outlinewidth": 0,
             "ticks": ""
            },
            "type": "choropleth"
           }
          ],
          "contour": [
           {
            "colorbar": {
             "outlinewidth": 0,
             "ticks": ""
            },
            "colorscale": [
             [
              0,
              "#0d0887"
             ],
             [
              0.1111111111111111,
              "#46039f"
             ],
             [
              0.2222222222222222,
              "#7201a8"
             ],
             [
              0.3333333333333333,
              "#9c179e"
             ],
             [
              0.4444444444444444,
              "#bd3786"
             ],
             [
              0.5555555555555556,
              "#d8576b"
             ],
             [
              0.6666666666666666,
              "#ed7953"
             ],
             [
              0.7777777777777778,
              "#fb9f3a"
             ],
             [
              0.8888888888888888,
              "#fdca26"
             ],
             [
              1,
              "#f0f921"
             ]
            ],
            "type": "contour"
           }
          ],
          "contourcarpet": [
           {
            "colorbar": {
             "outlinewidth": 0,
             "ticks": ""
            },
            "type": "contourcarpet"
           }
          ],
          "heatmap": [
           {
            "colorbar": {
             "outlinewidth": 0,
             "ticks": ""
            },
            "colorscale": [
             [
              0,
              "#0d0887"
             ],
             [
              0.1111111111111111,
              "#46039f"
             ],
             [
              0.2222222222222222,
              "#7201a8"
             ],
             [
              0.3333333333333333,
              "#9c179e"
             ],
             [
              0.4444444444444444,
              "#bd3786"
             ],
             [
              0.5555555555555556,
              "#d8576b"
             ],
             [
              0.6666666666666666,
              "#ed7953"
             ],
             [
              0.7777777777777778,
              "#fb9f3a"
             ],
             [
              0.8888888888888888,
              "#fdca26"
             ],
             [
              1,
              "#f0f921"
             ]
            ],
            "type": "heatmap"
           }
          ],
          "heatmapgl": [
           {
            "colorbar": {
             "outlinewidth": 0,
             "ticks": ""
            },
            "colorscale": [
             [
              0,
              "#0d0887"
             ],
             [
              0.1111111111111111,
              "#46039f"
             ],
             [
              0.2222222222222222,
              "#7201a8"
             ],
             [
              0.3333333333333333,
              "#9c179e"
             ],
             [
              0.4444444444444444,
              "#bd3786"
             ],
             [
              0.5555555555555556,
              "#d8576b"
             ],
             [
              0.6666666666666666,
              "#ed7953"
             ],
             [
              0.7777777777777778,
              "#fb9f3a"
             ],
             [
              0.8888888888888888,
              "#fdca26"
             ],
             [
              1,
              "#f0f921"
             ]
            ],
            "type": "heatmapgl"
           }
          ],
          "histogram": [
           {
            "marker": {
             "pattern": {
              "fillmode": "overlay",
              "size": 10,
              "solidity": 0.2
             }
            },
            "type": "histogram"
           }
          ],
          "histogram2d": [
           {
            "colorbar": {
             "outlinewidth": 0,
             "ticks": ""
            },
            "colorscale": [
             [
              0,
              "#0d0887"
             ],
             [
              0.1111111111111111,
              "#46039f"
             ],
             [
              0.2222222222222222,
              "#7201a8"
             ],
             [
              0.3333333333333333,
              "#9c179e"
             ],
             [
              0.4444444444444444,
              "#bd3786"
             ],
             [
              0.5555555555555556,
              "#d8576b"
             ],
             [
              0.6666666666666666,
              "#ed7953"
             ],
             [
              0.7777777777777778,
              "#fb9f3a"
             ],
             [
              0.8888888888888888,
              "#fdca26"
             ],
             [
              1,
              "#f0f921"
             ]
            ],
            "type": "histogram2d"
           }
          ],
          "histogram2dcontour": [
           {
            "colorbar": {
             "outlinewidth": 0,
             "ticks": ""
            },
            "colorscale": [
             [
              0,
              "#0d0887"
             ],
             [
              0.1111111111111111,
              "#46039f"
             ],
             [
              0.2222222222222222,
              "#7201a8"
             ],
             [
              0.3333333333333333,
              "#9c179e"
             ],
             [
              0.4444444444444444,
              "#bd3786"
             ],
             [
              0.5555555555555556,
              "#d8576b"
             ],
             [
              0.6666666666666666,
              "#ed7953"
             ],
             [
              0.7777777777777778,
              "#fb9f3a"
             ],
             [
              0.8888888888888888,
              "#fdca26"
             ],
             [
              1,
              "#f0f921"
             ]
            ],
            "type": "histogram2dcontour"
           }
          ],
          "mesh3d": [
           {
            "colorbar": {
             "outlinewidth": 0,
             "ticks": ""
            },
            "type": "mesh3d"
           }
          ],
          "parcoords": [
           {
            "line": {
             "colorbar": {
              "outlinewidth": 0,
              "ticks": ""
             }
            },
            "type": "parcoords"
           }
          ],
          "pie": [
           {
            "automargin": true,
            "type": "pie"
           }
          ],
          "scatter": [
           {
            "fillpattern": {
             "fillmode": "overlay",
             "size": 10,
             "solidity": 0.2
            },
            "type": "scatter"
           }
          ],
          "scatter3d": [
           {
            "line": {
             "colorbar": {
              "outlinewidth": 0,
              "ticks": ""
             }
            },
            "marker": {
             "colorbar": {
              "outlinewidth": 0,
              "ticks": ""
             }
            },
            "type": "scatter3d"
           }
          ],
          "scattercarpet": [
           {
            "marker": {
             "colorbar": {
              "outlinewidth": 0,
              "ticks": ""
             }
            },
            "type": "scattercarpet"
           }
          ],
          "scattergeo": [
           {
            "marker": {
             "colorbar": {
              "outlinewidth": 0,
              "ticks": ""
             }
            },
            "type": "scattergeo"
           }
          ],
          "scattergl": [
           {
            "marker": {
             "colorbar": {
              "outlinewidth": 0,
              "ticks": ""
             }
            },
            "type": "scattergl"
           }
          ],
          "scattermapbox": [
           {
            "marker": {
             "colorbar": {
              "outlinewidth": 0,
              "ticks": ""
             }
            },
            "type": "scattermapbox"
           }
          ],
          "scatterpolar": [
           {
            "marker": {
             "colorbar": {
              "outlinewidth": 0,
              "ticks": ""
             }
            },
            "type": "scatterpolar"
           }
          ],
          "scatterpolargl": [
           {
            "marker": {
             "colorbar": {
              "outlinewidth": 0,
              "ticks": ""
             }
            },
            "type": "scatterpolargl"
           }
          ],
          "scatterternary": [
           {
            "marker": {
             "colorbar": {
              "outlinewidth": 0,
              "ticks": ""
             }
            },
            "type": "scatterternary"
           }
          ],
          "surface": [
           {
            "colorbar": {
             "outlinewidth": 0,
             "ticks": ""
            },
            "colorscale": [
             [
              0,
              "#0d0887"
             ],
             [
              0.1111111111111111,
              "#46039f"
             ],
             [
              0.2222222222222222,
              "#7201a8"
             ],
             [
              0.3333333333333333,
              "#9c179e"
             ],
             [
              0.4444444444444444,
              "#bd3786"
             ],
             [
              0.5555555555555556,
              "#d8576b"
             ],
             [
              0.6666666666666666,
              "#ed7953"
             ],
             [
              0.7777777777777778,
              "#fb9f3a"
             ],
             [
              0.8888888888888888,
              "#fdca26"
             ],
             [
              1,
              "#f0f921"
             ]
            ],
            "type": "surface"
           }
          ],
          "table": [
           {
            "cells": {
             "fill": {
              "color": "#EBF0F8"
             },
             "line": {
              "color": "white"
             }
            },
            "header": {
             "fill": {
              "color": "#C8D4E3"
             },
             "line": {
              "color": "white"
             }
            },
            "type": "table"
           }
          ]
         },
         "layout": {
          "annotationdefaults": {
           "arrowcolor": "#2a3f5f",
           "arrowhead": 0,
           "arrowwidth": 1
          },
          "autotypenumbers": "strict",
          "coloraxis": {
           "colorbar": {
            "outlinewidth": 0,
            "ticks": ""
           }
          },
          "colorscale": {
           "diverging": [
            [
             0,
             "#8e0152"
            ],
            [
             0.1,
             "#c51b7d"
            ],
            [
             0.2,
             "#de77ae"
            ],
            [
             0.3,
             "#f1b6da"
            ],
            [
             0.4,
             "#fde0ef"
            ],
            [
             0.5,
             "#f7f7f7"
            ],
            [
             0.6,
             "#e6f5d0"
            ],
            [
             0.7,
             "#b8e186"
            ],
            [
             0.8,
             "#7fbc41"
            ],
            [
             0.9,
             "#4d9221"
            ],
            [
             1,
             "#276419"
            ]
           ],
           "sequential": [
            [
             0,
             "#0d0887"
            ],
            [
             0.1111111111111111,
             "#46039f"
            ],
            [
             0.2222222222222222,
             "#7201a8"
            ],
            [
             0.3333333333333333,
             "#9c179e"
            ],
            [
             0.4444444444444444,
             "#bd3786"
            ],
            [
             0.5555555555555556,
             "#d8576b"
            ],
            [
             0.6666666666666666,
             "#ed7953"
            ],
            [
             0.7777777777777778,
             "#fb9f3a"
            ],
            [
             0.8888888888888888,
             "#fdca26"
            ],
            [
             1,
             "#f0f921"
            ]
           ],
           "sequentialminus": [
            [
             0,
             "#0d0887"
            ],
            [
             0.1111111111111111,
             "#46039f"
            ],
            [
             0.2222222222222222,
             "#7201a8"
            ],
            [
             0.3333333333333333,
             "#9c179e"
            ],
            [
             0.4444444444444444,
             "#bd3786"
            ],
            [
             0.5555555555555556,
             "#d8576b"
            ],
            [
             0.6666666666666666,
             "#ed7953"
            ],
            [
             0.7777777777777778,
             "#fb9f3a"
            ],
            [
             0.8888888888888888,
             "#fdca26"
            ],
            [
             1,
             "#f0f921"
            ]
           ]
          },
          "colorway": [
           "#636efa",
           "#EF553B",
           "#00cc96",
           "#ab63fa",
           "#FFA15A",
           "#19d3f3",
           "#FF6692",
           "#B6E880",
           "#FF97FF",
           "#FECB52"
          ],
          "font": {
           "color": "#2a3f5f"
          },
          "geo": {
           "bgcolor": "white",
           "lakecolor": "white",
           "landcolor": "#E5ECF6",
           "showlakes": true,
           "showland": true,
           "subunitcolor": "white"
          },
          "hoverlabel": {
           "align": "left"
          },
          "hovermode": "closest",
          "mapbox": {
           "style": "light"
          },
          "paper_bgcolor": "white",
          "plot_bgcolor": "#E5ECF6",
          "polar": {
           "angularaxis": {
            "gridcolor": "white",
            "linecolor": "white",
            "ticks": ""
           },
           "bgcolor": "#E5ECF6",
           "radialaxis": {
            "gridcolor": "white",
            "linecolor": "white",
            "ticks": ""
           }
          },
          "scene": {
           "xaxis": {
            "backgroundcolor": "#E5ECF6",
            "gridcolor": "white",
            "gridwidth": 2,
            "linecolor": "white",
            "showbackground": true,
            "ticks": "",
            "zerolinecolor": "white"
           },
           "yaxis": {
            "backgroundcolor": "#E5ECF6",
            "gridcolor": "white",
            "gridwidth": 2,
            "linecolor": "white",
            "showbackground": true,
            "ticks": "",
            "zerolinecolor": "white"
           },
           "zaxis": {
            "backgroundcolor": "#E5ECF6",
            "gridcolor": "white",
            "gridwidth": 2,
            "linecolor": "white",
            "showbackground": true,
            "ticks": "",
            "zerolinecolor": "white"
           }
          },
          "shapedefaults": {
           "line": {
            "color": "#2a3f5f"
           }
          },
          "ternary": {
           "aaxis": {
            "gridcolor": "white",
            "linecolor": "white",
            "ticks": ""
           },
           "baxis": {
            "gridcolor": "white",
            "linecolor": "white",
            "ticks": ""
           },
           "bgcolor": "#E5ECF6",
           "caxis": {
            "gridcolor": "white",
            "linecolor": "white",
            "ticks": ""
           }
          },
          "title": {
           "x": 0.05
          },
          "xaxis": {
           "automargin": true,
           "gridcolor": "white",
           "linecolor": "white",
           "ticks": "",
           "title": {
            "standoff": 15
           },
           "zerolinecolor": "white",
           "zerolinewidth": 2
          },
          "yaxis": {
           "automargin": true,
           "gridcolor": "white",
           "linecolor": "white",
           "ticks": "",
           "title": {
            "standoff": 15
           },
           "zerolinecolor": "white",
           "zerolinewidth": 2
          }
         }
        },
        "title": {
         "text": "Execução do Algoritmo de Ear Clipping"
        },
        "updatemenus": [
         {
          "buttons": [
           {
            "args": [
             null,
             {
              "frame": {
               "duration": 500,
               "redraw": false
              },
              "fromcurrent": true,
              "transition": {
               "duration": 300,
               "easing": "quadratic-in-out"
              }
             }
            ],
            "label": "Play",
            "method": "animate"
           },
           {
            "args": [
             [
              null
             ],
             {
              "frame": {
               "duration": 0,
               "redraw": false
              },
              "mode": "immediate",
              "transition": {
               "duration": 0
              }
             }
            ],
            "label": "Pause",
            "method": "animate"
           }
          ],
          "direction": "left",
          "pad": {
           "r": 10,
           "t": 87
          },
          "showactive": false,
          "type": "buttons",
          "x": 0.1,
          "xanchor": "right",
          "y": 0,
          "yanchor": "top"
         }
        ],
        "width": 900,
        "xaxis": {
         "range": [
          -1,
          12
         ],
         "title": {
          "text": "X"
         }
        },
        "yaxis": {
         "range": [
          -1,
          12
         ],
         "title": {
          "text": "Y"
         }
        }
       }
      }
     },
     "metadata": {},
     "output_type": "display_data"
    }
   ],
   "source": [
    "v = list(map(lambda P: (P.x,P.y), triang_graph.vertices))\n",
    "v.append(v[0])\n",
    "\n",
    "x_v, y_v = zip(*v)\n",
    "x_v, y_v = list(x_v), list(y_v)\n",
    "xMin, yMin = min(x_v) - 2, min(y_v) - 2\n",
    "xMax, yMax = max(x_v) + 2, max(y_v) + 2\n",
    "\n",
    "\n",
    "# Criação da estrutura da figura\n",
    "fig_dict = {\n",
    "    \"data\": [],\n",
    "    \"layout\": {},\n",
    "    \"frames\": []\n",
    "}\n",
    "\n",
    "# Configuração do layout\n",
    "fig_dict[\"layout\"][\"title\"] = \"Execução do Algoritmo de Ear Clipping\"\n",
    "fig_dict[\"layout\"][\"width\"] = 900 \n",
    "fig_dict[\"layout\"][\"height\"] = 700\n",
    "fig_dict[\"layout\"][\"xaxis\"] = {\"range\": [xMin, xMax], \"title\": \"X\"}\n",
    "fig_dict[\"layout\"][\"yaxis\"] = {\"range\": [yMin, yMax], \"title\": \"Y\"}\n",
    "fig_dict[\"layout\"][\"hovermode\"] = \"closest\"\n",
    "fig_dict[\"layout\"][\"updatemenus\"] = [\n",
    "    {\n",
    "        \"buttons\": [\n",
    "            {\n",
    "                \"args\": [None, {\"frame\": {\"duration\": 500, \"redraw\": False},\n",
    "                                \"fromcurrent\": True, \"transition\": {\"duration\": 300,\n",
    "                                                                    \"easing\": \"quadratic-in-out\"}}],\n",
    "                \"label\": \"Play\",\n",
    "                \"method\": \"animate\"\n",
    "            },\n",
    "            {\n",
    "                \"args\": [[None], {\"frame\": {\"duration\": 0, \"redraw\": False},\n",
    "                                  \"mode\": \"immediate\",\n",
    "                                  \"transition\": {\"duration\": 0}}],\n",
    "                \"label\": \"Pause\",\n",
    "                \"method\": \"animate\"\n",
    "            }\n",
    "        ],\n",
    "        \"direction\": \"left\",\n",
    "        \"pad\": {\"r\": 10, \"t\": 87},\n",
    "        \"showactive\": False,\n",
    "        \"type\": \"buttons\",\n",
    "        \"x\": 0.1,\n",
    "        \"xanchor\": \"right\",\n",
    "        \"y\": 0,\n",
    "        \"yanchor\": \"top\"\n",
    "    }\n",
    "]\n",
    "\n",
    "sliders_dict = {\n",
    "    \"active\": 0,\n",
    "    \"yanchor\": \"top\",\n",
    "    \"xanchor\": \"left\",\n",
    "    \"currentvalue\": {\n",
    "        \"font\": {\"size\": 20},\n",
    "        \"prefix\": \"Stage:\",\n",
    "        \"visible\": True,\n",
    "        \"xanchor\": \"right\"\n",
    "    },\n",
    "    \"transition\": {\"duration\": 300, \"easing\": \"cubic-in-out\"},\n",
    "    \"pad\": {\"b\": 10, \"t\": 50},\n",
    "    \"len\": 0.9,\n",
    "    \"x\": 0.1,\n",
    "    \"y\": 0,\n",
    "    \"steps\": []\n",
    "}\n",
    "\n",
    "# Configuração inicial do polígono\n",
    "initial_polygon = polygon_stages[0]\n",
    "x, y = zip(*initial_polygon)\n",
    "colors = ['blue'] * (len(x) - 1) + ['red']  # Último ponto em vermelho\n",
    "data_dict = {\n",
    "    \"x\": x,\n",
    "    \"y\": y,\n",
    "    \"mode\": \"lines+markers\",\n",
    "    \"marker\": {\"color\": colors},\n",
    "    \"name\": \"Polygon\",\n",
    "    \"line\": {\"shape\": \"linear\"}\n",
    "}\n",
    "fig_dict[\"data\"].append(data_dict)\n",
    "\n",
    "# Criação dos frames para cada estágio do polígono\n",
    "for i, step  in enumerate(steps):\n",
    "    frame = {\"data\": [], \"name\": str(step)}\n",
    "    polygon = polygon_stages[i]\n",
    "    x, y = zip(*polygon)\n",
    "    colors = ['blue'] * (len(x) - 1) + ['red']  # Último ponto em vermelho\n",
    "    data_dict = {\n",
    "        \"x\": x,\n",
    "        \"y\": y,\n",
    "        \"mode\": \"lines+markers\",\n",
    "        \"marker\": {\"color\": colors, \"size\": [10] * (len(x) - 1) + [15] },\n",
    "        \"name\": \"Polygon\",\n",
    "        \"line\": {\"shape\": \"linear\"}\n",
    "    }\n",
    "    frame[\"data\"].append(data_dict)\n",
    "    fig_dict[\"frames\"].append(frame)\n",
    "\n",
    "    slider_step = {\n",
    "        \"args\": [\n",
    "            [step],\n",
    "            {\"frame\": {\"duration\": 300, \"redraw\": False},\n",
    "             \"mode\": \"immediate\",\n",
    "             \"transition\": {\"duration\": 300}}\n",
    "        ],\n",
    "        \"label\": step,\n",
    "        \"method\": \"animate\"\n",
    "    }\n",
    "    sliders_dict[\"steps\"].append(slider_step)\n",
    "\n",
    "fig_dict[\"layout\"][\"sliders\"] = [sliders_dict]\n",
    "\n",
    "fig = go.Figure(fig_dict)\n",
    "\n",
    "fig.show()"
   ]
  },
  {
   "cell_type": "markdown",
   "metadata": {},
   "source": [
    "## Coloração"
   ]
  },
  {
   "cell_type": "markdown",
   "metadata": {},
   "source": [
    "O algoritmo de coloração será utilizado para verificar em quais vétices será colocado uma câmera, ele utiliza do gráfico já triangularizado. O problema de coloração de grafos é um problema famosamente conhecido por ser NP-Completo, logo não é viável a utilização de uma aborgadem tradicional de coloração. Porém, o nosso problema possui características que possibilitam a otimização do processo, transformando-o em Linear. \n",
    "\n",
    "Tendo a sequência de triangulos, é possivel a montagem de um grafo Dual, em que cada triângulo é representado por um vértice e caso o triângulo compartilhe dois vértices com outro triângulo(sejam vizinhos), ele terá uma aresta no grafo dual representando essa adjacência."
   ]
  },
  {
   "cell_type": "markdown",
   "metadata": {},
   "source": [
    "### Script de Criação do Dual"
   ]
  },
  {
   "cell_type": "code",
   "execution_count": 13,
   "metadata": {},
   "outputs": [],
   "source": [
    "colored_Graph = G.graph.copy()\n",
    "\n",
    "dual = nx.Graph()\n",
    "for i in range(len(triangulos)):\n",
    "    tri_v = '-'.join(np.array(triangulos[i],dtype=str))\n",
    "    dual.add_node(i,tri_v = tri_v)\n",
    "\n",
    "for i in range(len(triangulos)):\n",
    "    for j in range(len(triangulos)):\n",
    "        if(len(set(triangulos[i]+triangulos[j]))) == 4:\n",
    "            dual.add_edge(i,j)"
   ]
  },
  {
   "cell_type": "code",
   "execution_count": 14,
   "metadata": {},
   "outputs": [
    {
     "data": {
      "image/png": "[encoded data removed]",
      "text/plain": [
       "<Figure size 640x480 with 1 Axes>"
      ]
     },
     "metadata": {},
     "output_type": "display_data"
    }
   ],
   "source": [
    "nx.draw(dual, with_labels=True)"
   ]
  },
  {
   "cell_type": "markdown",
   "metadata": {},
   "source": [
    "O Grafo Dual é uma árvore, nos possibilitando fazer uma busca em profundidade em complexidade de tempo O(N), mantendo a Linearidade. Essa busca em profundidade vai nos possibilitar uma ordem de coloração de cada triângulos, podendo inicializar em qualquer triângulo arbitrariamente. Ao colorir o primeiro com três cores, segue para o vizinho, colorindo o único vértice não pintado e usando a única cor que é permitida, realizando essa operação sucessivamente, teremos uma 3-Coloração em tempo O(N). É possivel visualizar esse processo com a animação abaixo(A cor azul está sendo utilizada significando a não coloração do vértice)."
   ]
  },
  {
   "cell_type": "code",
   "execution_count": 15,
   "metadata": {},
   "outputs": [],
   "source": [
    "dfs_edges = list(nx.dfs_edges(dual))\n",
    "colored_Graph, act_s = color_triangle(colored_Graph,triangulos,0)\n",
    "stages = [act_s]\n",
    "for i,j in dfs_edges:\n",
    "    colored_Graph, act_s = color_triangle(colored_Graph,triangulos,j)\n",
    "    stages.append(act_s)"
   ]
  },
  {
   "cell_type": "code",
   "execution_count": 18,
   "metadata": {},
   "outputs": [
    {
     "data": {
      "application/vnd.plotly.v1+json": {
       "config": {
        "plotlyServerURL": "https://plot.ly"
       },
       "data": [
        {
         "line": {
          "shape": "linear"
         },
         "marker": {
          "color": [
           "blue",
           "blue",
           "blue",
           "blue",
           "blue",
           "blue",
           "blue",
           "blue",
           "blue",
           "blue",
           "blue",
           "blue",
           "blue",
           "blue",
           "blue",
           "blue",
           "blue",
           "blue",
           "blue",
           "blue",
           "blue",
           "blue",
           "blue",
           "blue",
           "blue",
           "blue",
           "blue",
           "blue",
           "blue",
           "blue",
           "blue",
           "blue",
           "blue",
           "blue",
           "blue",
           "blue",
           "blue",
           "blue",
           "blue",
           "blue",
           "blue",
           "blue",
           "blue",
           "blue",
           "blue",
           "blue",
           "blue",
           "blue",
           "blue",
           "blue",
           "blue",
           "blue",
           "blue",
           "blue",
           "blue",
           "blue",
           "blue",
           "blue",
           "blue",
           "blue",
           "blue",
           "blue",
           "blue",
           "blue"
          ],
          "size": 15
         },
         "mode": "lines+markers",
         "name": "Polygon",
         "type": "scatter",
         "x": [
          2,
          2,
          9,
          9,
          8,
          8,
          6,
          6,
          4,
          4,
          1,
          1,
          3,
          3,
          5,
          5,
          7,
          7,
          10,
          10,
          2,
          2,
          9,
          8,
          6,
          6,
          4,
          1,
          1,
          3,
          5,
          5,
          7,
          10,
          2,
          2,
          8,
          6,
          4,
          1,
          1,
          3,
          5,
          10,
          2,
          2,
          6,
          4,
          1,
          1,
          3,
          10,
          2,
          2,
          4,
          1,
          1,
          10,
          2,
          2,
          1,
          1,
          2,
          1
         ],
         "y": [
          5,
          6,
          6,
          7,
          7,
          9,
          9,
          8,
          8,
          10,
          10,
          4,
          4,
          1,
          1,
          2,
          2,
          3,
          3,
          5,
          5,
          6,
          7,
          7,
          9,
          8,
          8,
          10,
          4,
          4,
          1,
          2,
          3,
          5,
          5,
          6,
          7,
          8,
          8,
          10,
          4,
          4,
          2,
          5,
          5,
          6,
          8,
          8,
          10,
          4,
          4,
          5,
          5,
          6,
          8,
          10,
          4,
          5,
          5,
          6,
          10,
          4,
          5,
          10
         ]
        }
       ],
       "frames": [
        {
         "data": [
          {
           "line": {
            "shape": "linear"
           },
           "marker": {
            "color": [
             "blue",
             "red",
             "yellow",
             "green",
             "blue",
             "blue",
             "blue",
             "blue",
             "blue",
             "blue",
             "blue",
             "blue",
             "blue",
             "blue",
             "blue",
             "blue",
             "blue",
             "blue",
             "blue",
             "blue",
             "blue",
             "red",
             "green",
             "blue",
             "blue",
             "blue",
             "blue",
             "blue",
             "blue",
             "blue",
             "blue",
             "blue",
             "blue",
             "blue",
             "blue",
             "red",
             "blue",
             "blue",
             "blue",
             "blue",
             "blue",
             "blue",
             "blue",
             "blue",
             "blue",
             "red",
             "blue",
             "blue",
             "blue",
             "blue",
             "blue",
             "blue",
             "blue",
             "red",
             "blue",
             "blue",
             "blue",
             "blue",
             "blue",
             "red",
             "blue",
             "blue",
             "blue",
             "blue"
            ],
            "size": 15
           },
           "mode": "lines+markers",
           "name": "Polygon",
           "type": "scatter",
           "x": [
            2,
            2,
            9,
            9,
            8,
            8,
            6,
            6,
            4,
            4,
            1,
            1,
            3,
            3,
            5,
            5,
            7,
            7,
            10,
            10,
            2,
            2,
            9,
            8,
            6,
            6,
            4,
            1,
            1,
            3,
            5,
            5,
            7,
            10,
            2,
            2,
            8,
            6,
            4,
            1,
            1,
            3,
            5,
            10,
            2,
            2,
            6,
            4,
            1,
            1,
            3,
            10,
            2,
            2,
            4,
            1,
            1,
            10,
            2,
            2,
            1,
            1,
            2,
            1
           ],
           "y": [
            5,
            6,
            6,
            7,
            7,
            9,
            9,
            8,
            8,
            10,
            10,
            4,
            4,
            1,
            1,
            2,
            2,
            3,
            3,
            5,
            5,
            6,
            7,
            7,
            9,
            8,
            8,
            10,
            4,
            4,
            1,
            2,
            3,
            5,
            5,
            6,
            7,
            8,
            8,
            10,
            4,
            4,
            2,
            5,
            5,
            6,
            8,
            8,
            10,
            4,
            4,
            5,
            5,
            6,
            8,
            10,
            4,
            5,
            5,
            6,
            10,
            4,
            5,
            10
           ]
          }
         ],
         "name": "0"
        },
        {
         "data": [
          {
           "line": {
            "shape": "linear"
           },
           "marker": {
            "color": [
             "blue",
             "red",
             "yellow",
             "green",
             "yellow",
             "blue",
             "blue",
             "blue",
             "blue",
             "blue",
             "blue",
             "blue",
             "blue",
             "blue",
             "blue",
             "blue",
             "blue",
             "blue",
             "blue",
             "blue",
             "blue",
             "red",
             "green",
             "yellow",
             "blue",
             "blue",
             "blue",
             "blue",
             "blue",
             "blue",
             "blue",
             "blue",
             "blue",
             "blue",
             "blue",
             "red",
             "yellow",
             "blue",
             "blue",
             "blue",
             "blue",
             "blue",
             "blue",
             "blue",
             "blue",
             "red",
             "blue",
             "blue",
             "blue",
             "blue",
             "blue",
             "blue",
             "blue",
             "red",
             "blue",
             "blue",
             "blue",
             "blue",
             "blue",
             "red",
             "blue",
             "blue",
             "blue",
             "blue"
            ],
            "size": 15
           },
           "mode": "lines+markers",
           "name": "Polygon",
           "type": "scatter",
           "x": [
            2,
            2,
            9,
            9,
            8,
            8,
            6,
            6,
            4,
            4,
            1,
            1,
            3,
            3,
            5,
            5,
            7,
            7,
            10,
            10,
            2,
            2,
            9,
            8,
            6,
            6,
            4,
            1,
            1,
            3,
            5,
            5,
            7,
            10,
            2,
            2,
            8,
            6,
            4,
            1,
            1,
            3,
            5,
            10,
            2,
            2,
            6,
            4,
            1,
            1,
            3,
            10,
            2,
            2,
            4,
            1,
            1,
            10,
            2,
            2,
            1,
            1,
            2,
            1
           ],
           "y": [
            5,
            6,
            6,
            7,
            7,
            9,
            9,
            8,
            8,
            10,
            10,
            4,
            4,
            1,
            1,
            2,
            2,
            3,
            3,
            5,
            5,
            6,
            7,
            7,
            9,
            8,
            8,
            10,
            4,
            4,
            1,
            2,
            3,
            5,
            5,
            6,
            7,
            8,
            8,
            10,
            4,
            4,
            2,
            5,
            5,
            6,
            8,
            8,
            10,
            4,
            4,
            5,
            5,
            6,
            8,
            10,
            4,
            5,
            5,
            6,
            10,
            4,
            5,
            10
           ]
          }
         ],
         "name": "1"
        },
        {
         "data": [
          {
           "line": {
            "shape": "linear"
           },
           "marker": {
            "color": [
             "blue",
             "red",
             "yellow",
             "green",
             "yellow",
             "blue",
             "blue",
             "green",
             "blue",
             "blue",
             "blue",
             "blue",
             "blue",
             "blue",
             "blue",
             "blue",
             "blue",
             "blue",
             "blue",
             "blue",
             "blue",
             "red",
             "green",
             "yellow",
             "blue",
             "green",
             "blue",
             "blue",
             "blue",
             "blue",
             "blue",
             "blue",
             "blue",
             "blue",
             "blue",
             "red",
             "yellow",
             "green",
             "blue",
             "blue",
             "blue",
             "blue",
             "blue",
             "blue",
             "blue",
             "red",
             "green",
             "blue",
             "blue",
             "blue",
             "blue",
             "blue",
             "blue",
             "red",
             "blue",
             "blue",
             "blue",
             "blue",
             "blue",
             "red",
             "blue",
             "blue",
             "blue",
             "blue"
            ],
            "size": 15
           },
           "mode": "lines+markers",
           "name": "Polygon",
           "type": "scatter",
           "x": [
            2,
            2,
            9,
            9,
            8,
            8,
            6,
            6,
            4,
            4,
            1,
            1,
            3,
            3,
            5,
            5,
            7,
            7,
            10,
            10,
            2,
            2,
            9,
            8,
            6,
            6,
            4,
            1,
            1,
            3,
            5,
            5,
            7,
            10,
            2,
            2,
            8,
            6,
            4,
            1,
            1,
            3,
            5,
            10,
            2,
            2,
            6,
            4,
            1,
            1,
            3,
            10,
            2,
            2,
            4,
            1,
            1,
            10,
            2,
            2,
            1,
            1,
            2,
            1
           ],
           "y": [
            5,
            6,
            6,
            7,
            7,
            9,
            9,
            8,
            8,
            10,
            10,
            4,
            4,
            1,
            1,
            2,
            2,
            3,
            3,
            5,
            5,
            6,
            7,
            7,
            9,
            8,
            8,
            10,
            4,
            4,
            1,
            2,
            3,
            5,
            5,
            6,
            7,
            8,
            8,
            10,
            4,
            4,
            2,
            5,
            5,
            6,
            8,
            8,
            10,
            4,
            4,
            5,
            5,
            6,
            8,
            10,
            4,
            5,
            5,
            6,
            10,
            4,
            5,
            10
           ]
          }
         ],
         "name": "2"
        },
        {
         "data": [
          {
           "line": {
            "shape": "linear"
           },
           "marker": {
            "color": [
             "blue",
             "red",
             "yellow",
             "green",
             "yellow",
             "blue",
             "red",
             "green",
             "blue",
             "blue",
             "blue",
             "blue",
             "blue",
             "blue",
             "blue",
             "blue",
             "blue",
             "blue",
             "blue",
             "blue",
             "blue",
             "red",
             "green",
             "yellow",
             "red",
             "green",
             "blue",
             "blue",
             "blue",
             "blue",
             "blue",
             "blue",
             "blue",
             "blue",
             "blue",
             "red",
             "yellow",
             "green",
             "blue",
             "blue",
             "blue",
             "blue",
             "blue",
             "blue",
             "blue",
             "red",
             "green",
             "blue",
             "blue",
             "blue",
             "blue",
             "blue",
             "blue",
             "red",
             "blue",
             "blue",
             "blue",
             "blue",
             "blue",
             "red",
             "blue",
             "blue",
             "blue",
             "blue"
            ],
            "size": 15
           },
           "mode": "lines+markers",
           "name": "Polygon",
           "type": "scatter",
           "x": [
            2,
            2,
            9,
            9,
            8,
            8,
            6,
            6,
            4,
            4,
            1,
            1,
            3,
            3,
            5,
            5,
            7,
            7,
            10,
            10,
            2,
            2,
            9,
            8,
            6,
            6,
            4,
            1,
            1,
            3,
            5,
            5,
            7,
            10,
            2,
            2,
            8,
            6,
            4,
            1,
            1,
            3,
            5,
            10,
            2,
            2,
            6,
            4,
            1,
            1,
            3,
            10,
            2,
            2,
            4,
            1,
            1,
            10,
            2,
            2,
            1,
            1,
            2,
            1
           ],
           "y": [
            5,
            6,
            6,
            7,
            7,
            9,
            9,
            8,
            8,
            10,
            10,
            4,
            4,
            1,
            1,
            2,
            2,
            3,
            3,
            5,
            5,
            6,
            7,
            7,
            9,
            8,
            8,
            10,
            4,
            4,
            1,
            2,
            3,
            5,
            5,
            6,
            7,
            8,
            8,
            10,
            4,
            4,
            2,
            5,
            5,
            6,
            8,
            8,
            10,
            4,
            4,
            5,
            5,
            6,
            8,
            10,
            4,
            5,
            5,
            6,
            10,
            4,
            5,
            10
           ]
          }
         ],
         "name": "3"
        },
        {
         "data": [
          {
           "line": {
            "shape": "linear"
           },
           "marker": {
            "color": [
             "blue",
             "red",
             "yellow",
             "green",
             "yellow",
             "green",
             "red",
             "green",
             "blue",
             "blue",
             "blue",
             "blue",
             "blue",
             "blue",
             "blue",
             "blue",
             "blue",
             "blue",
             "blue",
             "blue",
             "blue",
             "red",
             "green",
             "yellow",
             "red",
             "green",
             "blue",
             "blue",
             "blue",
             "blue",
             "blue",
             "blue",
             "blue",
             "blue",
             "blue",
             "red",
             "yellow",
             "green",
             "blue",
             "blue",
             "blue",
             "blue",
             "blue",
             "blue",
             "blue",
             "red",
             "green",
             "blue",
             "blue",
             "blue",
             "blue",
             "blue",
             "blue",
             "red",
             "blue",
             "blue",
             "blue",
             "blue",
             "blue",
             "red",
             "blue",
             "blue",
             "blue",
             "blue"
            ],
            "size": 15
           },
           "mode": "lines+markers",
           "name": "Polygon",
           "type": "scatter",
           "x": [
            2,
            2,
            9,
            9,
            8,
            8,
            6,
            6,
            4,
            4,
            1,
            1,
            3,
            3,
            5,
            5,
            7,
            7,
            10,
            10,
            2,
            2,
            9,
            8,
            6,
            6,
            4,
            1,
            1,
            3,
            5,
            5,
            7,
            10,
            2,
            2,
            8,
            6,
            4,
            1,
            1,
            3,
            5,
            10,
            2,
            2,
            6,
            4,
            1,
            1,
            3,
            10,
            2,
            2,
            4,
            1,
            1,
            10,
            2,
            2,
            1,
            1,
            2,
            1
           ],
           "y": [
            5,
            6,
            6,
            7,
            7,
            9,
            9,
            8,
            8,
            10,
            10,
            4,
            4,
            1,
            1,
            2,
            2,
            3,
            3,
            5,
            5,
            6,
            7,
            7,
            9,
            8,
            8,
            10,
            4,
            4,
            1,
            2,
            3,
            5,
            5,
            6,
            7,
            8,
            8,
            10,
            4,
            4,
            2,
            5,
            5,
            6,
            8,
            8,
            10,
            4,
            4,
            5,
            5,
            6,
            8,
            10,
            4,
            5,
            5,
            6,
            10,
            4,
            5,
            10
           ]
          }
         ],
         "name": "4"
        },
        {
         "data": [
          {
           "line": {
            "shape": "linear"
           },
           "marker": {
            "color": [
             "blue",
             "red",
             "yellow",
             "green",
             "yellow",
             "green",
             "red",
             "green",
             "yellow",
             "blue",
             "blue",
             "blue",
             "blue",
             "blue",
             "blue",
             "blue",
             "blue",
             "blue",
             "blue",
             "blue",
             "blue",
             "red",
             "green",
             "yellow",
             "red",
             "green",
             "yellow",
             "blue",
             "blue",
             "blue",
             "blue",
             "blue",
             "blue",
             "blue",
             "blue",
             "red",
             "yellow",
             "green",
             "yellow",
             "blue",
             "blue",
             "blue",
             "blue",
             "blue",
             "blue",
             "red",
             "green",
             "yellow",
             "blue",
             "blue",
             "blue",
             "blue",
             "blue",
             "red",
             "yellow",
             "blue",
             "blue",
             "blue",
             "blue",
             "red",
             "blue",
             "blue",
             "blue",
             "blue"
            ],
            "size": 15
           },
           "mode": "lines+markers",
           "name": "Polygon",
           "type": "scatter",
           "x": [
            2,
            2,
            9,
            9,
            8,
            8,
            6,
            6,
            4,
            4,
            1,
            1,
            3,
            3,
            5,
            5,
            7,
            7,
            10,
            10,
            2,
            2,
            9,
            8,
            6,
            6,
            4,
            1,
            1,
            3,
            5,
            5,
            7,
            10,
            2,
            2,
            8,
            6,
            4,
            1,
            1,
            3,
            5,
            10,
            2,
            2,
            6,
            4,
            1,
            1,
            3,
            10,
            2,
            2,
            4,
            1,
            1,
            10,
            2,
            2,
            1,
            1,
            2,
            1
           ],
           "y": [
            5,
            6,
            6,
            7,
            7,
            9,
            9,
            8,
            8,
            10,
            10,
            4,
            4,
            1,
            1,
            2,
            2,
            3,
            3,
            5,
            5,
            6,
            7,
            7,
            9,
            8,
            8,
            10,
            4,
            4,
            1,
            2,
            3,
            5,
            5,
            6,
            7,
            8,
            8,
            10,
            4,
            4,
            2,
            5,
            5,
            6,
            8,
            8,
            10,
            4,
            4,
            5,
            5,
            6,
            8,
            10,
            4,
            5,
            5,
            6,
            10,
            4,
            5,
            10
           ]
          }
         ],
         "name": "5"
        },
        {
         "data": [
          {
           "line": {
            "shape": "linear"
           },
           "marker": {
            "color": [
             "blue",
             "red",
             "yellow",
             "green",
             "yellow",
             "green",
             "red",
             "green",
             "yellow",
             "blue",
             "green",
             "blue",
             "blue",
             "blue",
             "blue",
             "blue",
             "blue",
             "blue",
             "blue",
             "blue",
             "blue",
             "red",
             "green",
             "yellow",
             "red",
             "green",
             "yellow",
             "green",
             "blue",
             "blue",
             "blue",
             "blue",
             "blue",
             "blue",
             "blue",
             "red",
             "yellow",
             "green",
             "yellow",
             "green",
             "blue",
             "blue",
             "blue",
             "blue",
             "blue",
             "red",
             "green",
             "yellow",
             "green",
             "blue",
             "blue",
             "blue",
             "blue",
             "red",
             "yellow",
             "green",
             "blue",
             "blue",
             "blue",
             "red",
             "green",
             "blue",
             "blue",
             "green"
            ],
            "size": 15
           },
           "mode": "lines+markers",
           "name": "Polygon",
           "type": "scatter",
           "x": [
            2,
            2,
            9,
            9,
            8,
            8,
            6,
            6,
            4,
            4,
            1,
            1,
            3,
            3,
            5,
            5,
            7,
            7,
            10,
            10,
            2,
            2,
            9,
            8,
            6,
            6,
            4,
            1,
            1,
            3,
            5,
            5,
            7,
            10,
            2,
            2,
            8,
            6,
            4,
            1,
            1,
            3,
            5,
            10,
            2,
            2,
            6,
            4,
            1,
            1,
            3,
            10,
            2,
            2,
            4,
            1,
            1,
            10,
            2,
            2,
            1,
            1,
            2,
            1
           ],
           "y": [
            5,
            6,
            6,
            7,
            7,
            9,
            9,
            8,
            8,
            10,
            10,
            4,
            4,
            1,
            1,
            2,
            2,
            3,
            3,
            5,
            5,
            6,
            7,
            7,
            9,
            8,
            8,
            10,
            4,
            4,
            1,
            2,
            3,
            5,
            5,
            6,
            7,
            8,
            8,
            10,
            4,
            4,
            2,
            5,
            5,
            6,
            8,
            8,
            10,
            4,
            4,
            5,
            5,
            6,
            8,
            10,
            4,
            5,
            5,
            6,
            10,
            4,
            5,
            10
           ]
          }
         ],
         "name": "6"
        },
        {
         "data": [
          {
           "line": {
            "shape": "linear"
           },
           "marker": {
            "color": [
             "blue",
             "red",
             "yellow",
             "green",
             "yellow",
             "green",
             "red",
             "green",
             "yellow",
             "red",
             "green",
             "blue",
             "blue",
             "blue",
             "blue",
             "blue",
             "blue",
             "blue",
             "blue",
             "blue",
             "blue",
             "red",
             "green",
             "yellow",
             "red",
             "green",
             "yellow",
             "green",
             "blue",
             "blue",
             "blue",
             "blue",
             "blue",
             "blue",
             "blue",
             "red",
             "yellow",
             "green",
             "yellow",
             "green",
             "blue",
             "blue",
             "blue",
             "blue",
             "blue",
             "red",
             "green",
             "yellow",
             "green",
             "blue",
             "blue",
             "blue",
             "blue",
             "red",
             "yellow",
             "green",
             "blue",
             "blue",
             "blue",
             "red",
             "green",
             "blue",
             "blue",
             "green"
            ],
            "size": 15
           },
           "mode": "lines+markers",
           "name": "Polygon",
           "type": "scatter",
           "x": [
            2,
            2,
            9,
            9,
            8,
            8,
            6,
            6,
            4,
            4,
            1,
            1,
            3,
            3,
            5,
            5,
            7,
            7,
            10,
            10,
            2,
            2,
            9,
            8,
            6,
            6,
            4,
            1,
            1,
            3,
            5,
            5,
            7,
            10,
            2,
            2,
            8,
            6,
            4,
            1,
            1,
            3,
            5,
            10,
            2,
            2,
            6,
            4,
            1,
            1,
            3,
            10,
            2,
            2,
            4,
            1,
            1,
            10,
            2,
            2,
            1,
            1,
            2,
            1
           ],
           "y": [
            5,
            6,
            6,
            7,
            7,
            9,
            9,
            8,
            8,
            10,
            10,
            4,
            4,
            1,
            1,
            2,
            2,
            3,
            3,
            5,
            5,
            6,
            7,
            7,
            9,
            8,
            8,
            10,
            4,
            4,
            1,
            2,
            3,
            5,
            5,
            6,
            7,
            8,
            8,
            10,
            4,
            4,
            2,
            5,
            5,
            6,
            8,
            8,
            10,
            4,
            4,
            5,
            5,
            6,
            8,
            10,
            4,
            5,
            5,
            6,
            10,
            4,
            5,
            10
           ]
          }
         ],
         "name": "7"
        },
        {
         "data": [
          {
           "line": {
            "shape": "linear"
           },
           "marker": {
            "color": [
             "yellow",
             "red",
             "yellow",
             "green",
             "yellow",
             "green",
             "red",
             "green",
             "yellow",
             "red",
             "green",
             "blue",
             "blue",
             "blue",
             "blue",
             "blue",
             "blue",
             "blue",
             "blue",
             "blue",
             "yellow",
             "red",
             "green",
             "yellow",
             "red",
             "green",
             "yellow",
             "green",
             "blue",
             "blue",
             "blue",
             "blue",
             "blue",
             "blue",
             "yellow",
             "red",
             "yellow",
             "green",
             "yellow",
             "green",
             "blue",
             "blue",
             "blue",
             "blue",
             "yellow",
             "red",
             "green",
             "yellow",
             "green",
             "blue",
             "blue",
             "blue",
             "yellow",
             "red",
             "yellow",
             "green",
             "blue",
             "blue",
             "yellow",
             "red",
             "green",
             "blue",
             "yellow",
             "green"
            ],
            "size": 15
           },
           "mode": "lines+markers",
           "name": "Polygon",
           "type": "scatter",
           "x": [
            2,
            2,
            9,
            9,
            8,
            8,
            6,
            6,
            4,
            4,
            1,
            1,
            3,
            3,
            5,
            5,
            7,
            7,
            10,
            10,
            2,
            2,
            9,
            8,
            6,
            6,
            4,
            1,
            1,
            3,
            5,
            5,
            7,
            10,
            2,
            2,
            8,
            6,
            4,
            1,
            1,
            3,
            5,
            10,
            2,
            2,
            6,
            4,
            1,
            1,
            3,
            10,
            2,
            2,
            4,
            1,
            1,
            10,
            2,
            2,
            1,
            1,
            2,
            1
           ],
           "y": [
            5,
            6,
            6,
            7,
            7,
            9,
            9,
            8,
            8,
            10,
            10,
            4,
            4,
            1,
            1,
            2,
            2,
            3,
            3,
            5,
            5,
            6,
            7,
            7,
            9,
            8,
            8,
            10,
            4,
            4,
            1,
            2,
            3,
            5,
            5,
            6,
            7,
            8,
            8,
            10,
            4,
            4,
            2,
            5,
            5,
            6,
            8,
            8,
            10,
            4,
            4,
            5,
            5,
            6,
            8,
            10,
            4,
            5,
            5,
            6,
            10,
            4,
            5,
            10
           ]
          }
         ],
         "name": "8"
        },
        {
         "data": [
          {
           "line": {
            "shape": "linear"
           },
           "marker": {
            "color": [
             "yellow",
             "red",
             "yellow",
             "green",
             "yellow",
             "green",
             "red",
             "green",
             "yellow",
             "red",
             "green",
             "red",
             "blue",
             "blue",
             "blue",
             "blue",
             "blue",
             "blue",
             "blue",
             "blue",
             "yellow",
             "red",
             "green",
             "yellow",
             "red",
             "green",
             "yellow",
             "green",
             "red",
             "blue",
             "blue",
             "blue",
             "blue",
             "blue",
             "yellow",
             "red",
             "yellow",
             "green",
             "yellow",
             "green",
             "red",
             "blue",
             "blue",
             "blue",
             "yellow",
             "red",
             "green",
             "yellow",
             "green",
             "red",
             "blue",
             "blue",
             "yellow",
             "red",
             "yellow",
             "green",
             "red",
             "blue",
             "yellow",
             "red",
             "green",
             "red",
             "yellow",
             "green"
            ],
            "size": 15
           },
           "mode": "lines+markers",
           "name": "Polygon",
           "type": "scatter",
           "x": [
            2,
            2,
            9,
            9,
            8,
            8,
            6,
            6,
            4,
            4,
            1,
            1,
            3,
            3,
            5,
            5,
            7,
            7,
            10,
            10,
            2,
            2,
            9,
            8,
            6,
            6,
            4,
            1,
            1,
            3,
            5,
            5,
            7,
            10,
            2,
            2,
            8,
            6,
            4,
            1,
            1,
            3,
            5,
            10,
            2,
            2,
            6,
            4,
            1,
            1,
            3,
            10,
            2,
            2,
            4,
            1,
            1,
            10,
            2,
            2,
            1,
            1,
            2,
            1
           ],
           "y": [
            5,
            6,
            6,
            7,
            7,
            9,
            9,
            8,
            8,
            10,
            10,
            4,
            4,
            1,
            1,
            2,
            2,
            3,
            3,
            5,
            5,
            6,
            7,
            7,
            9,
            8,
            8,
            10,
            4,
            4,
            1,
            2,
            3,
            5,
            5,
            6,
            7,
            8,
            8,
            10,
            4,
            4,
            2,
            5,
            5,
            6,
            8,
            8,
            10,
            4,
            4,
            5,
            5,
            6,
            8,
            10,
            4,
            5,
            5,
            6,
            10,
            4,
            5,
            10
           ]
          }
         ],
         "name": "9"
        },
        {
         "data": [
          {
           "line": {
            "shape": "linear"
           },
           "marker": {
            "color": [
             "yellow",
             "red",
             "yellow",
             "green",
             "yellow",
             "green",
             "red",
             "green",
             "yellow",
             "red",
             "green",
             "red",
             "blue",
             "blue",
             "blue",
             "blue",
             "blue",
             "blue",
             "blue",
             "green",
             "yellow",
             "red",
             "green",
             "yellow",
             "red",
             "green",
             "yellow",
             "green",
             "red",
             "blue",
             "blue",
             "blue",
             "blue",
             "green",
             "yellow",
             "red",
             "yellow",
             "green",
             "yellow",
             "green",
             "red",
             "blue",
             "blue",
             "green",
             "yellow",
             "red",
             "green",
             "yellow",
             "green",
             "red",
             "blue",
             "green",
             "yellow",
             "red",
             "yellow",
             "green",
             "red",
             "green",
             "yellow",
             "red",
             "green",
             "red",
             "yellow",
             "green"
            ],
            "size": 15
           },
           "mode": "lines+markers",
           "name": "Polygon",
           "type": "scatter",
           "x": [
            2,
            2,
            9,
            9,
            8,
            8,
            6,
            6,
            4,
            4,
            1,
            1,
            3,
            3,
            5,
            5,
            7,
            7,
            10,
            10,
            2,
            2,
            9,
            8,
            6,
            6,
            4,
            1,
            1,
            3,
            5,
            5,
            7,
            10,
            2,
            2,
            8,
            6,
            4,
            1,
            1,
            3,
            5,
            10,
            2,
            2,
            6,
            4,
            1,
            1,
            3,
            10,
            2,
            2,
            4,
            1,
            1,
            10,
            2,
            2,
            1,
            1,
            2,
            1
           ],
           "y": [
            5,
            6,
            6,
            7,
            7,
            9,
            9,
            8,
            8,
            10,
            10,
            4,
            4,
            1,
            1,
            2,
            2,
            3,
            3,
            5,
            5,
            6,
            7,
            7,
            9,
            8,
            8,
            10,
            4,
            4,
            1,
            2,
            3,
            5,
            5,
            6,
            7,
            8,
            8,
            10,
            4,
            4,
            2,
            5,
            5,
            6,
            8,
            8,
            10,
            4,
            4,
            5,
            5,
            6,
            8,
            10,
            4,
            5,
            5,
            6,
            10,
            4,
            5,
            10
           ]
          }
         ],
         "name": "10"
        },
        {
         "data": [
          {
           "line": {
            "shape": "linear"
           },
           "marker": {
            "color": [
             "yellow",
             "red",
             "yellow",
             "green",
             "yellow",
             "green",
             "red",
             "green",
             "yellow",
             "red",
             "green",
             "red",
             "yellow",
             "blue",
             "blue",
             "blue",
             "blue",
             "blue",
             "blue",
             "green",
             "yellow",
             "red",
             "green",
             "yellow",
             "red",
             "green",
             "yellow",
             "green",
             "red",
             "yellow",
             "blue",
             "blue",
             "blue",
             "green",
             "yellow",
             "red",
             "yellow",
             "green",
             "yellow",
             "green",
             "red",
             "yellow",
             "blue",
             "green",
             "yellow",
             "red",
             "green",
             "yellow",
             "green",
             "red",
             "yellow",
             "green",
             "yellow",
             "red",
             "yellow",
             "green",
             "red",
             "green",
             "yellow",
             "red",
             "green",
             "red",
             "yellow",
             "green"
            ],
            "size": 15
           },
           "mode": "lines+markers",
           "name": "Polygon",
           "type": "scatter",
           "x": [
            2,
            2,
            9,
            9,
            8,
            8,
            6,
            6,
            4,
            4,
            1,
            1,
            3,
            3,
            5,
            5,
            7,
            7,
            10,
            10,
            2,
            2,
            9,
            8,
            6,
            6,
            4,
            1,
            1,
            3,
            5,
            5,
            7,
            10,
            2,
            2,
            8,
            6,
            4,
            1,
            1,
            3,
            5,
            10,
            2,
            2,
            6,
            4,
            1,
            1,
            3,
            10,
            2,
            2,
            4,
            1,
            1,
            10,
            2,
            2,
            1,
            1,
            2,
            1
           ],
           "y": [
            5,
            6,
            6,
            7,
            7,
            9,
            9,
            8,
            8,
            10,
            10,
            4,
            4,
            1,
            1,
            2,
            2,
            3,
            3,
            5,
            5,
            6,
            7,
            7,
            9,
            8,
            8,
            10,
            4,
            4,
            1,
            2,
            3,
            5,
            5,
            6,
            7,
            8,
            8,
            10,
            4,
            4,
            2,
            5,
            5,
            6,
            8,
            8,
            10,
            4,
            4,
            5,
            5,
            6,
            8,
            10,
            4,
            5,
            5,
            6,
            10,
            4,
            5,
            10
           ]
          }
         ],
         "name": "11"
        },
        {
         "data": [
          {
           "line": {
            "shape": "linear"
           },
           "marker": {
            "color": [
             "yellow",
             "red",
             "yellow",
             "green",
             "yellow",
             "green",
             "red",
             "green",
             "yellow",
             "red",
             "green",
             "red",
             "yellow",
             "blue",
             "blue",
             "red",
             "blue",
             "blue",
             "blue",
             "green",
             "yellow",
             "red",
             "green",
             "yellow",
             "red",
             "green",
             "yellow",
             "green",
             "red",
             "yellow",
             "blue",
             "red",
             "blue",
             "green",
             "yellow",
             "red",
             "yellow",
             "green",
             "yellow",
             "green",
             "red",
             "yellow",
             "red",
             "green",
             "yellow",
             "red",
             "green",
             "yellow",
             "green",
             "red",
             "yellow",
             "green",
             "yellow",
             "red",
             "yellow",
             "green",
             "red",
             "green",
             "yellow",
             "red",
             "green",
             "red",
             "yellow",
             "green"
            ],
            "size": 15
           },
           "mode": "lines+markers",
           "name": "Polygon",
           "type": "scatter",
           "x": [
            2,
            2,
            9,
            9,
            8,
            8,
            6,
            6,
            4,
            4,
            1,
            1,
            3,
            3,
            5,
            5,
            7,
            7,
            10,
            10,
            2,
            2,
            9,
            8,
            6,
            6,
            4,
            1,
            1,
            3,
            5,
            5,
            7,
            10,
            2,
            2,
            8,
            6,
            4,
            1,
            1,
            3,
            5,
            10,
            2,
            2,
            6,
            4,
            1,
            1,
            3,
            10,
            2,
            2,
            4,
            1,
            1,
            10,
            2,
            2,
            1,
            1,
            2,
            1
           ],
           "y": [
            5,
            6,
            6,
            7,
            7,
            9,
            9,
            8,
            8,
            10,
            10,
            4,
            4,
            1,
            1,
            2,
            2,
            3,
            3,
            5,
            5,
            6,
            7,
            7,
            9,
            8,
            8,
            10,
            4,
            4,
            1,
            2,
            3,
            5,
            5,
            6,
            7,
            8,
            8,
            10,
            4,
            4,
            2,
            5,
            5,
            6,
            8,
            8,
            10,
            4,
            4,
            5,
            5,
            6,
            8,
            10,
            4,
            5,
            5,
            6,
            10,
            4,
            5,
            10
           ]
          }
         ],
         "name": "12"
        },
        {
         "data": [
          {
           "line": {
            "shape": "linear"
           },
           "marker": {
            "color": [
             "yellow",
             "red",
             "yellow",
             "green",
             "yellow",
             "green",
             "red",
             "green",
             "yellow",
             "red",
             "green",
             "red",
             "yellow",
             "blue",
             "green",
             "red",
             "blue",
             "blue",
             "blue",
             "green",
             "yellow",
             "red",
             "green",
             "yellow",
             "red",
             "green",
             "yellow",
             "green",
             "red",
             "yellow",
             "green",
             "red",
             "blue",
             "green",
             "yellow",
             "red",
             "yellow",
             "green",
             "yellow",
             "green",
             "red",
             "yellow",
             "red",
             "green",
             "yellow",
             "red",
             "green",
             "yellow",
             "green",
             "red",
             "yellow",
             "green",
             "yellow",
             "red",
             "yellow",
             "green",
             "red",
             "green",
             "yellow",
             "red",
             "green",
             "red",
             "yellow",
             "green"
            ],
            "size": 15
           },
           "mode": "lines+markers",
           "name": "Polygon",
           "type": "scatter",
           "x": [
            2,
            2,
            9,
            9,
            8,
            8,
            6,
            6,
            4,
            4,
            1,
            1,
            3,
            3,
            5,
            5,
            7,
            7,
            10,
            10,
            2,
            2,
            9,
            8,
            6,
            6,
            4,
            1,
            1,
            3,
            5,
            5,
            7,
            10,
            2,
            2,
            8,
            6,
            4,
            1,
            1,
            3,
            5,
            10,
            2,
            2,
            6,
            4,
            1,
            1,
            3,
            10,
            2,
            2,
            4,
            1,
            1,
            10,
            2,
            2,
            1,
            1,
            2,
            1
           ],
           "y": [
            5,
            6,
            6,
            7,
            7,
            9,
            9,
            8,
            8,
            10,
            10,
            4,
            4,
            1,
            1,
            2,
            2,
            3,
            3,
            5,
            5,
            6,
            7,
            7,
            9,
            8,
            8,
            10,
            4,
            4,
            1,
            2,
            3,
            5,
            5,
            6,
            7,
            8,
            8,
            10,
            4,
            4,
            2,
            5,
            5,
            6,
            8,
            8,
            10,
            4,
            4,
            5,
            5,
            6,
            8,
            10,
            4,
            5,
            5,
            6,
            10,
            4,
            5,
            10
           ]
          }
         ],
         "name": "13"
        },
        {
         "data": [
          {
           "line": {
            "shape": "linear"
           },
           "marker": {
            "color": [
             "yellow",
             "red",
             "yellow",
             "green",
             "yellow",
             "green",
             "red",
             "green",
             "yellow",
             "red",
             "green",
             "red",
             "yellow",
             "red",
             "green",
             "red",
             "blue",
             "blue",
             "blue",
             "green",
             "yellow",
             "red",
             "green",
             "yellow",
             "red",
             "green",
             "yellow",
             "green",
             "red",
             "yellow",
             "green",
             "red",
             "blue",
             "green",
             "yellow",
             "red",
             "yellow",
             "green",
             "yellow",
             "green",
             "red",
             "yellow",
             "red",
             "green",
             "yellow",
             "red",
             "green",
             "yellow",
             "green",
             "red",
             "yellow",
             "green",
             "yellow",
             "red",
             "yellow",
             "green",
             "red",
             "green",
             "yellow",
             "red",
             "green",
             "red",
             "yellow",
             "green"
            ],
            "size": 15
           },
           "mode": "lines+markers",
           "name": "Polygon",
           "type": "scatter",
           "x": [
            2,
            2,
            9,
            9,
            8,
            8,
            6,
            6,
            4,
            4,
            1,
            1,
            3,
            3,
            5,
            5,
            7,
            7,
            10,
            10,
            2,
            2,
            9,
            8,
            6,
            6,
            4,
            1,
            1,
            3,
            5,
            5,
            7,
            10,
            2,
            2,
            8,
            6,
            4,
            1,
            1,
            3,
            5,
            10,
            2,
            2,
            6,
            4,
            1,
            1,
            3,
            10,
            2,
            2,
            4,
            1,
            1,
            10,
            2,
            2,
            1,
            1,
            2,
            1
           ],
           "y": [
            5,
            6,
            6,
            7,
            7,
            9,
            9,
            8,
            8,
            10,
            10,
            4,
            4,
            1,
            1,
            2,
            2,
            3,
            3,
            5,
            5,
            6,
            7,
            7,
            9,
            8,
            8,
            10,
            4,
            4,
            1,
            2,
            3,
            5,
            5,
            6,
            7,
            8,
            8,
            10,
            4,
            4,
            2,
            5,
            5,
            6,
            8,
            8,
            10,
            4,
            4,
            5,
            5,
            6,
            8,
            10,
            4,
            5,
            5,
            6,
            10,
            4,
            5,
            10
           ]
          }
         ],
         "name": "14"
        },
        {
         "data": [
          {
           "line": {
            "shape": "linear"
           },
           "marker": {
            "color": [
             "yellow",
             "red",
             "yellow",
             "green",
             "yellow",
             "green",
             "red",
             "green",
             "yellow",
             "red",
             "green",
             "red",
             "yellow",
             "red",
             "green",
             "red",
             "blue",
             "yellow",
             "blue",
             "green",
             "yellow",
             "red",
             "green",
             "yellow",
             "red",
             "green",
             "yellow",
             "green",
             "red",
             "yellow",
             "green",
             "red",
             "yellow",
             "green",
             "yellow",
             "red",
             "yellow",
             "green",
             "yellow",
             "green",
             "red",
             "yellow",
             "red",
             "green",
             "yellow",
             "red",
             "green",
             "yellow",
             "green",
             "red",
             "yellow",
             "green",
             "yellow",
             "red",
             "yellow",
             "green",
             "red",
             "green",
             "yellow",
             "red",
             "green",
             "red",
             "yellow",
             "green"
            ],
            "size": 15
           },
           "mode": "lines+markers",
           "name": "Polygon",
           "type": "scatter",
           "x": [
            2,
            2,
            9,
            9,
            8,
            8,
            6,
            6,
            4,
            4,
            1,
            1,
            3,
            3,
            5,
            5,
            7,
            7,
            10,
            10,
            2,
            2,
            9,
            8,
            6,
            6,
            4,
            1,
            1,
            3,
            5,
            5,
            7,
            10,
            2,
            2,
            8,
            6,
            4,
            1,
            1,
            3,
            5,
            10,
            2,
            2,
            6,
            4,
            1,
            1,
            3,
            10,
            2,
            2,
            4,
            1,
            1,
            10,
            2,
            2,
            1,
            1,
            2,
            1
           ],
           "y": [
            5,
            6,
            6,
            7,
            7,
            9,
            9,
            8,
            8,
            10,
            10,
            4,
            4,
            1,
            1,
            2,
            2,
            3,
            3,
            5,
            5,
            6,
            7,
            7,
            9,
            8,
            8,
            10,
            4,
            4,
            1,
            2,
            3,
            5,
            5,
            6,
            7,
            8,
            8,
            10,
            4,
            4,
            2,
            5,
            5,
            6,
            8,
            8,
            10,
            4,
            4,
            5,
            5,
            6,
            8,
            10,
            4,
            5,
            5,
            6,
            10,
            4,
            5,
            10
           ]
          }
         ],
         "name": "15"
        },
        {
         "data": [
          {
           "line": {
            "shape": "linear"
           },
           "marker": {
            "color": [
             "yellow",
             "red",
             "yellow",
             "green",
             "yellow",
             "green",
             "red",
             "green",
             "yellow",
             "red",
             "green",
             "red",
             "yellow",
             "red",
             "green",
             "red",
             "green",
             "yellow",
             "blue",
             "green",
             "yellow",
             "red",
             "green",
             "yellow",
             "red",
             "green",
             "yellow",
             "green",
             "red",
             "yellow",
             "green",
             "red",
             "yellow",
             "green",
             "yellow",
             "red",
             "yellow",
             "green",
             "yellow",
             "green",
             "red",
             "yellow",
             "red",
             "green",
             "yellow",
             "red",
             "green",
             "yellow",
             "green",
             "red",
             "yellow",
             "green",
             "yellow",
             "red",
             "yellow",
             "green",
             "red",
             "green",
             "yellow",
             "red",
             "green",
             "red",
             "yellow",
             "green"
            ],
            "size": 15
           },
           "mode": "lines+markers",
           "name": "Polygon",
           "type": "scatter",
           "x": [
            2,
            2,
            9,
            9,
            8,
            8,
            6,
            6,
            4,
            4,
            1,
            1,
            3,
            3,
            5,
            5,
            7,
            7,
            10,
            10,
            2,
            2,
            9,
            8,
            6,
            6,
            4,
            1,
            1,
            3,
            5,
            5,
            7,
            10,
            2,
            2,
            8,
            6,
            4,
            1,
            1,
            3,
            5,
            10,
            2,
            2,
            6,
            4,
            1,
            1,
            3,
            10,
            2,
            2,
            4,
            1,
            1,
            10,
            2,
            2,
            1,
            1,
            2,
            1
           ],
           "y": [
            5,
            6,
            6,
            7,
            7,
            9,
            9,
            8,
            8,
            10,
            10,
            4,
            4,
            1,
            1,
            2,
            2,
            3,
            3,
            5,
            5,
            6,
            7,
            7,
            9,
            8,
            8,
            10,
            4,
            4,
            1,
            2,
            3,
            5,
            5,
            6,
            7,
            8,
            8,
            10,
            4,
            4,
            2,
            5,
            5,
            6,
            8,
            8,
            10,
            4,
            4,
            5,
            5,
            6,
            8,
            10,
            4,
            5,
            5,
            6,
            10,
            4,
            5,
            10
           ]
          }
         ],
         "name": "16"
        },
        {
         "data": [
          {
           "line": {
            "shape": "linear"
           },
           "marker": {
            "color": [
             "yellow",
             "red",
             "yellow",
             "green",
             "yellow",
             "green",
             "red",
             "green",
             "yellow",
             "red",
             "green",
             "red",
             "yellow",
             "red",
             "green",
             "red",
             "green",
             "yellow",
             "red",
             "green",
             "yellow",
             "red",
             "green",
             "yellow",
             "red",
             "green",
             "yellow",
             "green",
             "red",
             "yellow",
             "green",
             "red",
             "yellow",
             "green",
             "yellow",
             "red",
             "yellow",
             "green",
             "yellow",
             "green",
             "red",
             "yellow",
             "red",
             "green",
             "yellow",
             "red",
             "green",
             "yellow",
             "green",
             "red",
             "yellow",
             "green",
             "yellow",
             "red",
             "yellow",
             "green",
             "red",
             "green",
             "yellow",
             "red",
             "green",
             "red",
             "yellow",
             "green"
            ],
            "size": 15
           },
           "mode": "lines+markers",
           "name": "Polygon",
           "type": "scatter",
           "x": [
            2,
            2,
            9,
            9,
            8,
            8,
            6,
            6,
            4,
            4,
            1,
            1,
            3,
            3,
            5,
            5,
            7,
            7,
            10,
            10,
            2,
            2,
            9,
            8,
            6,
            6,
            4,
            1,
            1,
            3,
            5,
            5,
            7,
            10,
            2,
            2,
            8,
            6,
            4,
            1,
            1,
            3,
            5,
            10,
            2,
            2,
            6,
            4,
            1,
            1,
            3,
            10,
            2,
            2,
            4,
            1,
            1,
            10,
            2,
            2,
            1,
            1,
            2,
            1
           ],
           "y": [
            5,
            6,
            6,
            7,
            7,
            9,
            9,
            8,
            8,
            10,
            10,
            4,
            4,
            1,
            1,
            2,
            2,
            3,
            3,
            5,
            5,
            6,
            7,
            7,
            9,
            8,
            8,
            10,
            4,
            4,
            1,
            2,
            3,
            5,
            5,
            6,
            7,
            8,
            8,
            10,
            4,
            4,
            2,
            5,
            5,
            6,
            8,
            8,
            10,
            4,
            4,
            5,
            5,
            6,
            8,
            10,
            4,
            5,
            5,
            6,
            10,
            4,
            5,
            10
           ]
          }
         ],
         "name": "17"
        }
       ],
       "layout": {
        "height": 700,
        "hovermode": "closest",
        "sliders": [
         {
          "active": 0,
          "currentvalue": {
           "font": {
            "size": 20
           },
           "prefix": "Stage:",
           "visible": true,
           "xanchor": "right"
          },
          "len": 0.9,
          "pad": {
           "b": 10,
           "t": 50
          },
          "steps": [
           {
            "args": [
             [
              0
             ],
             {
              "frame": {
               "duration": 300,
               "redraw": false
              },
              "mode": "immediate",
              "transition": {
               "duration": 300
              }
             }
            ],
            "label": "0",
            "method": "animate"
           },
           {
            "args": [
             [
              1
             ],
             {
              "frame": {
               "duration": 300,
               "redraw": false
              },
              "mode": "immediate",
              "transition": {
               "duration": 300
              }
             }
            ],
            "label": "1",
            "method": "animate"
           },
           {
            "args": [
             [
              2
             ],
             {
              "frame": {
               "duration": 300,
               "redraw": false
              },
              "mode": "immediate",
              "transition": {
               "duration": 300
              }
             }
            ],
            "label": "2",
            "method": "animate"
           },
           {
            "args": [
             [
              3
             ],
             {
              "frame": {
               "duration": 300,
               "redraw": false
              },
              "mode": "immediate",
              "transition": {
               "duration": 300
              }
             }
            ],
            "label": "3",
            "method": "animate"
           },
           {
            "args": [
             [
              4
             ],
             {
              "frame": {
               "duration": 300,
               "redraw": false
              },
              "mode": "immediate",
              "transition": {
               "duration": 300
              }
             }
            ],
            "label": "4",
            "method": "animate"
           },
           {
            "args": [
             [
              5
             ],
             {
              "frame": {
               "duration": 300,
               "redraw": false
              },
              "mode": "immediate",
              "transition": {
               "duration": 300
              }
             }
            ],
            "label": "5",
            "method": "animate"
           },
           {
            "args": [
             [
              6
             ],
             {
              "frame": {
               "duration": 300,
               "redraw": false
              },
              "mode": "immediate",
              "transition": {
               "duration": 300
              }
             }
            ],
            "label": "6",
            "method": "animate"
           },
           {
            "args": [
             [
              7
             ],
             {
              "frame": {
               "duration": 300,
               "redraw": false
              },
              "mode": "immediate",
              "transition": {
               "duration": 300
              }
             }
            ],
            "label": "7",
            "method": "animate"
           },
           {
            "args": [
             [
              8
             ],
             {
              "frame": {
               "duration": 300,
               "redraw": false
              },
              "mode": "immediate",
              "transition": {
               "duration": 300
              }
             }
            ],
            "label": "8",
            "method": "animate"
           },
           {
            "args": [
             [
              9
             ],
             {
              "frame": {
               "duration": 300,
               "redraw": false
              },
              "mode": "immediate",
              "transition": {
               "duration": 300
              }
             }
            ],
            "label": "9",
            "method": "animate"
           },
           {
            "args": [
             [
              10
             ],
             {
              "frame": {
               "duration": 300,
               "redraw": false
              },
              "mode": "immediate",
              "transition": {
               "duration": 300
              }
             }
            ],
            "label": "10",
            "method": "animate"
           },
           {
            "args": [
             [
              11
             ],
             {
              "frame": {
               "duration": 300,
               "redraw": false
              },
              "mode": "immediate",
              "transition": {
               "duration": 300
              }
             }
            ],
            "label": "11",
            "method": "animate"
           },
           {
            "args": [
             [
              12
             ],
             {
              "frame": {
               "duration": 300,
               "redraw": false
              },
              "mode": "immediate",
              "transition": {
               "duration": 300
              }
             }
            ],
            "label": "12",
            "method": "animate"
           },
           {
            "args": [
             [
              13
             ],
             {
              "frame": {
               "duration": 300,
               "redraw": false
              },
              "mode": "immediate",
              "transition": {
               "duration": 300
              }
             }
            ],
            "label": "13",
            "method": "animate"
           },
           {
            "args": [
             [
              14
             ],
             {
              "frame": {
               "duration": 300,
               "redraw": false
              },
              "mode": "immediate",
              "transition": {
               "duration": 300
              }
             }
            ],
            "label": "14",
            "method": "animate"
           },
           {
            "args": [
             [
              15
             ],
             {
              "frame": {
               "duration": 300,
               "redraw": false
              },
              "mode": "immediate",
              "transition": {
               "duration": 300
              }
             }
            ],
            "label": "15",
            "method": "animate"
           },
           {
            "args": [
             [
              16
             ],
             {
              "frame": {
               "duration": 300,
               "redraw": false
              },
              "mode": "immediate",
              "transition": {
               "duration": 300
              }
             }
            ],
            "label": "16",
            "method": "animate"
           },
           {
            "args": [
             [
              17
             ],
             {
              "frame": {
               "duration": 300,
               "redraw": false
              },
              "mode": "immediate",
              "transition": {
               "duration": 300
              }
             }
            ],
            "label": "17",
            "method": "animate"
           }
          ],
          "transition": {
           "duration": 300,
           "easing": "cubic-in-out"
          },
          "x": 0.1,
          "xanchor": "left",
          "y": 0,
          "yanchor": "top"
         }
        ],
        "template": {
         "data": {
          "bar": [
           {
            "error_x": {
             "color": "#2a3f5f"
            },
            "error_y": {
             "color": "#2a3f5f"
            },
            "marker": {
             "line": {
              "color": "#E5ECF6",
              "width": 0.5
             },
             "pattern": {
              "fillmode": "overlay",
              "size": 10,
              "solidity": 0.2
             }
            },
            "type": "bar"
           }
          ],
          "barpolar": [
           {
            "marker": {
             "line": {
              "color": "#E5ECF6",
              "width": 0.5
             },
             "pattern": {
              "fillmode": "overlay",
              "size": 10,
              "solidity": 0.2
             }
            },
            "type": "barpolar"
           }
          ],
          "carpet": [
           {
            "aaxis": {
             "endlinecolor": "#2a3f5f",
             "gridcolor": "white",
             "linecolor": "white",
             "minorgridcolor": "white",
             "startlinecolor": "#2a3f5f"
            },
            "baxis": {
             "endlinecolor": "#2a3f5f",
             "gridcolor": "white",
             "linecolor": "white",
             "minorgridcolor": "white",
             "startlinecolor": "#2a3f5f"
            },
            "type": "carpet"
           }
          ],
          "choropleth": [
           {
            "colorbar": {
             "outlinewidth": 0,
             "ticks": ""
            },
            "type": "choropleth"
           }
          ],
          "contour": [
           {
            "colorbar": {
             "outlinewidth": 0,
             "ticks": ""
            },
            "colorscale": [
             [
              0,
              "#0d0887"
             ],
             [
              0.1111111111111111,
              "#46039f"
             ],
             [
              0.2222222222222222,
              "#7201a8"
             ],
             [
              0.3333333333333333,
              "#9c179e"
             ],
             [
              0.4444444444444444,
              "#bd3786"
             ],
             [
              0.5555555555555556,
              "#d8576b"
             ],
             [
              0.6666666666666666,
              "#ed7953"
             ],
             [
              0.7777777777777778,
              "#fb9f3a"
             ],
             [
              0.8888888888888888,
              "#fdca26"
             ],
             [
              1,
              "#f0f921"
             ]
            ],
            "type": "contour"
           }
          ],
          "contourcarpet": [
           {
            "colorbar": {
             "outlinewidth": 0,
             "ticks": ""
            },
            "type": "contourcarpet"
           }
          ],
          "heatmap": [
           {
            "colorbar": {
             "outlinewidth": 0,
             "ticks": ""
            },
            "colorscale": [
             [
              0,
              "#0d0887"
             ],
             [
              0.1111111111111111,
              "#46039f"
             ],
             [
              0.2222222222222222,
              "#7201a8"
             ],
             [
              0.3333333333333333,
              "#9c179e"
             ],
             [
              0.4444444444444444,
              "#bd3786"
             ],
             [
              0.5555555555555556,
              "#d8576b"
             ],
             [
              0.6666666666666666,
              "#ed7953"
             ],
             [
              0.7777777777777778,
              "#fb9f3a"
             ],
             [
              0.8888888888888888,
              "#fdca26"
             ],
             [
              1,
              "#f0f921"
             ]
            ],
            "type": "heatmap"
           }
          ],
          "heatmapgl": [
           {
            "colorbar": {
             "outlinewidth": 0,
             "ticks": ""
            },
            "colorscale": [
             [
              0,
              "#0d0887"
             ],
             [
              0.1111111111111111,
              "#46039f"
             ],
             [
              0.2222222222222222,
              "#7201a8"
             ],
             [
              0.3333333333333333,
              "#9c179e"
             ],
             [
              0.4444444444444444,
              "#bd3786"
             ],
             [
              0.5555555555555556,
              "#d8576b"
             ],
             [
              0.6666666666666666,
              "#ed7953"
             ],
             [
              0.7777777777777778,
              "#fb9f3a"
             ],
             [
              0.8888888888888888,
              "#fdca26"
             ],
             [
              1,
              "#f0f921"
             ]
            ],
            "type": "heatmapgl"
           }
          ],
          "histogram": [
           {
            "marker": {
             "pattern": {
              "fillmode": "overlay",
              "size": 10,
              "solidity": 0.2
             }
            },
            "type": "histogram"
           }
          ],
          "histogram2d": [
           {
            "colorbar": {
             "outlinewidth": 0,
             "ticks": ""
            },
            "colorscale": [
             [
              0,
              "#0d0887"
             ],
             [
              0.1111111111111111,
              "#46039f"
             ],
             [
              0.2222222222222222,
              "#7201a8"
             ],
             [
              0.3333333333333333,
              "#9c179e"
             ],
             [
              0.4444444444444444,
              "#bd3786"
             ],
             [
              0.5555555555555556,
              "#d8576b"
             ],
             [
              0.6666666666666666,
              "#ed7953"
             ],
             [
              0.7777777777777778,
              "#fb9f3a"
             ],
             [
              0.8888888888888888,
              "#fdca26"
             ],
             [
              1,
              "#f0f921"
             ]
            ],
            "type": "histogram2d"
           }
          ],
          "histogram2dcontour": [
           {
            "colorbar": {
             "outlinewidth": 0,
             "ticks": ""
            },
            "colorscale": [
             [
              0,
              "#0d0887"
             ],
             [
              0.1111111111111111,
              "#46039f"
             ],
             [
              0.2222222222222222,
              "#7201a8"
             ],
             [
              0.3333333333333333,
              "#9c179e"
             ],
             [
              0.4444444444444444,
              "#bd3786"
             ],
             [
              0.5555555555555556,
              "#d8576b"
             ],
             [
              0.6666666666666666,
              "#ed7953"
             ],
             [
              0.7777777777777778,
              "#fb9f3a"
             ],
             [
              0.8888888888888888,
              "#fdca26"
             ],
             [
              1,
              "#f0f921"
             ]
            ],
            "type": "histogram2dcontour"
           }
          ],
          "mesh3d": [
           {
            "colorbar": {
             "outlinewidth": 0,
             "ticks": ""
            },
            "type": "mesh3d"
           }
          ],
          "parcoords": [
           {
            "line": {
             "colorbar": {
              "outlinewidth": 0,
              "ticks": ""
             }
            },
            "type": "parcoords"
           }
          ],
          "pie": [
           {
            "automargin": true,
            "type": "pie"
           }
          ],
          "scatter": [
           {
            "fillpattern": {
             "fillmode": "overlay",
             "size": 10,
             "solidity": 0.2
            },
            "type": "scatter"
           }
          ],
          "scatter3d": [
           {
            "line": {
             "colorbar": {
              "outlinewidth": 0,
              "ticks": ""
             }
            },
            "marker": {
             "colorbar": {
              "outlinewidth": 0,
              "ticks": ""
             }
            },
            "type": "scatter3d"
           }
          ],
          "scattercarpet": [
           {
            "marker": {
             "colorbar": {
              "outlinewidth": 0,
              "ticks": ""
             }
            },
            "type": "scattercarpet"
           }
          ],
          "scattergeo": [
           {
            "marker": {
             "colorbar": {
              "outlinewidth": 0,
              "ticks": ""
             }
            },
            "type": "scattergeo"
           }
          ],
          "scattergl": [
           {
            "marker": {
             "colorbar": {
              "outlinewidth": 0,
              "ticks": ""
             }
            },
            "type": "scattergl"
           }
          ],
          "scattermapbox": [
           {
            "marker": {
             "colorbar": {
              "outlinewidth": 0,
              "ticks": ""
             }
            },
            "type": "scattermapbox"
           }
          ],
          "scatterpolar": [
           {
            "marker": {
             "colorbar": {
              "outlinewidth": 0,
              "ticks": ""
             }
            },
            "type": "scatterpolar"
           }
          ],
          "scatterpolargl": [
           {
            "marker": {
             "colorbar": {
              "outlinewidth": 0,
              "ticks": ""
             }
            },
            "type": "scatterpolargl"
           }
          ],
          "scatterternary": [
           {
            "marker": {
             "colorbar": {
              "outlinewidth": 0,
              "ticks": ""
             }
            },
            "type": "scatterternary"
           }
          ],
          "surface": [
           {
            "colorbar": {
             "outlinewidth": 0,
             "ticks": ""
            },
            "colorscale": [
             [
              0,
              "#0d0887"
             ],
             [
              0.1111111111111111,
              "#46039f"
             ],
             [
              0.2222222222222222,
              "#7201a8"
             ],
             [
              0.3333333333333333,
              "#9c179e"
             ],
             [
              0.4444444444444444,
              "#bd3786"
             ],
             [
              0.5555555555555556,
              "#d8576b"
             ],
             [
              0.6666666666666666,
              "#ed7953"
             ],
             [
              0.7777777777777778,
              "#fb9f3a"
             ],
             [
              0.8888888888888888,
              "#fdca26"
             ],
             [
              1,
              "#f0f921"
             ]
            ],
            "type": "surface"
           }
          ],
          "table": [
           {
            "cells": {
             "fill": {
              "color": "#EBF0F8"
             },
             "line": {
              "color": "white"
             }
            },
            "header": {
             "fill": {
              "color": "#C8D4E3"
             },
             "line": {
              "color": "white"
             }
            },
            "type": "table"
           }
          ]
         },
         "layout": {
          "annotationdefaults": {
           "arrowcolor": "#2a3f5f",
           "arrowhead": 0,
           "arrowwidth": 1
          },
          "autotypenumbers": "strict",
          "coloraxis": {
           "colorbar": {
            "outlinewidth": 0,
            "ticks": ""
           }
          },
          "colorscale": {
           "diverging": [
            [
             0,
             "#8e0152"
            ],
            [
             0.1,
             "#c51b7d"
            ],
            [
             0.2,
             "#de77ae"
            ],
            [
             0.3,
             "#f1b6da"
            ],
            [
             0.4,
             "#fde0ef"
            ],
            [
             0.5,
             "#f7f7f7"
            ],
            [
             0.6,
             "#e6f5d0"
            ],
            [
             0.7,
             "#b8e186"
            ],
            [
             0.8,
             "#7fbc41"
            ],
            [
             0.9,
             "#4d9221"
            ],
            [
             1,
             "#276419"
            ]
           ],
           "sequential": [
            [
             0,
             "#0d0887"
            ],
            [
             0.1111111111111111,
             "#46039f"
            ],
            [
             0.2222222222222222,
             "#7201a8"
            ],
            [
             0.3333333333333333,
             "#9c179e"
            ],
            [
             0.4444444444444444,
             "#bd3786"
            ],
            [
             0.5555555555555556,
             "#d8576b"
            ],
            [
             0.6666666666666666,
             "#ed7953"
            ],
            [
             0.7777777777777778,
             "#fb9f3a"
            ],
            [
             0.8888888888888888,
             "#fdca26"
            ],
            [
             1,
             "#f0f921"
            ]
           ],
           "sequentialminus": [
            [
             0,
             "#0d0887"
            ],
            [
             0.1111111111111111,
             "#46039f"
            ],
            [
             0.2222222222222222,
             "#7201a8"
            ],
            [
             0.3333333333333333,
             "#9c179e"
            ],
            [
             0.4444444444444444,
             "#bd3786"
            ],
            [
             0.5555555555555556,
             "#d8576b"
            ],
            [
             0.6666666666666666,
             "#ed7953"
            ],
            [
             0.7777777777777778,
             "#fb9f3a"
            ],
            [
             0.8888888888888888,
             "#fdca26"
            ],
            [
             1,
             "#f0f921"
            ]
           ]
          },
          "colorway": [
           "#636efa",
           "#EF553B",
           "#00cc96",
           "#ab63fa",
           "#FFA15A",
           "#19d3f3",
           "#FF6692",
           "#B6E880",
           "#FF97FF",
           "#FECB52"
          ],
          "font": {
           "color": "#2a3f5f"
          },
          "geo": {
           "bgcolor": "white",
           "lakecolor": "white",
           "landcolor": "#E5ECF6",
           "showlakes": true,
           "showland": true,
           "subunitcolor": "white"
          },
          "hoverlabel": {
           "align": "left"
          },
          "hovermode": "closest",
          "mapbox": {
           "style": "light"
          },
          "paper_bgcolor": "white",
          "plot_bgcolor": "#E5ECF6",
          "polar": {
           "angularaxis": {
            "gridcolor": "white",
            "linecolor": "white",
            "ticks": ""
           },
           "bgcolor": "#E5ECF6",
           "radialaxis": {
            "gridcolor": "white",
            "linecolor": "white",
            "ticks": ""
           }
          },
          "scene": {
           "xaxis": {
            "backgroundcolor": "#E5ECF6",
            "gridcolor": "white",
            "gridwidth": 2,
            "linecolor": "white",
            "showbackground": true,
            "ticks": "",
            "zerolinecolor": "white"
           },
           "yaxis": {
            "backgroundcolor": "#E5ECF6",
            "gridcolor": "white",
            "gridwidth": 2,
            "linecolor": "white",
            "showbackground": true,
            "ticks": "",
            "zerolinecolor": "white"
           },
           "zaxis": {
            "backgroundcolor": "#E5ECF6",
            "gridcolor": "white",
            "gridwidth": 2,
            "linecolor": "white",
            "showbackground": true,
            "ticks": "",
            "zerolinecolor": "white"
           }
          },
          "shapedefaults": {
           "line": {
            "color": "#2a3f5f"
           }
          },
          "ternary": {
           "aaxis": {
            "gridcolor": "white",
            "linecolor": "white",
            "ticks": ""
           },
           "baxis": {
            "gridcolor": "white",
            "linecolor": "white",
            "ticks": ""
           },
           "bgcolor": "#E5ECF6",
           "caxis": {
            "gridcolor": "white",
            "linecolor": "white",
            "ticks": ""
           }
          },
          "title": {
           "x": 0.05
          },
          "xaxis": {
           "automargin": true,
           "gridcolor": "white",
           "linecolor": "white",
           "ticks": "",
           "title": {
            "standoff": 15
           },
           "zerolinecolor": "white",
           "zerolinewidth": 2
          },
          "yaxis": {
           "automargin": true,
           "gridcolor": "white",
           "linecolor": "white",
           "ticks": "",
           "title": {
            "standoff": 15
           },
           "zerolinecolor": "white",
           "zerolinewidth": 2
          }
         }
        },
        "title": {
         "text": "Execução do Algoritmo de Coloração em Cada Triângulo"
        },
        "updatemenus": [
         {
          "buttons": [
           {
            "args": [
             null,
             {
              "frame": {
               "duration": 500,
               "redraw": false
              },
              "fromcurrent": true,
              "transition": {
               "duration": 300,
               "easing": "quadratic-in-out"
              }
             }
            ],
            "label": "Play",
            "method": "animate"
           },
           {
            "args": [
             [
              null
             ],
             {
              "frame": {
               "duration": 0,
               "redraw": false
              },
              "mode": "immediate",
              "transition": {
               "duration": 0
              }
             }
            ],
            "label": "Pause",
            "method": "animate"
           }
          ],
          "direction": "left",
          "pad": {
           "r": 10,
           "t": 87
          },
          "showactive": false,
          "type": "buttons",
          "x": 0.1,
          "xanchor": "right",
          "y": 0,
          "yanchor": "top"
         }
        ],
        "width": 900,
        "xaxis": {
         "range": [
          -1,
          12
         ],
         "title": {
          "text": "X"
         }
        },
        "yaxis": {
         "range": [
          -1,
          12
         ],
         "title": {
          "text": "Y"
         }
        }
       }
      }
     },
     "metadata": {},
     "output_type": "display_data"
    }
   ],
   "source": [
    "\n",
    "fig_dict = {\n",
    "    \"data\": [],\n",
    "    \"layout\": {},\n",
    "    \"frames\": []\n",
    "}\n",
    "\n",
    "# Configuração do layout\n",
    "fig_dict[\"layout\"][\"title\"] = \"Execução do Algoritmo de Coloração em Cada Triângulo\"\n",
    "fig_dict[\"layout\"][\"width\"] = 900 \n",
    "fig_dict[\"layout\"][\"height\"] = 700\n",
    "fig_dict[\"layout\"][\"xaxis\"] = {\"range\": [xMin, xMax], \"title\": \"X\"}\n",
    "fig_dict[\"layout\"][\"yaxis\"] = {\"range\": [yMin, yMax], \"title\": \"Y\"}\n",
    "fig_dict[\"layout\"][\"hovermode\"] = \"closest\"\n",
    "fig_dict[\"layout\"][\"updatemenus\"] = [\n",
    "    {\n",
    "        \"buttons\": [\n",
    "            {\n",
    "                \"args\": [None, {\"frame\": {\"duration\": 500, \"redraw\": False},\n",
    "                                \"fromcurrent\": True, \"transition\": {\"duration\": 300,\n",
    "                                                                    \"easing\": \"quadratic-in-out\"}}],\n",
    "                \"label\": \"Play\",\n",
    "                \"method\": \"animate\"\n",
    "            },\n",
    "            {\n",
    "                \"args\": [[None], {\"frame\": {\"duration\": 0, \"redraw\": False},\n",
    "                                  \"mode\": \"immediate\",\n",
    "                                  \"transition\": {\"duration\": 0}}],\n",
    "                \"label\": \"Pause\",\n",
    "                \"method\": \"animate\"\n",
    "            }\n",
    "        ],\n",
    "        \"direction\": \"left\",\n",
    "        \"pad\": {\"r\": 10, \"t\": 87},\n",
    "        \"showactive\": False,\n",
    "        \"type\": \"buttons\",\n",
    "        \"x\": 0.1,\n",
    "        \"xanchor\": \"right\",\n",
    "        \"y\": 0,\n",
    "        \"yanchor\": \"top\"\n",
    "    }\n",
    "]\n",
    "\n",
    "sliders_dict = {\n",
    "    \"active\": 0,\n",
    "    \"yanchor\": \"top\",\n",
    "    \"xanchor\": \"left\",\n",
    "    \"currentvalue\": {\n",
    "        \"font\": {\"size\": 20},\n",
    "        \"prefix\": \"Stage:\",\n",
    "        \"visible\": True,\n",
    "        \"xanchor\": \"right\"\n",
    "    },\n",
    "    \"transition\": {\"duration\": 300, \"easing\": \"cubic-in-out\"},\n",
    "    \"pad\": {\"b\": 10, \"t\": 50},\n",
    "    \"len\": 0.9,\n",
    "    \"x\": 0.1,\n",
    "    \"y\": 0,\n",
    "    \"steps\": []\n",
    "}\n",
    "\n",
    "# Configuração inicial do polígono\n",
    "initial_polygon = polygon_stages[-1]\n",
    "x, y = zip(*initial_polygon)\n",
    "\n",
    "colors = ['blue'] * (len(x))\n",
    "data_dict = {\n",
    "    \"x\": x,\n",
    "    \"y\": y,\n",
    "    \"mode\": \"lines+markers\",\n",
    "    \"marker\": {\"color\": colors, \"size\": 15},\n",
    "    \"name\": \"Polygon\",\n",
    "    \"line\": {\"shape\": \"linear\"}\n",
    "}\n",
    "fig_dict[\"data\"].append(data_dict)\n",
    "\n",
    "# Criação dos frames para cada estágio do polígono\n",
    "for i, stage in enumerate(stages):\n",
    "    frame = {\"data\": [], \"name\": str(i)}\n",
    "    mapping_colors = np.array(stages[i])[list(map(lambda x: list(nx.get_node_attributes(colored_Graph, 'pos').values()).index(x), polygon_stages[-1]))]\n",
    "    colors = ['blue' if c == None else c for c in mapping_colors]\n",
    "    data_dict = {\n",
    "        \"x\": x,\n",
    "        \"y\": y,\n",
    "        \"mode\": \"lines+markers\",\n",
    "        \"marker\": {\"color\": colors, \"size\": 15},\n",
    "        \"name\": \"Polygon\",\n",
    "        \"line\": {\"shape\": \"linear\"}\n",
    "    }\n",
    "    frame[\"data\"].append(data_dict)\n",
    "    fig_dict[\"frames\"].append(frame)\n",
    "\n",
    "    slider_step = {\n",
    "        \"args\": [\n",
    "            [i],\n",
    "            {\"frame\": {\"duration\": 300, \"redraw\": False},\n",
    "             \"mode\": \"immediate\",\n",
    "             \"transition\": {\"duration\": 300}}\n",
    "        ],\n",
    "        \"label\": i,\n",
    "        \"method\": \"animate\"\n",
    "    }\n",
    "    sliders_dict[\"steps\"].append(slider_step)\n",
    "\n",
    "fig_dict[\"layout\"][\"sliders\"] = [sliders_dict]\n",
    "\n",
    "fig = go.Figure(fig_dict)\n",
    "\n",
    "fig.show()"
   ]
  },
  {
   "cell_type": "markdown",
   "metadata": {},
   "source": [
    "## Resposta Final"
   ]
  },
  {
   "cell_type": "markdown",
   "metadata": {},
   "source": [
    "A resposta final é dada ao colocar as câmeras nos vértices que estão coloridos com a cor que possui a menor quantidade de vértices pintados com ela."
   ]
  },
  {
   "cell_type": "code",
   "execution_count": 17,
   "metadata": {},
   "outputs": [
    {
     "name": "stdout",
     "output_type": "stream",
     "text": [
      "Há 7 vértices com a cor green\n",
      "Há 7 vértices com a cor red\n",
      "Há 6 vértices com a cor yellow\n",
      "\n",
      " Logo a resposta final são 6 câmeras colocadas sobre os vértices de cor yellow\n"
     ]
    }
   ],
   "source": [
    "color, counts = np.unique(stages[-1],return_counts=True)\n",
    "for i in range(len(color)):\n",
    "    print(f\"Há {counts[i]} vértices com a cor {color[i]}\")\n",
    "    \n",
    "print(f\"\\n Logo a resposta final são {min(counts)} câmeras colocadas sobre os vértices de cor {color[np.where(counts == min(counts))][0]}\")"
   ]
  },
  {
   "cell_type": "code",
   "execution_count": null,
   "metadata": {},
   "outputs": [],
   "source": []
  }
 ],
 "metadata": {
  "kernelspec": {
   "display_name": "Python 3",
   "language": "python",
   "name": "python3"
  },
  "language_info": {
   "codemirror_mode": {
    "name": "ipython",
    "version": 3
   },
   "file_extension": ".py",
   "mimetype": "text/x-python",
   "name": "python",
   "nbconvert_exporter": "python",
   "pygments_lexer": "ipython3",
   "version": "3.9.13"
  }
 },
 "nbformat": 4,
 "nbformat_minor": 2
}
