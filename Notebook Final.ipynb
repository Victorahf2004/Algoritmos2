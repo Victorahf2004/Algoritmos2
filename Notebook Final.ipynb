{
 "cells": [
  {
   "cell_type": "markdown",
   "metadata": {},
   "source": [
    "<H3>Trabalho Prático 1 - Algoritmos 2 2024.1 UFMG</H3>\n",
    "Membros:\n",
    "\n",
    "* Gabriel Arcanjo Campelo Fadoul - 2021031645\n",
    "* Mateus Gonçalves Moreira - 2022035610\n",
    "* Victor Augusto Hon Fonseca - 2022035814"
   ]
  },
  {
   "cell_type": "code",
   "execution_count": null,
   "metadata": {},
   "outputs": [
    {
     "ename": "",
     "evalue": "",
     "output_type": "error",
     "traceback": [
      "\u001b[1;31mRunning cells with 'Python 3.9.13' requires the ipykernel package.\n",
      "\u001b[1;31mRun the following command to install 'ipykernel' into the Python environment. \n",
      "\u001b[1;31mCommand: '\"c:/Program Files (x86)/Microsoft Visual Studio/Shared/Python39_64/python.exe\" -m pip install ipykernel -U --user --force-reinstall'"
     ]
    }
   ],
   "source": [
    "import numpy as np\n",
    "import pandas as pd\n",
    "import plotly.express as px\n",
    "import plotly.graph_objects as go\n",
    "from TriangProntaAlterada import *"
   ]
  },
  {
   "cell_type": "markdown",
   "metadata": {},
   "source": [
    "<H4> Carga das instâncias de testes"
   ]
  },
  {
   "cell_type": "code",
   "execution_count": null,
   "metadata": {},
   "outputs": [
    {
     "ename": "",
     "evalue": "",
     "output_type": "error",
     "traceback": [
      "\u001b[1;31mRunning cells with 'Python 3.9.13' requires the ipykernel package.\n",
      "\u001b[1;31mRun the following command to install 'ipykernel' into the Python environment. \n",
      "\u001b[1;31mCommand: '\"c:/Program Files (x86)/Microsoft Visual Studio/Shared/Python39_64/python.exe\" -m pip install ipykernel -U --user --force-reinstall'"
     ]
    }
   ],
   "source": [
    "with open(\"instances\\\\agp2009a-orthorand\\\\agp2009a-orthorand\\\\random-20-1.pol\") as f:\n",
    "    line = f.readline()\n",
    "    file_values = line.split()\n",
    "total_vertices = int(file_values[0])\n",
    "\n",
    "G = Grafo()\n",
    "\n",
    "#Adiciona Vértices no Grafo\n",
    "V = []\n",
    "for i in range(1,len(file_values),2):\n",
    "    X, Y = file_values[i], file_values[i+1]\n",
    "    \n",
    "    a, b = X.split(\"/\")\n",
    "    coord_x = float(a) / float(b)\n",
    "    \n",
    "    a, b = Y.split(\"/\")\n",
    "    coord_y = float(a) / float(b)\n",
    "    \n",
    "    V.append(Vertice(coord_x, coord_y))\n",
    "    G.adicionar_vertice(Vertice(coord_x, coord_y))\n",
    "\n",
    "# Adiciona Arestas no Grafo\n",
    "for i in range(len(V)-1):\n",
    "    G.adicionar_aresta(Aresta(G.vertices[i],G.vertices[i+1]))\n",
    "G.adicionar_aresta(Aresta(G.vertices[len(V)-1],G.vertices[0]))"
   ]
  },
  {
   "cell_type": "code",
   "execution_count": null,
   "metadata": {},
   "outputs": [
    {
     "ename": "",
     "evalue": "",
     "output_type": "error",
     "traceback": [
      "\u001b[1;31mRunning cells with 'Python 3.9.13' requires the ipykernel package.\n",
      "\u001b[1;31mRun the following command to install 'ipykernel' into the Python environment. \n",
      "\u001b[1;31mCommand: '\"c:/Program Files (x86)/Microsoft Visual Studio/Shared/Python39_64/python.exe\" -m pip install ipykernel -U --user --force-reinstall'"
     ]
    }
   ],
   "source": [
    "#df = px.data.gapminder()\n",
    "v = list(map(lambda P: (P.x,P.y),V))\n",
    "fig = go.Figure(\n",
    "        data = [go.Scatter(x=np.array(v)[:,0],y=np.array(v)[:,1])]\n",
    "                )\n",
    "#fig.update_traces(marker_size=10)\n",
    "fig.show()"
   ]
  },
  {
   "cell_type": "markdown",
   "metadata": {},
   "source": [
    "<H4>Funções Primitivas de Geometria Computacional"
   ]
  },
  {
   "cell_type": "markdown",
   "metadata": {},
   "source": [
    "<H4>Funções de Triangulação"
   ]
  },
  {
   "cell_type": "markdown",
   "metadata": {},
   "source": [
    "<H4>Animações"
   ]
  },
  {
   "cell_type": "code",
   "execution_count": null,
   "metadata": {},
   "outputs": [
    {
     "ename": "",
     "evalue": "",
     "output_type": "error",
     "traceback": [
      "\u001b[1;31mRunning cells with 'Python 3.9.13' requires the ipykernel package.\n",
      "\u001b[1;31mRun the following command to install 'ipykernel' into the Python environment. \n",
      "\u001b[1;31mCommand: '\"c:/Program Files (x86)/Microsoft Visual Studio/Shared/Python39_64/python.exe\" -m pip install ipykernel -U --user --force-reinstall'"
     ]
    }
   ],
   "source": [
    "#df = px.data.gapminder()\n",
    "v = list(map(lambda P: (P.x,P.y),G.vertices))\n",
    "\n",
    "\n",
    "fig = px.line(x=np.array(v)[:,0],y=np.array(v)[:,1],markers=True)\n",
    "fig.update_traces(marker_size=10)\n",
    "#fig.update_traces(marker=dict(size=100,\n",
    "#                              line=dict(width=2,\n",
    "#                                        color='DarkSlateGrey')),\n",
    "#                  selector=dict(mode='markers'))\n",
    "fig.show()"
   ]
  },
  {
   "cell_type": "code",
   "execution_count": null,
   "metadata": {},
   "outputs": [
    {
     "ename": "",
     "evalue": "",
     "output_type": "error",
     "traceback": [
      "\u001b[1;31mRunning cells with 'Python 3.9.13' requires the ipykernel package.\n",
      "\u001b[1;31mRun the following command to install 'ipykernel' into the Python environment. \n",
      "\u001b[1;31mCommand: '\"c:/Program Files (x86)/Microsoft Visual Studio/Shared/Python39_64/python.exe\" -m pip install ipykernel -U --user --force-reinstall'"
     ]
    }
   ],
   "source": [
    "(G, triangulos) = triangulacao(G)\n",
    "#plot_custom_polygon(G.graph, G.vertices, G.arestas)"
   ]
  },
  {
   "cell_type": "code",
   "execution_count": null,
   "metadata": {},
   "outputs": [
    {
     "ename": "",
     "evalue": "",
     "output_type": "error",
     "traceback": [
      "\u001b[1;31mRunning cells with 'Python 3.9.13' requires the ipykernel package.\n",
      "\u001b[1;31mRun the following command to install 'ipykernel' into the Python environment. \n",
      "\u001b[1;31mCommand: '\"c:/Program Files (x86)/Microsoft Visual Studio/Shared/Python39_64/python.exe\" -m pip install ipykernel -U --user --force-reinstall'"
     ]
    }
   ],
   "source": [
    "def color_triangle(graph, triangulos, i):\n",
    "    colors = [0, 1, 2]\n",
    "    if i == 0:\n",
    "        p1,p2,p3 = triangulos[i]\n",
    "        graph.nodes[p1]['color'] = colors[0]\n",
    "        graph.nodes[p2]['color'] = colors[1]\n",
    "        graph.nodes[p3]['color'] = colors[2]\n",
    "        return graph\n",
    "\n",
    "    ja_coloridos = dict()\n",
    "    point = 0\n",
    "    for p in triangulos[i]:\n",
    "        if graph.nodes[p]['color'] != None:\n",
    "            ja_coloridos[p] = graph.nodes[p]['color']\n",
    "        else:\n",
    "            point = p    \n",
    "            \n",
    "    to_color = list((set(colors) - (set(ja_coloridos.values()) & set(colors))))[0]\n",
    "    graph.nodes[point]['color'] = to_color\n",
    "    \n",
    "    return graph\n",
    "\n"
   ]
  },
  {
   "cell_type": "code",
   "execution_count": null,
   "metadata": {},
   "outputs": [
    {
     "ename": "",
     "evalue": "",
     "output_type": "error",
     "traceback": [
      "\u001b[1;31mRunning cells with 'Python 3.9.13' requires the ipykernel package.\n",
      "\u001b[1;31mRun the following command to install 'ipykernel' into the Python environment. \n",
      "\u001b[1;31mCommand: '\"c:/Program Files (x86)/Microsoft Visual Studio/Shared/Python39_64/python.exe\" -m pip install ipykernel -U --user --force-reinstall'"
     ]
    }
   ],
   "source": [
    "colored_Graph = G.graph.copy()\n",
    "\n",
    "dual = nx.Graph()\n",
    "for i in range(len(triangulos)):\n",
    "    tri_v = '-'.join(np.array(triangulos[i],dtype=str))\n",
    "    dual.add_node(i,tri_v = tri_v)\n",
    "\n",
    "for i in range(len(triangulos)):\n",
    "    for j in range(len(triangulos)):\n",
    "        if(len(set(triangulos[i]+triangulos[j]))) == 4:\n",
    "            dual.add_edge(i,j)\n",
    "\n",
    "dfs_edges = list(nx.dfs_edges(dual))\n",
    "colored_Graph = color_triangle(colored_Graph,triangulos,0)\n",
    "for i,j in dfs_edges:\n",
    "    colored_Graph = color_triangle(colored_Graph,triangulos,j)"
   ]
  },
  {
   "cell_type": "code",
   "execution_count": null,
   "metadata": {},
   "outputs": [
    {
     "ename": "",
     "evalue": "",
     "output_type": "error",
     "traceback": [
      "\u001b[1;31mRunning cells with 'Python 3.9.13' requires the ipykernel package.\n",
      "\u001b[1;31mRun the following command to install 'ipykernel' into the Python environment. \n",
      "\u001b[1;31mCommand: '\"c:/Program Files (x86)/Microsoft Visual Studio/Shared/Python39_64/python.exe\" -m pip install ipykernel -U --user --force-reinstall'"
     ]
    }
   ],
   "source": [
    "colors  = list(nx.get_node_attributes(colored_Graph,'color').values())"
   ]
  },
  {
   "cell_type": "code",
   "execution_count": null,
   "metadata": {},
   "outputs": [
    {
     "ename": "",
     "evalue": "",
     "output_type": "error",
     "traceback": [
      "\u001b[1;31mRunning cells with 'Python 3.9.13' requires the ipykernel package.\n",
      "\u001b[1;31mRun the following command to install 'ipykernel' into the Python environment. \n",
      "\u001b[1;31mCommand: '\"c:/Program Files (x86)/Microsoft Visual Studio/Shared/Python39_64/python.exe\" -m pip install ipykernel -U --user --force-reinstall'"
     ]
    }
   ],
   "source": [
    "def plot_custom_polygon_2(G, vertices, arestas, coloracao):\n",
    "    fig, ax = plt.subplots()\n",
    "    # Pega as posições dos nós\n",
    "    pos = nx.get_node_attributes(G, 'pos')\n",
    "\n",
    "    # Define um mapa de cores para as 3 cores\n",
    "    cores = ['cyan', 'magenta', 'yellow']  # Pode ajustar as cores conforme necessário\n",
    "\n",
    "    # Desenha o grafo com as cores especificadas na coloração\n",
    "    node_colors = [cores[coloracao[i]] for i in range(len(vertices))]\n",
    "    nx.draw(G, pos, with_labels=True, node_color=node_colors, edge_color='r', node_size=500, font_size=12, font_color='black')\n",
    "\n",
    "    # Desenha apenas os segmentos de arestas definidos\n",
    "    for ar in arestas:\n",
    "        x_values = [ar.pInicio.x, ar.pFinal.x]\n",
    "        y_values = [ar.pInicio.y, ar.pFinal.y]\n",
    "        ax.plot(x_values, y_values, 'r-')\n",
    "\n",
    "    # Ajusta os limites do gráfico\n",
    "    ax.set_xlim(min(v.x for v in vertices) - 1, max(v.x for v in vertices) + 1)\n",
    "    ax.set_ylim(min(v.y for v in vertices) - 1, max(v.y for v in vertices) + 1)\n",
    "    ax.set_aspect('equal')\n",
    "\n",
    "    plt.xlabel('X')\n",
    "    plt.ylabel('Y')\n",
    "    plt.title('Custom Polygon')\n",
    "    plt.grid(True)\n",
    "\n",
    "    plt.show()"
   ]
  },
  {
   "cell_type": "code",
   "execution_count": null,
   "metadata": {},
   "outputs": [
    {
     "ename": "",
     "evalue": "",
     "output_type": "error",
     "traceback": [
      "\u001b[1;31mRunning cells with 'Python 3.9.13' requires the ipykernel package.\n",
      "\u001b[1;31mRun the following command to install 'ipykernel' into the Python environment. \n",
      "\u001b[1;31mCommand: '\"c:/Program Files (x86)/Microsoft Visual Studio/Shared/Python39_64/python.exe\" -m pip install ipykernel -U --user --force-reinstall'"
     ]
    }
   ],
   "source": [
    "plot_custom_polygon_2(colored_Graph, G.vertices, G.arestas, colors)"
   ]
  }
 ],
 "metadata": {
  "kernelspec": {
   "display_name": "Python 3",
   "language": "python",
   "name": "python3"
  },
  "language_info": {
   "codemirror_mode": {
    "name": "ipython",
    "version": 3
   },
   "file_extension": ".py",
   "mimetype": "text/x-python",
   "name": "python",
   "nbconvert_exporter": "python",
   "pygments_lexer": "ipython3",
   "version": "3.9.13"
  }
 },
 "nbformat": 4,
 "nbformat_minor": 2
}
