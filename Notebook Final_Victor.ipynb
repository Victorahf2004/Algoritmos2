{
 "cells": [
  {
   "cell_type": "markdown",
   "metadata": {},
   "source": [
    "<H3>Trabalho Prático 1 - Algoritmos 2 2024.1 UFMG</H3>\n",
    "Membros:\n",
    "\n",
    "* Gabriel Arcanjo Campelo Fadoul - 2021031645"
   ]
  },
  {
   "cell_type": "code",
   "execution_count": 1,
   "metadata": {},
   "outputs": [],
   "source": [
    "import numpy as np\n",
    "import pandas as pd\n",
    "import plotly.express as px\n",
    "import plotly.graph_objects as go\n",
    "from TriangProntaAlterada import *"
   ]
  },
  {
   "cell_type": "markdown",
   "metadata": {},
   "source": [
    "<H4> Carga das instâncias de testes"
   ]
  },
  {
   "cell_type": "code",
   "execution_count": 2,
   "metadata": {},
   "outputs": [],
   "source": [
    "texto = '20 1/1 1/1 34/1 1/1 34/1 -29/4 445/16 -29/4 445/16 -31/2 34/1 -31/2 34/1 -95/4 67/1 -95/4 67/1 1/1 100/1 1/1 100/1 34/1 499/4 34/1 499/4 67/1 100/1 67/1 100/1 100/1 1/1 100/1 1/1 67/1 -95/4 67/1 -95/4 34/1 1/1 34/1'\n",
    "lista = texto.split()\n",
    "lista = lista[1:]\n",
    "lista2 = []\n",
    "for elem in lista:\n",
    "    if '/' in elem:\n",
    "        numerador, denominador = map(float, elem.split('/'))\n",
    "        resultado = numerador / denominador\n",
    "        lista2.append(resultado)\n",
    "    else:\n",
    "        elem2 = float(elem)\n",
    "        lista2.append(elem2)\n",
    "\n",
    "lista = lista2\n",
    "pontos = []\n",
    "for i in range(0, len(lista) - 1, 2):\n",
    "  tupla = Vertice(lista[i], lista[i + 1])\n",
    "  pontos.append(tupla)\n",
    "G = Grafo()\n",
    "for v in pontos:\n",
    "    G.adicionar_vertice(v)\n",
    "arestas = []\n",
    "\n",
    "tamanho = len(pontos) - 1\n",
    "for i in range(tamanho):\n",
    "    ar = Aresta(pontos[i], pontos[i + 1])\n",
    "    arestas.append(ar)\n",
    "\n",
    "ar = Aresta(pontos[tamanho], pontos[0])\n",
    "arestas.append(ar)\n",
    "\n",
    "for aresta in arestas:\n",
    "    G.adicionar_aresta(aresta)\n",
    "vertices = G.vertices"
   ]
  },
  {
   "cell_type": "code",
   "execution_count": 3,
   "metadata": {},
   "outputs": [
    {
     "data": {
      "application/vnd.plotly.v1+json": {
       "config": {
        "plotlyServerURL": "https://plot.ly"
       },
       "data": [
        {
         "hovertemplate": "x=%{x}<br>y=%{y}<extra></extra>",
         "legendgroup": "",
         "line": {
          "color": "#636efa",
          "dash": "solid"
         },
         "marker": {
          "size": 10,
          "symbol": "circle"
         },
         "mode": "lines+markers",
         "name": "",
         "orientation": "v",
         "showlegend": false,
         "type": "scatter",
         "x": [
          1,
          34,
          34,
          27.8125,
          27.8125,
          34,
          34,
          67,
          67,
          100,
          100,
          124.75,
          124.75,
          100,
          100,
          1,
          1,
          -23.75,
          -23.75,
          1
         ],
         "xaxis": "x",
         "y": [
          1,
          1,
          -7.25,
          -7.25,
          -15.5,
          -15.5,
          -23.75,
          -23.75,
          1,
          1,
          34,
          34,
          67,
          67,
          100,
          100,
          67,
          67,
          34,
          34
         ],
         "yaxis": "y"
        }
       ],
       "layout": {
        "legend": {
         "tracegroupgap": 0
        },
        "margin": {
         "t": 60
        },
        "template": {
         "data": {
          "bar": [
           {
            "error_x": {
             "color": "#2a3f5f"
            },
            "error_y": {
             "color": "#2a3f5f"
            },
            "marker": {
             "line": {
              "color": "#E5ECF6",
              "width": 0.5
             },
             "pattern": {
              "fillmode": "overlay",
              "size": 10,
              "solidity": 0.2
             }
            },
            "type": "bar"
           }
          ],
          "barpolar": [
           {
            "marker": {
             "line": {
              "color": "#E5ECF6",
              "width": 0.5
             },
             "pattern": {
              "fillmode": "overlay",
              "size": 10,
              "solidity": 0.2
             }
            },
            "type": "barpolar"
           }
          ],
          "carpet": [
           {
            "aaxis": {
             "endlinecolor": "#2a3f5f",
             "gridcolor": "white",
             "linecolor": "white",
             "minorgridcolor": "white",
             "startlinecolor": "#2a3f5f"
            },
            "baxis": {
             "endlinecolor": "#2a3f5f",
             "gridcolor": "white",
             "linecolor": "white",
             "minorgridcolor": "white",
             "startlinecolor": "#2a3f5f"
            },
            "type": "carpet"
           }
          ],
          "choropleth": [
           {
            "colorbar": {
             "outlinewidth": 0,
             "ticks": ""
            },
            "type": "choropleth"
           }
          ],
          "contour": [
           {
            "colorbar": {
             "outlinewidth": 0,
             "ticks": ""
            },
            "colorscale": [
             [
              0,
              "#0d0887"
             ],
             [
              0.1111111111111111,
              "#46039f"
             ],
             [
              0.2222222222222222,
              "#7201a8"
             ],
             [
              0.3333333333333333,
              "#9c179e"
             ],
             [
              0.4444444444444444,
              "#bd3786"
             ],
             [
              0.5555555555555556,
              "#d8576b"
             ],
             [
              0.6666666666666666,
              "#ed7953"
             ],
             [
              0.7777777777777778,
              "#fb9f3a"
             ],
             [
              0.8888888888888888,
              "#fdca26"
             ],
             [
              1,
              "#f0f921"
             ]
            ],
            "type": "contour"
           }
          ],
          "contourcarpet": [
           {
            "colorbar": {
             "outlinewidth": 0,
             "ticks": ""
            },
            "type": "contourcarpet"
           }
          ],
          "heatmap": [
           {
            "colorbar": {
             "outlinewidth": 0,
             "ticks": ""
            },
            "colorscale": [
             [
              0,
              "#0d0887"
             ],
             [
              0.1111111111111111,
              "#46039f"
             ],
             [
              0.2222222222222222,
              "#7201a8"
             ],
             [
              0.3333333333333333,
              "#9c179e"
             ],
             [
              0.4444444444444444,
              "#bd3786"
             ],
             [
              0.5555555555555556,
              "#d8576b"
             ],
             [
              0.6666666666666666,
              "#ed7953"
             ],
             [
              0.7777777777777778,
              "#fb9f3a"
             ],
             [
              0.8888888888888888,
              "#fdca26"
             ],
             [
              1,
              "#f0f921"
             ]
            ],
            "type": "heatmap"
           }
          ],
          "heatmapgl": [
           {
            "colorbar": {
             "outlinewidth": 0,
             "ticks": ""
            },
            "colorscale": [
             [
              0,
              "#0d0887"
             ],
             [
              0.1111111111111111,
              "#46039f"
             ],
             [
              0.2222222222222222,
              "#7201a8"
             ],
             [
              0.3333333333333333,
              "#9c179e"
             ],
             [
              0.4444444444444444,
              "#bd3786"
             ],
             [
              0.5555555555555556,
              "#d8576b"
             ],
             [
              0.6666666666666666,
              "#ed7953"
             ],
             [
              0.7777777777777778,
              "#fb9f3a"
             ],
             [
              0.8888888888888888,
              "#fdca26"
             ],
             [
              1,
              "#f0f921"
             ]
            ],
            "type": "heatmapgl"
           }
          ],
          "histogram": [
           {
            "marker": {
             "pattern": {
              "fillmode": "overlay",
              "size": 10,
              "solidity": 0.2
             }
            },
            "type": "histogram"
           }
          ],
          "histogram2d": [
           {
            "colorbar": {
             "outlinewidth": 0,
             "ticks": ""
            },
            "colorscale": [
             [
              0,
              "#0d0887"
             ],
             [
              0.1111111111111111,
              "#46039f"
             ],
             [
              0.2222222222222222,
              "#7201a8"
             ],
             [
              0.3333333333333333,
              "#9c179e"
             ],
             [
              0.4444444444444444,
              "#bd3786"
             ],
             [
              0.5555555555555556,
              "#d8576b"
             ],
             [
              0.6666666666666666,
              "#ed7953"
             ],
             [
              0.7777777777777778,
              "#fb9f3a"
             ],
             [
              0.8888888888888888,
              "#fdca26"
             ],
             [
              1,
              "#f0f921"
             ]
            ],
            "type": "histogram2d"
           }
          ],
          "histogram2dcontour": [
           {
            "colorbar": {
             "outlinewidth": 0,
             "ticks": ""
            },
            "colorscale": [
             [
              0,
              "#0d0887"
             ],
             [
              0.1111111111111111,
              "#46039f"
             ],
             [
              0.2222222222222222,
              "#7201a8"
             ],
             [
              0.3333333333333333,
              "#9c179e"
             ],
             [
              0.4444444444444444,
              "#bd3786"
             ],
             [
              0.5555555555555556,
              "#d8576b"
             ],
             [
              0.6666666666666666,
              "#ed7953"
             ],
             [
              0.7777777777777778,
              "#fb9f3a"
             ],
             [
              0.8888888888888888,
              "#fdca26"
             ],
             [
              1,
              "#f0f921"
             ]
            ],
            "type": "histogram2dcontour"
           }
          ],
          "mesh3d": [
           {
            "colorbar": {
             "outlinewidth": 0,
             "ticks": ""
            },
            "type": "mesh3d"
           }
          ],
          "parcoords": [
           {
            "line": {
             "colorbar": {
              "outlinewidth": 0,
              "ticks": ""
             }
            },
            "type": "parcoords"
           }
          ],
          "pie": [
           {
            "automargin": true,
            "type": "pie"
           }
          ],
          "scatter": [
           {
            "fillpattern": {
             "fillmode": "overlay",
             "size": 10,
             "solidity": 0.2
            },
            "type": "scatter"
           }
          ],
          "scatter3d": [
           {
            "line": {
             "colorbar": {
              "outlinewidth": 0,
              "ticks": ""
             }
            },
            "marker": {
             "colorbar": {
              "outlinewidth": 0,
              "ticks": ""
             }
            },
            "type": "scatter3d"
           }
          ],
          "scattercarpet": [
           {
            "marker": {
             "colorbar": {
              "outlinewidth": 0,
              "ticks": ""
             }
            },
            "type": "scattercarpet"
           }
          ],
          "scattergeo": [
           {
            "marker": {
             "colorbar": {
              "outlinewidth": 0,
              "ticks": ""
             }
            },
            "type": "scattergeo"
           }
          ],
          "scattergl": [
           {
            "marker": {
             "colorbar": {
              "outlinewidth": 0,
              "ticks": ""
             }
            },
            "type": "scattergl"
           }
          ],
          "scattermapbox": [
           {
            "marker": {
             "colorbar": {
              "outlinewidth": 0,
              "ticks": ""
             }
            },
            "type": "scattermapbox"
           }
          ],
          "scatterpolar": [
           {
            "marker": {
             "colorbar": {
              "outlinewidth": 0,
              "ticks": ""
             }
            },
            "type": "scatterpolar"
           }
          ],
          "scatterpolargl": [
           {
            "marker": {
             "colorbar": {
              "outlinewidth": 0,
              "ticks": ""
             }
            },
            "type": "scatterpolargl"
           }
          ],
          "scatterternary": [
           {
            "marker": {
             "colorbar": {
              "outlinewidth": 0,
              "ticks": ""
             }
            },
            "type": "scatterternary"
           }
          ],
          "surface": [
           {
            "colorbar": {
             "outlinewidth": 0,
             "ticks": ""
            },
            "colorscale": [
             [
              0,
              "#0d0887"
             ],
             [
              0.1111111111111111,
              "#46039f"
             ],
             [
              0.2222222222222222,
              "#7201a8"
             ],
             [
              0.3333333333333333,
              "#9c179e"
             ],
             [
              0.4444444444444444,
              "#bd3786"
             ],
             [
              0.5555555555555556,
              "#d8576b"
             ],
             [
              0.6666666666666666,
              "#ed7953"
             ],
             [
              0.7777777777777778,
              "#fb9f3a"
             ],
             [
              0.8888888888888888,
              "#fdca26"
             ],
             [
              1,
              "#f0f921"
             ]
            ],
            "type": "surface"
           }
          ],
          "table": [
           {
            "cells": {
             "fill": {
              "color": "#EBF0F8"
             },
             "line": {
              "color": "white"
             }
            },
            "header": {
             "fill": {
              "color": "#C8D4E3"
             },
             "line": {
              "color": "white"
             }
            },
            "type": "table"
           }
          ]
         },
         "layout": {
          "annotationdefaults": {
           "arrowcolor": "#2a3f5f",
           "arrowhead": 0,
           "arrowwidth": 1
          },
          "autotypenumbers": "strict",
          "coloraxis": {
           "colorbar": {
            "outlinewidth": 0,
            "ticks": ""
           }
          },
          "colorscale": {
           "diverging": [
            [
             0,
             "#8e0152"
            ],
            [
             0.1,
             "#c51b7d"
            ],
            [
             0.2,
             "#de77ae"
            ],
            [
             0.3,
             "#f1b6da"
            ],
            [
             0.4,
             "#fde0ef"
            ],
            [
             0.5,
             "#f7f7f7"
            ],
            [
             0.6,
             "#e6f5d0"
            ],
            [
             0.7,
             "#b8e186"
            ],
            [
             0.8,
             "#7fbc41"
            ],
            [
             0.9,
             "#4d9221"
            ],
            [
             1,
             "#276419"
            ]
           ],
           "sequential": [
            [
             0,
             "#0d0887"
            ],
            [
             0.1111111111111111,
             "#46039f"
            ],
            [
             0.2222222222222222,
             "#7201a8"
            ],
            [
             0.3333333333333333,
             "#9c179e"
            ],
            [
             0.4444444444444444,
             "#bd3786"
            ],
            [
             0.5555555555555556,
             "#d8576b"
            ],
            [
             0.6666666666666666,
             "#ed7953"
            ],
            [
             0.7777777777777778,
             "#fb9f3a"
            ],
            [
             0.8888888888888888,
             "#fdca26"
            ],
            [
             1,
             "#f0f921"
            ]
           ],
           "sequentialminus": [
            [
             0,
             "#0d0887"
            ],
            [
             0.1111111111111111,
             "#46039f"
            ],
            [
             0.2222222222222222,
             "#7201a8"
            ],
            [
             0.3333333333333333,
             "#9c179e"
            ],
            [
             0.4444444444444444,
             "#bd3786"
            ],
            [
             0.5555555555555556,
             "#d8576b"
            ],
            [
             0.6666666666666666,
             "#ed7953"
            ],
            [
             0.7777777777777778,
             "#fb9f3a"
            ],
            [
             0.8888888888888888,
             "#fdca26"
            ],
            [
             1,
             "#f0f921"
            ]
           ]
          },
          "colorway": [
           "#636efa",
           "#EF553B",
           "#00cc96",
           "#ab63fa",
           "#FFA15A",
           "#19d3f3",
           "#FF6692",
           "#B6E880",
           "#FF97FF",
           "#FECB52"
          ],
          "font": {
           "color": "#2a3f5f"
          },
          "geo": {
           "bgcolor": "white",
           "lakecolor": "white",
           "landcolor": "#E5ECF6",
           "showlakes": true,
           "showland": true,
           "subunitcolor": "white"
          },
          "hoverlabel": {
           "align": "left"
          },
          "hovermode": "closest",
          "mapbox": {
           "style": "light"
          },
          "paper_bgcolor": "white",
          "plot_bgcolor": "#E5ECF6",
          "polar": {
           "angularaxis": {
            "gridcolor": "white",
            "linecolor": "white",
            "ticks": ""
           },
           "bgcolor": "#E5ECF6",
           "radialaxis": {
            "gridcolor": "white",
            "linecolor": "white",
            "ticks": ""
           }
          },
          "scene": {
           "xaxis": {
            "backgroundcolor": "#E5ECF6",
            "gridcolor": "white",
            "gridwidth": 2,
            "linecolor": "white",
            "showbackground": true,
            "ticks": "",
            "zerolinecolor": "white"
           },
           "yaxis": {
            "backgroundcolor": "#E5ECF6",
            "gridcolor": "white",
            "gridwidth": 2,
            "linecolor": "white",
            "showbackground": true,
            "ticks": "",
            "zerolinecolor": "white"
           },
           "zaxis": {
            "backgroundcolor": "#E5ECF6",
            "gridcolor": "white",
            "gridwidth": 2,
            "linecolor": "white",
            "showbackground": true,
            "ticks": "",
            "zerolinecolor": "white"
           }
          },
          "shapedefaults": {
           "line": {
            "color": "#2a3f5f"
           }
          },
          "ternary": {
           "aaxis": {
            "gridcolor": "white",
            "linecolor": "white",
            "ticks": ""
           },
           "baxis": {
            "gridcolor": "white",
            "linecolor": "white",
            "ticks": ""
           },
           "bgcolor": "#E5ECF6",
           "caxis": {
            "gridcolor": "white",
            "linecolor": "white",
            "ticks": ""
           }
          },
          "title": {
           "x": 0.05
          },
          "xaxis": {
           "automargin": true,
           "gridcolor": "white",
           "linecolor": "white",
           "ticks": "",
           "title": {
            "standoff": 15
           },
           "zerolinecolor": "white",
           "zerolinewidth": 2
          },
          "yaxis": {
           "automargin": true,
           "gridcolor": "white",
           "linecolor": "white",
           "ticks": "",
           "title": {
            "standoff": 15
           },
           "zerolinecolor": "white",
           "zerolinewidth": 2
          }
         }
        },
        "xaxis": {
         "anchor": "y",
         "domain": [
          0,
          1
         ],
         "title": {
          "text": "x"
         }
        },
        "yaxis": {
         "anchor": "x",
         "domain": [
          0,
          1
         ],
         "title": {
          "text": "y"
         }
        }
       }
      }
     },
     "metadata": {},
     "output_type": "display_data"
    }
   ],
   "source": [
    "#df = px.data.gapminder()\n",
    "v = list(map(lambda P: (P.x,P.y),vertices))\n",
    "\n",
    "fig = px.line(x=np.array(v)[:,0],y=np.array(v)[:,1],markers=True)\n",
    "fig.update_traces(marker_size=10)\n",
    "fig.show()"
   ]
  },
  {
   "cell_type": "markdown",
   "metadata": {},
   "source": [
    "<H4>Funções Primitivas de Geometria Computacional"
   ]
  },
  {
   "cell_type": "markdown",
   "metadata": {},
   "source": [
    "<H4>Funções de Triangulação"
   ]
  },
  {
   "cell_type": "markdown",
   "metadata": {},
   "source": [
    "<H4>Animações"
   ]
  },
  {
   "cell_type": "code",
   "execution_count": 4,
   "metadata": {},
   "outputs": [
    {
     "data": {
      "application/vnd.plotly.v1+json": {
       "config": {
        "plotlyServerURL": "https://plot.ly"
       },
       "data": [
        {
         "hovertemplate": "x=%{x}<br>y=%{y}<extra></extra>",
         "legendgroup": "",
         "line": {
          "color": "#636efa",
          "dash": "solid"
         },
         "marker": {
          "size": 10,
          "symbol": "circle"
         },
         "mode": "lines+markers",
         "name": "",
         "orientation": "v",
         "showlegend": false,
         "type": "scatter",
         "x": [
          1,
          34,
          34,
          27.8125,
          27.8125,
          34,
          34,
          67,
          67,
          100,
          100,
          124.75,
          124.75,
          100,
          100,
          1,
          1,
          -23.75,
          -23.75,
          1
         ],
         "xaxis": "x",
         "y": [
          1,
          1,
          -7.25,
          -7.25,
          -15.5,
          -15.5,
          -23.75,
          -23.75,
          1,
          1,
          34,
          34,
          67,
          67,
          100,
          100,
          67,
          67,
          34,
          34
         ],
         "yaxis": "y"
        }
       ],
       "layout": {
        "legend": {
         "tracegroupgap": 0
        },
        "margin": {
         "t": 60
        },
        "template": {
         "data": {
          "bar": [
           {
            "error_x": {
             "color": "#2a3f5f"
            },
            "error_y": {
             "color": "#2a3f5f"
            },
            "marker": {
             "line": {
              "color": "#E5ECF6",
              "width": 0.5
             },
             "pattern": {
              "fillmode": "overlay",
              "size": 10,
              "solidity": 0.2
             }
            },
            "type": "bar"
           }
          ],
          "barpolar": [
           {
            "marker": {
             "line": {
              "color": "#E5ECF6",
              "width": 0.5
             },
             "pattern": {
              "fillmode": "overlay",
              "size": 10,
              "solidity": 0.2
             }
            },
            "type": "barpolar"
           }
          ],
          "carpet": [
           {
            "aaxis": {
             "endlinecolor": "#2a3f5f",
             "gridcolor": "white",
             "linecolor": "white",
             "minorgridcolor": "white",
             "startlinecolor": "#2a3f5f"
            },
            "baxis": {
             "endlinecolor": "#2a3f5f",
             "gridcolor": "white",
             "linecolor": "white",
             "minorgridcolor": "white",
             "startlinecolor": "#2a3f5f"
            },
            "type": "carpet"
           }
          ],
          "choropleth": [
           {
            "colorbar": {
             "outlinewidth": 0,
             "ticks": ""
            },
            "type": "choropleth"
           }
          ],
          "contour": [
           {
            "colorbar": {
             "outlinewidth": 0,
             "ticks": ""
            },
            "colorscale": [
             [
              0,
              "#0d0887"
             ],
             [
              0.1111111111111111,
              "#46039f"
             ],
             [
              0.2222222222222222,
              "#7201a8"
             ],
             [
              0.3333333333333333,
              "#9c179e"
             ],
             [
              0.4444444444444444,
              "#bd3786"
             ],
             [
              0.5555555555555556,
              "#d8576b"
             ],
             [
              0.6666666666666666,
              "#ed7953"
             ],
             [
              0.7777777777777778,
              "#fb9f3a"
             ],
             [
              0.8888888888888888,
              "#fdca26"
             ],
             [
              1,
              "#f0f921"
             ]
            ],
            "type": "contour"
           }
          ],
          "contourcarpet": [
           {
            "colorbar": {
             "outlinewidth": 0,
             "ticks": ""
            },
            "type": "contourcarpet"
           }
          ],
          "heatmap": [
           {
            "colorbar": {
             "outlinewidth": 0,
             "ticks": ""
            },
            "colorscale": [
             [
              0,
              "#0d0887"
             ],
             [
              0.1111111111111111,
              "#46039f"
             ],
             [
              0.2222222222222222,
              "#7201a8"
             ],
             [
              0.3333333333333333,
              "#9c179e"
             ],
             [
              0.4444444444444444,
              "#bd3786"
             ],
             [
              0.5555555555555556,
              "#d8576b"
             ],
             [
              0.6666666666666666,
              "#ed7953"
             ],
             [
              0.7777777777777778,
              "#fb9f3a"
             ],
             [
              0.8888888888888888,
              "#fdca26"
             ],
             [
              1,
              "#f0f921"
             ]
            ],
            "type": "heatmap"
           }
          ],
          "heatmapgl": [
           {
            "colorbar": {
             "outlinewidth": 0,
             "ticks": ""
            },
            "colorscale": [
             [
              0,
              "#0d0887"
             ],
             [
              0.1111111111111111,
              "#46039f"
             ],
             [
              0.2222222222222222,
              "#7201a8"
             ],
             [
              0.3333333333333333,
              "#9c179e"
             ],
             [
              0.4444444444444444,
              "#bd3786"
             ],
             [
              0.5555555555555556,
              "#d8576b"
             ],
             [
              0.6666666666666666,
              "#ed7953"
             ],
             [
              0.7777777777777778,
              "#fb9f3a"
             ],
             [
              0.8888888888888888,
              "#fdca26"
             ],
             [
              1,
              "#f0f921"
             ]
            ],
            "type": "heatmapgl"
           }
          ],
          "histogram": [
           {
            "marker": {
             "pattern": {
              "fillmode": "overlay",
              "size": 10,
              "solidity": 0.2
             }
            },
            "type": "histogram"
           }
          ],
          "histogram2d": [
           {
            "colorbar": {
             "outlinewidth": 0,
             "ticks": ""
            },
            "colorscale": [
             [
              0,
              "#0d0887"
             ],
             [
              0.1111111111111111,
              "#46039f"
             ],
             [
              0.2222222222222222,
              "#7201a8"
             ],
             [
              0.3333333333333333,
              "#9c179e"
             ],
             [
              0.4444444444444444,
              "#bd3786"
             ],
             [
              0.5555555555555556,
              "#d8576b"
             ],
             [
              0.6666666666666666,
              "#ed7953"
             ],
             [
              0.7777777777777778,
              "#fb9f3a"
             ],
             [
              0.8888888888888888,
              "#fdca26"
             ],
             [
              1,
              "#f0f921"
             ]
            ],
            "type": "histogram2d"
           }
          ],
          "histogram2dcontour": [
           {
            "colorbar": {
             "outlinewidth": 0,
             "ticks": ""
            },
            "colorscale": [
             [
              0,
              "#0d0887"
             ],
             [
              0.1111111111111111,
              "#46039f"
             ],
             [
              0.2222222222222222,
              "#7201a8"
             ],
             [
              0.3333333333333333,
              "#9c179e"
             ],
             [
              0.4444444444444444,
              "#bd3786"
             ],
             [
              0.5555555555555556,
              "#d8576b"
             ],
             [
              0.6666666666666666,
              "#ed7953"
             ],
             [
              0.7777777777777778,
              "#fb9f3a"
             ],
             [
              0.8888888888888888,
              "#fdca26"
             ],
             [
              1,
              "#f0f921"
             ]
            ],
            "type": "histogram2dcontour"
           }
          ],
          "mesh3d": [
           {
            "colorbar": {
             "outlinewidth": 0,
             "ticks": ""
            },
            "type": "mesh3d"
           }
          ],
          "parcoords": [
           {
            "line": {
             "colorbar": {
              "outlinewidth": 0,
              "ticks": ""
             }
            },
            "type": "parcoords"
           }
          ],
          "pie": [
           {
            "automargin": true,
            "type": "pie"
           }
          ],
          "scatter": [
           {
            "fillpattern": {
             "fillmode": "overlay",
             "size": 10,
             "solidity": 0.2
            },
            "type": "scatter"
           }
          ],
          "scatter3d": [
           {
            "line": {
             "colorbar": {
              "outlinewidth": 0,
              "ticks": ""
             }
            },
            "marker": {
             "colorbar": {
              "outlinewidth": 0,
              "ticks": ""
             }
            },
            "type": "scatter3d"
           }
          ],
          "scattercarpet": [
           {
            "marker": {
             "colorbar": {
              "outlinewidth": 0,
              "ticks": ""
             }
            },
            "type": "scattercarpet"
           }
          ],
          "scattergeo": [
           {
            "marker": {
             "colorbar": {
              "outlinewidth": 0,
              "ticks": ""
             }
            },
            "type": "scattergeo"
           }
          ],
          "scattergl": [
           {
            "marker": {
             "colorbar": {
              "outlinewidth": 0,
              "ticks": ""
             }
            },
            "type": "scattergl"
           }
          ],
          "scattermapbox": [
           {
            "marker": {
             "colorbar": {
              "outlinewidth": 0,
              "ticks": ""
             }
            },
            "type": "scattermapbox"
           }
          ],
          "scatterpolar": [
           {
            "marker": {
             "colorbar": {
              "outlinewidth": 0,
              "ticks": ""
             }
            },
            "type": "scatterpolar"
           }
          ],
          "scatterpolargl": [
           {
            "marker": {
             "colorbar": {
              "outlinewidth": 0,
              "ticks": ""
             }
            },
            "type": "scatterpolargl"
           }
          ],
          "scatterternary": [
           {
            "marker": {
             "colorbar": {
              "outlinewidth": 0,
              "ticks": ""
             }
            },
            "type": "scatterternary"
           }
          ],
          "surface": [
           {
            "colorbar": {
             "outlinewidth": 0,
             "ticks": ""
            },
            "colorscale": [
             [
              0,
              "#0d0887"
             ],
             [
              0.1111111111111111,
              "#46039f"
             ],
             [
              0.2222222222222222,
              "#7201a8"
             ],
             [
              0.3333333333333333,
              "#9c179e"
             ],
             [
              0.4444444444444444,
              "#bd3786"
             ],
             [
              0.5555555555555556,
              "#d8576b"
             ],
             [
              0.6666666666666666,
              "#ed7953"
             ],
             [
              0.7777777777777778,
              "#fb9f3a"
             ],
             [
              0.8888888888888888,
              "#fdca26"
             ],
             [
              1,
              "#f0f921"
             ]
            ],
            "type": "surface"
           }
          ],
          "table": [
           {
            "cells": {
             "fill": {
              "color": "#EBF0F8"
             },
             "line": {
              "color": "white"
             }
            },
            "header": {
             "fill": {
              "color": "#C8D4E3"
             },
             "line": {
              "color": "white"
             }
            },
            "type": "table"
           }
          ]
         },
         "layout": {
          "annotationdefaults": {
           "arrowcolor": "#2a3f5f",
           "arrowhead": 0,
           "arrowwidth": 1
          },
          "autotypenumbers": "strict",
          "coloraxis": {
           "colorbar": {
            "outlinewidth": 0,
            "ticks": ""
           }
          },
          "colorscale": {
           "diverging": [
            [
             0,
             "#8e0152"
            ],
            [
             0.1,
             "#c51b7d"
            ],
            [
             0.2,
             "#de77ae"
            ],
            [
             0.3,
             "#f1b6da"
            ],
            [
             0.4,
             "#fde0ef"
            ],
            [
             0.5,
             "#f7f7f7"
            ],
            [
             0.6,
             "#e6f5d0"
            ],
            [
             0.7,
             "#b8e186"
            ],
            [
             0.8,
             "#7fbc41"
            ],
            [
             0.9,
             "#4d9221"
            ],
            [
             1,
             "#276419"
            ]
           ],
           "sequential": [
            [
             0,
             "#0d0887"
            ],
            [
             0.1111111111111111,
             "#46039f"
            ],
            [
             0.2222222222222222,
             "#7201a8"
            ],
            [
             0.3333333333333333,
             "#9c179e"
            ],
            [
             0.4444444444444444,
             "#bd3786"
            ],
            [
             0.5555555555555556,
             "#d8576b"
            ],
            [
             0.6666666666666666,
             "#ed7953"
            ],
            [
             0.7777777777777778,
             "#fb9f3a"
            ],
            [
             0.8888888888888888,
             "#fdca26"
            ],
            [
             1,
             "#f0f921"
            ]
           ],
           "sequentialminus": [
            [
             0,
             "#0d0887"
            ],
            [
             0.1111111111111111,
             "#46039f"
            ],
            [
             0.2222222222222222,
             "#7201a8"
            ],
            [
             0.3333333333333333,
             "#9c179e"
            ],
            [
             0.4444444444444444,
             "#bd3786"
            ],
            [
             0.5555555555555556,
             "#d8576b"
            ],
            [
             0.6666666666666666,
             "#ed7953"
            ],
            [
             0.7777777777777778,
             "#fb9f3a"
            ],
            [
             0.8888888888888888,
             "#fdca26"
            ],
            [
             1,
             "#f0f921"
            ]
           ]
          },
          "colorway": [
           "#636efa",
           "#EF553B",
           "#00cc96",
           "#ab63fa",
           "#FFA15A",
           "#19d3f3",
           "#FF6692",
           "#B6E880",
           "#FF97FF",
           "#FECB52"
          ],
          "font": {
           "color": "#2a3f5f"
          },
          "geo": {
           "bgcolor": "white",
           "lakecolor": "white",
           "landcolor": "#E5ECF6",
           "showlakes": true,
           "showland": true,
           "subunitcolor": "white"
          },
          "hoverlabel": {
           "align": "left"
          },
          "hovermode": "closest",
          "mapbox": {
           "style": "light"
          },
          "paper_bgcolor": "white",
          "plot_bgcolor": "#E5ECF6",
          "polar": {
           "angularaxis": {
            "gridcolor": "white",
            "linecolor": "white",
            "ticks": ""
           },
           "bgcolor": "#E5ECF6",
           "radialaxis": {
            "gridcolor": "white",
            "linecolor": "white",
            "ticks": ""
           }
          },
          "scene": {
           "xaxis": {
            "backgroundcolor": "#E5ECF6",
            "gridcolor": "white",
            "gridwidth": 2,
            "linecolor": "white",
            "showbackground": true,
            "ticks": "",
            "zerolinecolor": "white"
           },
           "yaxis": {
            "backgroundcolor": "#E5ECF6",
            "gridcolor": "white",
            "gridwidth": 2,
            "linecolor": "white",
            "showbackground": true,
            "ticks": "",
            "zerolinecolor": "white"
           },
           "zaxis": {
            "backgroundcolor": "#E5ECF6",
            "gridcolor": "white",
            "gridwidth": 2,
            "linecolor": "white",
            "showbackground": true,
            "ticks": "",
            "zerolinecolor": "white"
           }
          },
          "shapedefaults": {
           "line": {
            "color": "#2a3f5f"
           }
          },
          "ternary": {
           "aaxis": {
            "gridcolor": "white",
            "linecolor": "white",
            "ticks": ""
           },
           "baxis": {
            "gridcolor": "white",
            "linecolor": "white",
            "ticks": ""
           },
           "bgcolor": "#E5ECF6",
           "caxis": {
            "gridcolor": "white",
            "linecolor": "white",
            "ticks": ""
           }
          },
          "title": {
           "x": 0.05
          },
          "xaxis": {
           "automargin": true,
           "gridcolor": "white",
           "linecolor": "white",
           "ticks": "",
           "title": {
            "standoff": 15
           },
           "zerolinecolor": "white",
           "zerolinewidth": 2
          },
          "yaxis": {
           "automargin": true,
           "gridcolor": "white",
           "linecolor": "white",
           "ticks": "",
           "title": {
            "standoff": 15
           },
           "zerolinecolor": "white",
           "zerolinewidth": 2
          }
         }
        },
        "xaxis": {
         "anchor": "y",
         "domain": [
          0,
          1
         ],
         "title": {
          "text": "x"
         }
        },
        "yaxis": {
         "anchor": "x",
         "domain": [
          0,
          1
         ],
         "title": {
          "text": "y"
         }
        }
       }
      }
     },
     "metadata": {},
     "output_type": "display_data"
    }
   ],
   "source": [
    "#df = px.data.gapminder()\n",
    "v = list(map(lambda P: (P.x,P.y),G.vertices))\n",
    "\n",
    "fig = px.line(x=np.array(v)[:,0],y=np.array(v)[:,1],markers=True)\n",
    "fig.update_traces(marker_size=10)\n",
    "#fig.update_traces(marker=dict(size=100,\n",
    "#                              line=dict(width=2,\n",
    "#                                        color='DarkSlateGrey')),\n",
    "#                  selector=dict(mode='markers'))\n",
    "fig.show()"
   ]
  },
  {
   "cell_type": "code",
   "execution_count": 5,
   "metadata": {},
   "outputs": [],
   "source": [
    "verticesAnimacao = list(G.vertices)\n",
    "verticesAnimacao.append(vertices[0])\n",
    "v2 = list(map(lambda P: (P.x,P.y), verticesAnimacao))\n",
    "polygon_stages = []\n",
    "polygon_stages.append(v2)\n",
    "years = []\n",
    "(G, triangulos, polygon_stages2, years2) = triangulacao(G, polygon_stages, years)\n",
    "x_v, y_v = zip(*v)\n",
    "x_v = list(x_v)\n",
    "y_v = list(y_v)\n",
    "xMin = min(x_v) - 7\n",
    "yMin = min(y_v) - 7\n",
    "xMax = max(x_v) + 7\n",
    "yMax = max(y_v) + 7\n",
    "#plot_custom_polygon(G.graph, G.vertices, G.arestas)"
   ]
  },
  {
   "cell_type": "code",
   "execution_count": 6,
   "metadata": {},
   "outputs": [
    {
     "data": {
      "application/vnd.plotly.v1+json": {
       "config": {
        "plotlyServerURL": "https://plot.ly"
       },
       "data": [
        {
         "line": {
          "shape": "linear"
         },
         "mode": "lines+markers",
         "name": "Polygon",
         "type": "scatter",
         "x": [
          1,
          34,
          34,
          27.8125,
          27.8125,
          34,
          34,
          67,
          67,
          100,
          100,
          124.75,
          124.75,
          100,
          100,
          1,
          1,
          -23.75,
          -23.75,
          1,
          1
         ],
         "y": [
          1,
          1,
          -7.25,
          -7.25,
          -15.5,
          -15.5,
          -23.75,
          -23.75,
          1,
          1,
          34,
          34,
          67,
          67,
          100,
          100,
          67,
          67,
          34,
          34,
          1
         ]
        }
       ],
       "frames": [
        {
         "data": [
          {
           "line": {
            "shape": "linear"
           },
           "mode": "lines+markers",
           "name": "Polygon",
           "type": "scatter",
           "x": [
            1,
            34,
            34,
            27.8125,
            27.8125,
            34,
            34,
            67,
            67,
            100,
            100,
            124.75,
            124.75,
            100,
            100,
            1,
            1,
            -23.75,
            -23.75,
            1,
            1
           ],
           "y": [
            1,
            1,
            -7.25,
            -7.25,
            -15.5,
            -15.5,
            -23.75,
            -23.75,
            1,
            1,
            34,
            34,
            67,
            67,
            100,
            100,
            67,
            67,
            34,
            34,
            1
           ]
          }
         ],
         "name": "1"
        },
        {
         "data": [
          {
           "line": {
            "shape": "linear"
           },
           "mode": "lines+markers",
           "name": "Polygon",
           "type": "scatter",
           "x": [
            1,
            34,
            34,
            27.8125,
            27.8125,
            34,
            34,
            67,
            67,
            100,
            100,
            124.75,
            124.75,
            100,
            100,
            1,
            1,
            -23.75,
            -23.75,
            1,
            1,
            34
           ],
           "y": [
            1,
            1,
            -7.25,
            -7.25,
            -15.5,
            -15.5,
            -23.75,
            -23.75,
            1,
            1,
            34,
            34,
            67,
            67,
            100,
            100,
            67,
            67,
            34,
            34,
            1,
            1
           ]
          }
         ],
         "name": "2"
        },
        {
         "data": [
          {
           "line": {
            "shape": "linear"
           },
           "mode": "lines+markers",
           "name": "Polygon",
           "type": "scatter",
           "x": [
            1,
            34,
            34,
            27.8125,
            27.8125,
            34,
            34,
            67,
            67,
            100,
            100,
            124.75,
            124.75,
            100,
            100,
            1,
            1,
            -23.75,
            -23.75,
            1,
            1,
            34,
            34
           ],
           "y": [
            1,
            1,
            -7.25,
            -7.25,
            -15.5,
            -15.5,
            -23.75,
            -23.75,
            1,
            1,
            34,
            34,
            67,
            67,
            100,
            100,
            67,
            67,
            34,
            34,
            1,
            1,
            -7.25
           ]
          }
         ],
         "name": "3"
        },
        {
         "data": [
          {
           "line": {
            "shape": "linear"
           },
           "mode": "lines+markers",
           "name": "Polygon",
           "type": "scatter",
           "x": [
            1,
            34,
            34,
            27.8125,
            27.8125,
            34,
            34,
            67,
            67,
            100,
            100,
            124.75,
            124.75,
            100,
            100,
            1,
            1,
            -23.75,
            -23.75,
            1,
            1,
            34,
            34,
            27.8125
           ],
           "y": [
            1,
            1,
            -7.25,
            -7.25,
            -15.5,
            -15.5,
            -23.75,
            -23.75,
            1,
            1,
            34,
            34,
            67,
            67,
            100,
            100,
            67,
            67,
            34,
            34,
            1,
            1,
            -7.25,
            -15.5
           ]
          }
         ],
         "name": "4"
        },
        {
         "data": [
          {
           "line": {
            "shape": "linear"
           },
           "mode": "lines+markers",
           "name": "Polygon",
           "type": "scatter",
           "x": [
            1,
            34,
            34,
            27.8125,
            27.8125,
            34,
            34,
            67,
            67,
            100,
            100,
            124.75,
            124.75,
            100,
            100,
            1,
            1,
            -23.75,
            -23.75,
            1,
            1,
            34,
            34,
            27.8125,
            34
           ],
           "y": [
            1,
            1,
            -7.25,
            -7.25,
            -15.5,
            -15.5,
            -23.75,
            -23.75,
            1,
            1,
            34,
            34,
            67,
            67,
            100,
            100,
            67,
            67,
            34,
            34,
            1,
            1,
            -7.25,
            -15.5,
            -15.5
           ]
          }
         ],
         "name": "5"
        },
        {
         "data": [
          {
           "line": {
            "shape": "linear"
           },
           "mode": "lines+markers",
           "name": "Polygon",
           "type": "scatter",
           "x": [
            1,
            34,
            34,
            27.8125,
            27.8125,
            34,
            34,
            67,
            67,
            100,
            100,
            124.75,
            124.75,
            100,
            100,
            1,
            1,
            -23.75,
            -23.75,
            1,
            1,
            34,
            34,
            27.8125,
            34,
            67
           ],
           "y": [
            1,
            1,
            -7.25,
            -7.25,
            -15.5,
            -15.5,
            -23.75,
            -23.75,
            1,
            1,
            34,
            34,
            67,
            67,
            100,
            100,
            67,
            67,
            34,
            34,
            1,
            1,
            -7.25,
            -15.5,
            -15.5,
            -23.75
           ]
          }
         ],
         "name": "6"
        },
        {
         "data": [
          {
           "line": {
            "shape": "linear"
           },
           "mode": "lines+markers",
           "name": "Polygon",
           "type": "scatter",
           "x": [
            1,
            34,
            34,
            27.8125,
            27.8125,
            34,
            34,
            67,
            67,
            100,
            100,
            124.75,
            124.75,
            100,
            100,
            1,
            1,
            -23.75,
            -23.75,
            1,
            1,
            34,
            34,
            27.8125,
            34,
            67,
            67
           ],
           "y": [
            1,
            1,
            -7.25,
            -7.25,
            -15.5,
            -15.5,
            -23.75,
            -23.75,
            1,
            1,
            34,
            34,
            67,
            67,
            100,
            100,
            67,
            67,
            34,
            34,
            1,
            1,
            -7.25,
            -15.5,
            -15.5,
            -23.75,
            1
           ]
          }
         ],
         "name": "7"
        },
        {
         "data": [
          {
           "line": {
            "shape": "linear"
           },
           "mode": "lines+markers",
           "name": "Polygon",
           "type": "scatter",
           "x": [
            1,
            34,
            34,
            27.8125,
            27.8125,
            34,
            34,
            67,
            67,
            100,
            100,
            124.75,
            124.75,
            100,
            100,
            1,
            1,
            -23.75,
            -23.75,
            1,
            1,
            34,
            34,
            27.8125,
            34,
            67,
            67,
            100
           ],
           "y": [
            1,
            1,
            -7.25,
            -7.25,
            -15.5,
            -15.5,
            -23.75,
            -23.75,
            1,
            1,
            34,
            34,
            67,
            67,
            100,
            100,
            67,
            67,
            34,
            34,
            1,
            1,
            -7.25,
            -15.5,
            -15.5,
            -23.75,
            1,
            34
           ]
          }
         ],
         "name": "8"
        },
        {
         "data": [
          {
           "line": {
            "shape": "linear"
           },
           "mode": "lines+markers",
           "name": "Polygon",
           "type": "scatter",
           "x": [
            1,
            34,
            34,
            27.8125,
            27.8125,
            34,
            34,
            67,
            67,
            100,
            100,
            124.75,
            124.75,
            100,
            100,
            1,
            1,
            -23.75,
            -23.75,
            1,
            1,
            34,
            34,
            27.8125,
            34,
            67,
            67,
            100,
            124.75
           ],
           "y": [
            1,
            1,
            -7.25,
            -7.25,
            -15.5,
            -15.5,
            -23.75,
            -23.75,
            1,
            1,
            34,
            34,
            67,
            67,
            100,
            100,
            67,
            67,
            34,
            34,
            1,
            1,
            -7.25,
            -15.5,
            -15.5,
            -23.75,
            1,
            34,
            67
           ]
          }
         ],
         "name": "9"
        },
        {
         "data": [
          {
           "line": {
            "shape": "linear"
           },
           "mode": "lines+markers",
           "name": "Polygon",
           "type": "scatter",
           "x": [
            1,
            34,
            34,
            27.8125,
            27.8125,
            34,
            34,
            67,
            67,
            100,
            100,
            124.75,
            124.75,
            100,
            100,
            1,
            1,
            -23.75,
            -23.75,
            1,
            1,
            34,
            34,
            27.8125,
            34,
            67,
            67,
            100,
            124.75,
            100
           ],
           "y": [
            1,
            1,
            -7.25,
            -7.25,
            -15.5,
            -15.5,
            -23.75,
            -23.75,
            1,
            1,
            34,
            34,
            67,
            67,
            100,
            100,
            67,
            67,
            34,
            34,
            1,
            1,
            -7.25,
            -15.5,
            -15.5,
            -23.75,
            1,
            34,
            67,
            67
           ]
          }
         ],
         "name": "10"
        },
        {
         "data": [
          {
           "line": {
            "shape": "linear"
           },
           "mode": "lines+markers",
           "name": "Polygon",
           "type": "scatter",
           "x": [
            1,
            34,
            34,
            27.8125,
            27.8125,
            34,
            34,
            67,
            67,
            100,
            100,
            124.75,
            124.75,
            100,
            100,
            1,
            1,
            -23.75,
            -23.75,
            1,
            1,
            34,
            34,
            27.8125,
            34,
            67,
            67,
            100,
            124.75,
            100,
            1
           ],
           "y": [
            1,
            1,
            -7.25,
            -7.25,
            -15.5,
            -15.5,
            -23.75,
            -23.75,
            1,
            1,
            34,
            34,
            67,
            67,
            100,
            100,
            67,
            67,
            34,
            34,
            1,
            1,
            -7.25,
            -15.5,
            -15.5,
            -23.75,
            1,
            34,
            67,
            67,
            100
           ]
          }
         ],
         "name": "11"
        },
        {
         "data": [
          {
           "line": {
            "shape": "linear"
           },
           "mode": "lines+markers",
           "name": "Polygon",
           "type": "scatter",
           "x": [
            1,
            34,
            34,
            27.8125,
            27.8125,
            34,
            34,
            67,
            67,
            100,
            100,
            124.75,
            124.75,
            100,
            100,
            1,
            1,
            -23.75,
            -23.75,
            1,
            1,
            34,
            34,
            27.8125,
            34,
            67,
            67,
            100,
            124.75,
            100,
            1,
            1
           ],
           "y": [
            1,
            1,
            -7.25,
            -7.25,
            -15.5,
            -15.5,
            -23.75,
            -23.75,
            1,
            1,
            34,
            34,
            67,
            67,
            100,
            100,
            67,
            67,
            34,
            34,
            1,
            1,
            -7.25,
            -15.5,
            -15.5,
            -23.75,
            1,
            34,
            67,
            67,
            100,
            67
           ]
          }
         ],
         "name": "12"
        },
        {
         "data": [
          {
           "line": {
            "shape": "linear"
           },
           "mode": "lines+markers",
           "name": "Polygon",
           "type": "scatter",
           "x": [
            1,
            34,
            34,
            27.8125,
            27.8125,
            34,
            34,
            67,
            67,
            100,
            100,
            124.75,
            124.75,
            100,
            100,
            1,
            1,
            -23.75,
            -23.75,
            1,
            1,
            34,
            34,
            27.8125,
            34,
            67,
            67,
            100,
            124.75,
            100,
            1,
            1,
            -23.75
           ],
           "y": [
            1,
            1,
            -7.25,
            -7.25,
            -15.5,
            -15.5,
            -23.75,
            -23.75,
            1,
            1,
            34,
            34,
            67,
            67,
            100,
            100,
            67,
            67,
            34,
            34,
            1,
            1,
            -7.25,
            -15.5,
            -15.5,
            -23.75,
            1,
            34,
            67,
            67,
            100,
            67,
            34
           ]
          }
         ],
         "name": "13"
        },
        {
         "data": [
          {
           "line": {
            "shape": "linear"
           },
           "mode": "lines+markers",
           "name": "Polygon",
           "type": "scatter",
           "x": [
            1,
            34,
            34,
            27.8125,
            27.8125,
            34,
            34,
            67,
            67,
            100,
            100,
            124.75,
            124.75,
            100,
            100,
            1,
            1,
            -23.75,
            -23.75,
            1,
            1,
            34,
            34,
            27.8125,
            34,
            67,
            67,
            100,
            124.75,
            100,
            1,
            1,
            -23.75,
            1
           ],
           "y": [
            1,
            1,
            -7.25,
            -7.25,
            -15.5,
            -15.5,
            -23.75,
            -23.75,
            1,
            1,
            34,
            34,
            67,
            67,
            100,
            100,
            67,
            67,
            34,
            34,
            1,
            1,
            -7.25,
            -15.5,
            -15.5,
            -23.75,
            1,
            34,
            67,
            67,
            100,
            67,
            34,
            34
           ]
          }
         ],
         "name": "14"
        },
        {
         "data": [
          {
           "line": {
            "shape": "linear"
           },
           "mode": "lines+markers",
           "name": "Polygon",
           "type": "scatter",
           "x": [
            1,
            34,
            34,
            27.8125,
            27.8125,
            34,
            34,
            67,
            67,
            100,
            100,
            124.75,
            124.75,
            100,
            100,
            1,
            1,
            -23.75,
            -23.75,
            1,
            1,
            34,
            34,
            27.8125,
            34,
            67,
            67,
            100,
            124.75,
            100,
            1,
            1,
            -23.75,
            1,
            34
           ],
           "y": [
            1,
            1,
            -7.25,
            -7.25,
            -15.5,
            -15.5,
            -23.75,
            -23.75,
            1,
            1,
            34,
            34,
            67,
            67,
            100,
            100,
            67,
            67,
            34,
            34,
            1,
            1,
            -7.25,
            -15.5,
            -15.5,
            -23.75,
            1,
            34,
            67,
            67,
            100,
            67,
            34,
            34,
            1
           ]
          }
         ],
         "name": "15"
        },
        {
         "data": [
          {
           "line": {
            "shape": "linear"
           },
           "mode": "lines+markers",
           "name": "Polygon",
           "type": "scatter",
           "x": [
            1,
            34,
            34,
            27.8125,
            27.8125,
            34,
            34,
            67,
            67,
            100,
            100,
            124.75,
            124.75,
            100,
            100,
            1,
            1,
            -23.75,
            -23.75,
            1,
            1,
            34,
            34,
            27.8125,
            34,
            67,
            67,
            100,
            124.75,
            100,
            1,
            1,
            -23.75,
            1,
            34,
            34
           ],
           "y": [
            1,
            1,
            -7.25,
            -7.25,
            -15.5,
            -15.5,
            -23.75,
            -23.75,
            1,
            1,
            34,
            34,
            67,
            67,
            100,
            100,
            67,
            67,
            34,
            34,
            1,
            1,
            -7.25,
            -15.5,
            -15.5,
            -23.75,
            1,
            34,
            67,
            67,
            100,
            67,
            34,
            34,
            1,
            1
           ]
          }
         ],
         "name": "16"
        },
        {
         "data": [
          {
           "line": {
            "shape": "linear"
           },
           "mode": "lines+markers",
           "name": "Polygon",
           "type": "scatter",
           "x": [
            1,
            34,
            34,
            27.8125,
            27.8125,
            34,
            34,
            67,
            67,
            100,
            100,
            124.75,
            124.75,
            100,
            100,
            1,
            1,
            -23.75,
            -23.75,
            1,
            1,
            34,
            34,
            27.8125,
            34,
            67,
            67,
            100,
            124.75,
            100,
            1,
            1,
            -23.75,
            1,
            34,
            34,
            34
           ],
           "y": [
            1,
            1,
            -7.25,
            -7.25,
            -15.5,
            -15.5,
            -23.75,
            -23.75,
            1,
            1,
            34,
            34,
            67,
            67,
            100,
            100,
            67,
            67,
            34,
            34,
            1,
            1,
            -7.25,
            -15.5,
            -15.5,
            -23.75,
            1,
            34,
            67,
            67,
            100,
            67,
            34,
            34,
            1,
            1,
            -7.25
           ]
          }
         ],
         "name": "17"
        },
        {
         "data": [
          {
           "line": {
            "shape": "linear"
           },
           "mode": "lines+markers",
           "name": "Polygon",
           "type": "scatter",
           "x": [
            1,
            34,
            34,
            27.8125,
            27.8125,
            34,
            34,
            67,
            67,
            100,
            100,
            124.75,
            124.75,
            100,
            100,
            1,
            1,
            -23.75,
            -23.75,
            1,
            1,
            34,
            34,
            27.8125,
            34,
            67,
            67,
            100,
            124.75,
            100,
            1,
            1,
            -23.75,
            1,
            34,
            34,
            34,
            34
           ],
           "y": [
            1,
            1,
            -7.25,
            -7.25,
            -15.5,
            -15.5,
            -23.75,
            -23.75,
            1,
            1,
            34,
            34,
            67,
            67,
            100,
            100,
            67,
            67,
            34,
            34,
            1,
            1,
            -7.25,
            -15.5,
            -15.5,
            -23.75,
            1,
            34,
            67,
            67,
            100,
            67,
            34,
            34,
            1,
            1,
            -7.25,
            -15.5
           ]
          }
         ],
         "name": "18"
        },
        {
         "data": [
          {
           "line": {
            "shape": "linear"
           },
           "mode": "lines+markers",
           "name": "Polygon",
           "type": "scatter",
           "x": [
            1,
            34,
            34,
            27.8125,
            27.8125,
            34,
            34,
            67,
            67,
            100,
            100,
            124.75,
            124.75,
            100,
            100,
            1,
            1,
            -23.75,
            -23.75,
            1,
            1,
            34,
            34,
            27.8125,
            34,
            67,
            67,
            100,
            124.75,
            100,
            1,
            1,
            -23.75,
            1,
            34,
            34,
            34,
            34,
            67
           ],
           "y": [
            1,
            1,
            -7.25,
            -7.25,
            -15.5,
            -15.5,
            -23.75,
            -23.75,
            1,
            1,
            34,
            34,
            67,
            67,
            100,
            100,
            67,
            67,
            34,
            34,
            1,
            1,
            -7.25,
            -15.5,
            -15.5,
            -23.75,
            1,
            34,
            67,
            67,
            100,
            67,
            34,
            34,
            1,
            1,
            -7.25,
            -15.5,
            1
           ]
          }
         ],
         "name": "19"
        },
        {
         "data": [
          {
           "line": {
            "shape": "linear"
           },
           "mode": "lines+markers",
           "name": "Polygon",
           "type": "scatter",
           "x": [
            1,
            34,
            34,
            27.8125,
            27.8125,
            34,
            34,
            67,
            67,
            100,
            100,
            124.75,
            124.75,
            100,
            100,
            1,
            1,
            -23.75,
            -23.75,
            1,
            1,
            34,
            34,
            27.8125,
            34,
            67,
            67,
            100,
            124.75,
            100,
            1,
            1,
            -23.75,
            1,
            34,
            34,
            34,
            34,
            67,
            124.75
           ],
           "y": [
            1,
            1,
            -7.25,
            -7.25,
            -15.5,
            -15.5,
            -23.75,
            -23.75,
            1,
            1,
            34,
            34,
            67,
            67,
            100,
            100,
            67,
            67,
            34,
            34,
            1,
            1,
            -7.25,
            -15.5,
            -15.5,
            -23.75,
            1,
            34,
            67,
            67,
            100,
            67,
            34,
            34,
            1,
            1,
            -7.25,
            -15.5,
            1,
            67
           ]
          }
         ],
         "name": "20"
        },
        {
         "data": [
          {
           "line": {
            "shape": "linear"
           },
           "mode": "lines+markers",
           "name": "Polygon",
           "type": "scatter",
           "x": [
            1,
            34,
            34,
            27.8125,
            27.8125,
            34,
            34,
            67,
            67,
            100,
            100,
            124.75,
            124.75,
            100,
            100,
            1,
            1,
            -23.75,
            -23.75,
            1,
            1,
            34,
            34,
            27.8125,
            34,
            67,
            67,
            100,
            124.75,
            100,
            1,
            1,
            -23.75,
            1,
            34,
            34,
            34,
            34,
            67,
            124.75,
            100
           ],
           "y": [
            1,
            1,
            -7.25,
            -7.25,
            -15.5,
            -15.5,
            -23.75,
            -23.75,
            1,
            1,
            34,
            34,
            67,
            67,
            100,
            100,
            67,
            67,
            34,
            34,
            1,
            1,
            -7.25,
            -15.5,
            -15.5,
            -23.75,
            1,
            34,
            67,
            67,
            100,
            67,
            34,
            34,
            1,
            1,
            -7.25,
            -15.5,
            1,
            67,
            67
           ]
          }
         ],
         "name": "21"
        },
        {
         "data": [
          {
           "line": {
            "shape": "linear"
           },
           "mode": "lines+markers",
           "name": "Polygon",
           "type": "scatter",
           "x": [
            1,
            34,
            34,
            27.8125,
            27.8125,
            34,
            34,
            67,
            67,
            100,
            100,
            124.75,
            124.75,
            100,
            100,
            1,
            1,
            -23.75,
            -23.75,
            1,
            1,
            34,
            34,
            27.8125,
            34,
            67,
            67,
            100,
            124.75,
            100,
            1,
            1,
            -23.75,
            1,
            34,
            34,
            34,
            34,
            67,
            124.75,
            100,
            1
           ],
           "y": [
            1,
            1,
            -7.25,
            -7.25,
            -15.5,
            -15.5,
            -23.75,
            -23.75,
            1,
            1,
            34,
            34,
            67,
            67,
            100,
            100,
            67,
            67,
            34,
            34,
            1,
            1,
            -7.25,
            -15.5,
            -15.5,
            -23.75,
            1,
            34,
            67,
            67,
            100,
            67,
            34,
            34,
            1,
            1,
            -7.25,
            -15.5,
            1,
            67,
            67,
            67
           ]
          }
         ],
         "name": "22"
        },
        {
         "data": [
          {
           "line": {
            "shape": "linear"
           },
           "mode": "lines+markers",
           "name": "Polygon",
           "type": "scatter",
           "x": [
            1,
            34,
            34,
            27.8125,
            27.8125,
            34,
            34,
            67,
            67,
            100,
            100,
            124.75,
            124.75,
            100,
            100,
            1,
            1,
            -23.75,
            -23.75,
            1,
            1,
            34,
            34,
            27.8125,
            34,
            67,
            67,
            100,
            124.75,
            100,
            1,
            1,
            -23.75,
            1,
            34,
            34,
            34,
            34,
            67,
            124.75,
            100,
            1,
            1
           ],
           "y": [
            1,
            1,
            -7.25,
            -7.25,
            -15.5,
            -15.5,
            -23.75,
            -23.75,
            1,
            1,
            34,
            34,
            67,
            67,
            100,
            100,
            67,
            67,
            34,
            34,
            1,
            1,
            -7.25,
            -15.5,
            -15.5,
            -23.75,
            1,
            34,
            67,
            67,
            100,
            67,
            34,
            34,
            1,
            1,
            -7.25,
            -15.5,
            1,
            67,
            67,
            67,
            34
           ]
          }
         ],
         "name": "23"
        },
        {
         "data": [
          {
           "line": {
            "shape": "linear"
           },
           "mode": "lines+markers",
           "name": "Polygon",
           "type": "scatter",
           "x": [
            1,
            34,
            34,
            27.8125,
            27.8125,
            34,
            34,
            67,
            67,
            100,
            100,
            124.75,
            124.75,
            100,
            100,
            1,
            1,
            -23.75,
            -23.75,
            1,
            1,
            34,
            34,
            27.8125,
            34,
            67,
            67,
            100,
            124.75,
            100,
            1,
            1,
            -23.75,
            1,
            34,
            34,
            34,
            34,
            67,
            124.75,
            100,
            1,
            1,
            34
           ],
           "y": [
            1,
            1,
            -7.25,
            -7.25,
            -15.5,
            -15.5,
            -23.75,
            -23.75,
            1,
            1,
            34,
            34,
            67,
            67,
            100,
            100,
            67,
            67,
            34,
            34,
            1,
            1,
            -7.25,
            -15.5,
            -15.5,
            -23.75,
            1,
            34,
            67,
            67,
            100,
            67,
            34,
            34,
            1,
            1,
            -7.25,
            -15.5,
            1,
            67,
            67,
            67,
            34,
            1
           ]
          }
         ],
         "name": "24"
        },
        {
         "data": [
          {
           "line": {
            "shape": "linear"
           },
           "mode": "lines+markers",
           "name": "Polygon",
           "type": "scatter",
           "x": [
            1,
            34,
            34,
            27.8125,
            27.8125,
            34,
            34,
            67,
            67,
            100,
            100,
            124.75,
            124.75,
            100,
            100,
            1,
            1,
            -23.75,
            -23.75,
            1,
            1,
            34,
            34,
            27.8125,
            34,
            67,
            67,
            100,
            124.75,
            100,
            1,
            1,
            -23.75,
            1,
            34,
            34,
            34,
            34,
            67,
            124.75,
            100,
            1,
            1,
            34,
            34
           ],
           "y": [
            1,
            1,
            -7.25,
            -7.25,
            -15.5,
            -15.5,
            -23.75,
            -23.75,
            1,
            1,
            34,
            34,
            67,
            67,
            100,
            100,
            67,
            67,
            34,
            34,
            1,
            1,
            -7.25,
            -15.5,
            -15.5,
            -23.75,
            1,
            34,
            67,
            67,
            100,
            67,
            34,
            34,
            1,
            1,
            -7.25,
            -15.5,
            1,
            67,
            67,
            67,
            34,
            1,
            -7.25
           ]
          }
         ],
         "name": "25"
        },
        {
         "data": [
          {
           "line": {
            "shape": "linear"
           },
           "mode": "lines+markers",
           "name": "Polygon",
           "type": "scatter",
           "x": [
            1,
            34,
            34,
            27.8125,
            27.8125,
            34,
            34,
            67,
            67,
            100,
            100,
            124.75,
            124.75,
            100,
            100,
            1,
            1,
            -23.75,
            -23.75,
            1,
            1,
            34,
            34,
            27.8125,
            34,
            67,
            67,
            100,
            124.75,
            100,
            1,
            1,
            -23.75,
            1,
            34,
            34,
            34,
            34,
            67,
            124.75,
            100,
            1,
            1,
            34,
            34,
            67
           ],
           "y": [
            1,
            1,
            -7.25,
            -7.25,
            -15.5,
            -15.5,
            -23.75,
            -23.75,
            1,
            1,
            34,
            34,
            67,
            67,
            100,
            100,
            67,
            67,
            34,
            34,
            1,
            1,
            -7.25,
            -15.5,
            -15.5,
            -23.75,
            1,
            34,
            67,
            67,
            100,
            67,
            34,
            34,
            1,
            1,
            -7.25,
            -15.5,
            1,
            67,
            67,
            67,
            34,
            1,
            -7.25,
            1
           ]
          }
         ],
         "name": "26"
        },
        {
         "data": [
          {
           "line": {
            "shape": "linear"
           },
           "mode": "lines+markers",
           "name": "Polygon",
           "type": "scatter",
           "x": [
            1,
            34,
            34,
            27.8125,
            27.8125,
            34,
            34,
            67,
            67,
            100,
            100,
            124.75,
            124.75,
            100,
            100,
            1,
            1,
            -23.75,
            -23.75,
            1,
            1,
            34,
            34,
            27.8125,
            34,
            67,
            67,
            100,
            124.75,
            100,
            1,
            1,
            -23.75,
            1,
            34,
            34,
            34,
            34,
            67,
            124.75,
            100,
            1,
            1,
            34,
            34,
            67,
            100
           ],
           "y": [
            1,
            1,
            -7.25,
            -7.25,
            -15.5,
            -15.5,
            -23.75,
            -23.75,
            1,
            1,
            34,
            34,
            67,
            67,
            100,
            100,
            67,
            67,
            34,
            34,
            1,
            1,
            -7.25,
            -15.5,
            -15.5,
            -23.75,
            1,
            34,
            67,
            67,
            100,
            67,
            34,
            34,
            1,
            1,
            -7.25,
            -15.5,
            1,
            67,
            67,
            67,
            34,
            1,
            -7.25,
            1,
            67
           ]
          }
         ],
         "name": "27"
        },
        {
         "data": [
          {
           "line": {
            "shape": "linear"
           },
           "mode": "lines+markers",
           "name": "Polygon",
           "type": "scatter",
           "x": [
            1,
            34,
            34,
            27.8125,
            27.8125,
            34,
            34,
            67,
            67,
            100,
            100,
            124.75,
            124.75,
            100,
            100,
            1,
            1,
            -23.75,
            -23.75,
            1,
            1,
            34,
            34,
            27.8125,
            34,
            67,
            67,
            100,
            124.75,
            100,
            1,
            1,
            -23.75,
            1,
            34,
            34,
            34,
            34,
            67,
            124.75,
            100,
            1,
            1,
            34,
            34,
            67,
            100,
            1
           ],
           "y": [
            1,
            1,
            -7.25,
            -7.25,
            -15.5,
            -15.5,
            -23.75,
            -23.75,
            1,
            1,
            34,
            34,
            67,
            67,
            100,
            100,
            67,
            67,
            34,
            34,
            1,
            1,
            -7.25,
            -15.5,
            -15.5,
            -23.75,
            1,
            34,
            67,
            67,
            100,
            67,
            34,
            34,
            1,
            1,
            -7.25,
            -15.5,
            1,
            67,
            67,
            67,
            34,
            1,
            -7.25,
            1,
            67,
            34
           ]
          }
         ],
         "name": "28"
        },
        {
         "data": [
          {
           "line": {
            "shape": "linear"
           },
           "mode": "lines+markers",
           "name": "Polygon",
           "type": "scatter",
           "x": [
            1,
            34,
            34,
            27.8125,
            27.8125,
            34,
            34,
            67,
            67,
            100,
            100,
            124.75,
            124.75,
            100,
            100,
            1,
            1,
            -23.75,
            -23.75,
            1,
            1,
            34,
            34,
            27.8125,
            34,
            67,
            67,
            100,
            124.75,
            100,
            1,
            1,
            -23.75,
            1,
            34,
            34,
            34,
            34,
            67,
            124.75,
            100,
            1,
            1,
            34,
            34,
            67,
            100,
            1,
            34
           ],
           "y": [
            1,
            1,
            -7.25,
            -7.25,
            -15.5,
            -15.5,
            -23.75,
            -23.75,
            1,
            1,
            34,
            34,
            67,
            67,
            100,
            100,
            67,
            67,
            34,
            34,
            1,
            1,
            -7.25,
            -15.5,
            -15.5,
            -23.75,
            1,
            34,
            67,
            67,
            100,
            67,
            34,
            34,
            1,
            1,
            -7.25,
            -15.5,
            1,
            67,
            67,
            67,
            34,
            1,
            -7.25,
            1,
            67,
            34,
            1
           ]
          }
         ],
         "name": "29"
        },
        {
         "data": [
          {
           "line": {
            "shape": "linear"
           },
           "mode": "lines+markers",
           "name": "Polygon",
           "type": "scatter",
           "x": [
            1,
            34,
            34,
            27.8125,
            27.8125,
            34,
            34,
            67,
            67,
            100,
            100,
            124.75,
            124.75,
            100,
            100,
            1,
            1,
            -23.75,
            -23.75,
            1,
            1,
            34,
            34,
            27.8125,
            34,
            67,
            67,
            100,
            124.75,
            100,
            1,
            1,
            -23.75,
            1,
            34,
            34,
            34,
            34,
            67,
            124.75,
            100,
            1,
            1,
            34,
            34,
            67,
            100,
            1,
            34,
            67
           ],
           "y": [
            1,
            1,
            -7.25,
            -7.25,
            -15.5,
            -15.5,
            -23.75,
            -23.75,
            1,
            1,
            34,
            34,
            67,
            67,
            100,
            100,
            67,
            67,
            34,
            34,
            1,
            1,
            -7.25,
            -15.5,
            -15.5,
            -23.75,
            1,
            34,
            67,
            67,
            100,
            67,
            34,
            34,
            1,
            1,
            -7.25,
            -15.5,
            1,
            67,
            67,
            67,
            34,
            1,
            -7.25,
            1,
            67,
            34,
            1,
            1
           ]
          }
         ],
         "name": "30"
        },
        {
         "data": [
          {
           "line": {
            "shape": "linear"
           },
           "mode": "lines+markers",
           "name": "Polygon",
           "type": "scatter",
           "x": [
            1,
            34,
            34,
            27.8125,
            27.8125,
            34,
            34,
            67,
            67,
            100,
            100,
            124.75,
            124.75,
            100,
            100,
            1,
            1,
            -23.75,
            -23.75,
            1,
            1,
            34,
            34,
            27.8125,
            34,
            67,
            67,
            100,
            124.75,
            100,
            1,
            1,
            -23.75,
            1,
            34,
            34,
            34,
            34,
            67,
            124.75,
            100,
            1,
            1,
            34,
            34,
            67,
            100,
            1,
            34,
            67,
            1
           ],
           "y": [
            1,
            1,
            -7.25,
            -7.25,
            -15.5,
            -15.5,
            -23.75,
            -23.75,
            1,
            1,
            34,
            34,
            67,
            67,
            100,
            100,
            67,
            67,
            34,
            34,
            1,
            1,
            -7.25,
            -15.5,
            -15.5,
            -23.75,
            1,
            34,
            67,
            67,
            100,
            67,
            34,
            34,
            1,
            1,
            -7.25,
            -15.5,
            1,
            67,
            67,
            67,
            34,
            1,
            -7.25,
            1,
            67,
            34,
            1,
            1,
            34
           ]
          }
         ],
         "name": "31"
        }
       ],
       "layout": {
        "hovermode": "closest",
        "sliders": [
         {
          "active": 0,
          "currentvalue": {
           "font": {
            "size": 20
           },
           "prefix": "Stage:",
           "visible": true,
           "xanchor": "right"
          },
          "len": 0.9,
          "pad": {
           "b": 10,
           "t": 50
          },
          "steps": [
           {
            "args": [
             [
              "1"
             ],
             {
              "frame": {
               "duration": 300,
               "redraw": false
              },
              "mode": "immediate",
              "transition": {
               "duration": 300
              }
             }
            ],
            "label": "1",
            "method": "animate"
           },
           {
            "args": [
             [
              "2"
             ],
             {
              "frame": {
               "duration": 300,
               "redraw": false
              },
              "mode": "immediate",
              "transition": {
               "duration": 300
              }
             }
            ],
            "label": "2",
            "method": "animate"
           },
           {
            "args": [
             [
              "3"
             ],
             {
              "frame": {
               "duration": 300,
               "redraw": false
              },
              "mode": "immediate",
              "transition": {
               "duration": 300
              }
             }
            ],
            "label": "3",
            "method": "animate"
           },
           {
            "args": [
             [
              "4"
             ],
             {
              "frame": {
               "duration": 300,
               "redraw": false
              },
              "mode": "immediate",
              "transition": {
               "duration": 300
              }
             }
            ],
            "label": "4",
            "method": "animate"
           },
           {
            "args": [
             [
              "5"
             ],
             {
              "frame": {
               "duration": 300,
               "redraw": false
              },
              "mode": "immediate",
              "transition": {
               "duration": 300
              }
             }
            ],
            "label": "5",
            "method": "animate"
           },
           {
            "args": [
             [
              "6"
             ],
             {
              "frame": {
               "duration": 300,
               "redraw": false
              },
              "mode": "immediate",
              "transition": {
               "duration": 300
              }
             }
            ],
            "label": "6",
            "method": "animate"
           },
           {
            "args": [
             [
              "7"
             ],
             {
              "frame": {
               "duration": 300,
               "redraw": false
              },
              "mode": "immediate",
              "transition": {
               "duration": 300
              }
             }
            ],
            "label": "7",
            "method": "animate"
           },
           {
            "args": [
             [
              "8"
             ],
             {
              "frame": {
               "duration": 300,
               "redraw": false
              },
              "mode": "immediate",
              "transition": {
               "duration": 300
              }
             }
            ],
            "label": "8",
            "method": "animate"
           },
           {
            "args": [
             [
              "9"
             ],
             {
              "frame": {
               "duration": 300,
               "redraw": false
              },
              "mode": "immediate",
              "transition": {
               "duration": 300
              }
             }
            ],
            "label": "9",
            "method": "animate"
           },
           {
            "args": [
             [
              "10"
             ],
             {
              "frame": {
               "duration": 300,
               "redraw": false
              },
              "mode": "immediate",
              "transition": {
               "duration": 300
              }
             }
            ],
            "label": "10",
            "method": "animate"
           },
           {
            "args": [
             [
              "11"
             ],
             {
              "frame": {
               "duration": 300,
               "redraw": false
              },
              "mode": "immediate",
              "transition": {
               "duration": 300
              }
             }
            ],
            "label": "11",
            "method": "animate"
           },
           {
            "args": [
             [
              "12"
             ],
             {
              "frame": {
               "duration": 300,
               "redraw": false
              },
              "mode": "immediate",
              "transition": {
               "duration": 300
              }
             }
            ],
            "label": "12",
            "method": "animate"
           },
           {
            "args": [
             [
              "13"
             ],
             {
              "frame": {
               "duration": 300,
               "redraw": false
              },
              "mode": "immediate",
              "transition": {
               "duration": 300
              }
             }
            ],
            "label": "13",
            "method": "animate"
           },
           {
            "args": [
             [
              "14"
             ],
             {
              "frame": {
               "duration": 300,
               "redraw": false
              },
              "mode": "immediate",
              "transition": {
               "duration": 300
              }
             }
            ],
            "label": "14",
            "method": "animate"
           },
           {
            "args": [
             [
              "15"
             ],
             {
              "frame": {
               "duration": 300,
               "redraw": false
              },
              "mode": "immediate",
              "transition": {
               "duration": 300
              }
             }
            ],
            "label": "15",
            "method": "animate"
           },
           {
            "args": [
             [
              "16"
             ],
             {
              "frame": {
               "duration": 300,
               "redraw": false
              },
              "mode": "immediate",
              "transition": {
               "duration": 300
              }
             }
            ],
            "label": "16",
            "method": "animate"
           },
           {
            "args": [
             [
              "17"
             ],
             {
              "frame": {
               "duration": 300,
               "redraw": false
              },
              "mode": "immediate",
              "transition": {
               "duration": 300
              }
             }
            ],
            "label": "17",
            "method": "animate"
           },
           {
            "args": [
             [
              "18"
             ],
             {
              "frame": {
               "duration": 300,
               "redraw": false
              },
              "mode": "immediate",
              "transition": {
               "duration": 300
              }
             }
            ],
            "label": "18",
            "method": "animate"
           },
           {
            "args": [
             [
              "19"
             ],
             {
              "frame": {
               "duration": 300,
               "redraw": false
              },
              "mode": "immediate",
              "transition": {
               "duration": 300
              }
             }
            ],
            "label": "19",
            "method": "animate"
           },
           {
            "args": [
             [
              "20"
             ],
             {
              "frame": {
               "duration": 300,
               "redraw": false
              },
              "mode": "immediate",
              "transition": {
               "duration": 300
              }
             }
            ],
            "label": "20",
            "method": "animate"
           },
           {
            "args": [
             [
              "21"
             ],
             {
              "frame": {
               "duration": 300,
               "redraw": false
              },
              "mode": "immediate",
              "transition": {
               "duration": 300
              }
             }
            ],
            "label": "21",
            "method": "animate"
           },
           {
            "args": [
             [
              "22"
             ],
             {
              "frame": {
               "duration": 300,
               "redraw": false
              },
              "mode": "immediate",
              "transition": {
               "duration": 300
              }
             }
            ],
            "label": "22",
            "method": "animate"
           },
           {
            "args": [
             [
              "23"
             ],
             {
              "frame": {
               "duration": 300,
               "redraw": false
              },
              "mode": "immediate",
              "transition": {
               "duration": 300
              }
             }
            ],
            "label": "23",
            "method": "animate"
           },
           {
            "args": [
             [
              "24"
             ],
             {
              "frame": {
               "duration": 300,
               "redraw": false
              },
              "mode": "immediate",
              "transition": {
               "duration": 300
              }
             }
            ],
            "label": "24",
            "method": "animate"
           },
           {
            "args": [
             [
              "25"
             ],
             {
              "frame": {
               "duration": 300,
               "redraw": false
              },
              "mode": "immediate",
              "transition": {
               "duration": 300
              }
             }
            ],
            "label": "25",
            "method": "animate"
           },
           {
            "args": [
             [
              "26"
             ],
             {
              "frame": {
               "duration": 300,
               "redraw": false
              },
              "mode": "immediate",
              "transition": {
               "duration": 300
              }
             }
            ],
            "label": "26",
            "method": "animate"
           },
           {
            "args": [
             [
              "27"
             ],
             {
              "frame": {
               "duration": 300,
               "redraw": false
              },
              "mode": "immediate",
              "transition": {
               "duration": 300
              }
             }
            ],
            "label": "27",
            "method": "animate"
           },
           {
            "args": [
             [
              "28"
             ],
             {
              "frame": {
               "duration": 300,
               "redraw": false
              },
              "mode": "immediate",
              "transition": {
               "duration": 300
              }
             }
            ],
            "label": "28",
            "method": "animate"
           },
           {
            "args": [
             [
              "29"
             ],
             {
              "frame": {
               "duration": 300,
               "redraw": false
              },
              "mode": "immediate",
              "transition": {
               "duration": 300
              }
             }
            ],
            "label": "29",
            "method": "animate"
           },
           {
            "args": [
             [
              "30"
             ],
             {
              "frame": {
               "duration": 300,
               "redraw": false
              },
              "mode": "immediate",
              "transition": {
               "duration": 300
              }
             }
            ],
            "label": "30",
            "method": "animate"
           },
           {
            "args": [
             [
              "31"
             ],
             {
              "frame": {
               "duration": 300,
               "redraw": false
              },
              "mode": "immediate",
              "transition": {
               "duration": 300
              }
             }
            ],
            "label": "31",
            "method": "animate"
           }
          ],
          "transition": {
           "duration": 300,
           "easing": "cubic-in-out"
          },
          "x": 0.1,
          "xanchor": "left",
          "y": 0,
          "yanchor": "top"
         }
        ],
        "template": {
         "data": {
          "bar": [
           {
            "error_x": {
             "color": "#2a3f5f"
            },
            "error_y": {
             "color": "#2a3f5f"
            },
            "marker": {
             "line": {
              "color": "#E5ECF6",
              "width": 0.5
             },
             "pattern": {
              "fillmode": "overlay",
              "size": 10,
              "solidity": 0.2
             }
            },
            "type": "bar"
           }
          ],
          "barpolar": [
           {
            "marker": {
             "line": {
              "color": "#E5ECF6",
              "width": 0.5
             },
             "pattern": {
              "fillmode": "overlay",
              "size": 10,
              "solidity": 0.2
             }
            },
            "type": "barpolar"
           }
          ],
          "carpet": [
           {
            "aaxis": {
             "endlinecolor": "#2a3f5f",
             "gridcolor": "white",
             "linecolor": "white",
             "minorgridcolor": "white",
             "startlinecolor": "#2a3f5f"
            },
            "baxis": {
             "endlinecolor": "#2a3f5f",
             "gridcolor": "white",
             "linecolor": "white",
             "minorgridcolor": "white",
             "startlinecolor": "#2a3f5f"
            },
            "type": "carpet"
           }
          ],
          "choropleth": [
           {
            "colorbar": {
             "outlinewidth": 0,
             "ticks": ""
            },
            "type": "choropleth"
           }
          ],
          "contour": [
           {
            "colorbar": {
             "outlinewidth": 0,
             "ticks": ""
            },
            "colorscale": [
             [
              0,
              "#0d0887"
             ],
             [
              0.1111111111111111,
              "#46039f"
             ],
             [
              0.2222222222222222,
              "#7201a8"
             ],
             [
              0.3333333333333333,
              "#9c179e"
             ],
             [
              0.4444444444444444,
              "#bd3786"
             ],
             [
              0.5555555555555556,
              "#d8576b"
             ],
             [
              0.6666666666666666,
              "#ed7953"
             ],
             [
              0.7777777777777778,
              "#fb9f3a"
             ],
             [
              0.8888888888888888,
              "#fdca26"
             ],
             [
              1,
              "#f0f921"
             ]
            ],
            "type": "contour"
           }
          ],
          "contourcarpet": [
           {
            "colorbar": {
             "outlinewidth": 0,
             "ticks": ""
            },
            "type": "contourcarpet"
           }
          ],
          "heatmap": [
           {
            "colorbar": {
             "outlinewidth": 0,
             "ticks": ""
            },
            "colorscale": [
             [
              0,
              "#0d0887"
             ],
             [
              0.1111111111111111,
              "#46039f"
             ],
             [
              0.2222222222222222,
              "#7201a8"
             ],
             [
              0.3333333333333333,
              "#9c179e"
             ],
             [
              0.4444444444444444,
              "#bd3786"
             ],
             [
              0.5555555555555556,
              "#d8576b"
             ],
             [
              0.6666666666666666,
              "#ed7953"
             ],
             [
              0.7777777777777778,
              "#fb9f3a"
             ],
             [
              0.8888888888888888,
              "#fdca26"
             ],
             [
              1,
              "#f0f921"
             ]
            ],
            "type": "heatmap"
           }
          ],
          "heatmapgl": [
           {
            "colorbar": {
             "outlinewidth": 0,
             "ticks": ""
            },
            "colorscale": [
             [
              0,
              "#0d0887"
             ],
             [
              0.1111111111111111,
              "#46039f"
             ],
             [
              0.2222222222222222,
              "#7201a8"
             ],
             [
              0.3333333333333333,
              "#9c179e"
             ],
             [
              0.4444444444444444,
              "#bd3786"
             ],
             [
              0.5555555555555556,
              "#d8576b"
             ],
             [
              0.6666666666666666,
              "#ed7953"
             ],
             [
              0.7777777777777778,
              "#fb9f3a"
             ],
             [
              0.8888888888888888,
              "#fdca26"
             ],
             [
              1,
              "#f0f921"
             ]
            ],
            "type": "heatmapgl"
           }
          ],
          "histogram": [
           {
            "marker": {
             "pattern": {
              "fillmode": "overlay",
              "size": 10,
              "solidity": 0.2
             }
            },
            "type": "histogram"
           }
          ],
          "histogram2d": [
           {
            "colorbar": {
             "outlinewidth": 0,
             "ticks": ""
            },
            "colorscale": [
             [
              0,
              "#0d0887"
             ],
             [
              0.1111111111111111,
              "#46039f"
             ],
             [
              0.2222222222222222,
              "#7201a8"
             ],
             [
              0.3333333333333333,
              "#9c179e"
             ],
             [
              0.4444444444444444,
              "#bd3786"
             ],
             [
              0.5555555555555556,
              "#d8576b"
             ],
             [
              0.6666666666666666,
              "#ed7953"
             ],
             [
              0.7777777777777778,
              "#fb9f3a"
             ],
             [
              0.8888888888888888,
              "#fdca26"
             ],
             [
              1,
              "#f0f921"
             ]
            ],
            "type": "histogram2d"
           }
          ],
          "histogram2dcontour": [
           {
            "colorbar": {
             "outlinewidth": 0,
             "ticks": ""
            },
            "colorscale": [
             [
              0,
              "#0d0887"
             ],
             [
              0.1111111111111111,
              "#46039f"
             ],
             [
              0.2222222222222222,
              "#7201a8"
             ],
             [
              0.3333333333333333,
              "#9c179e"
             ],
             [
              0.4444444444444444,
              "#bd3786"
             ],
             [
              0.5555555555555556,
              "#d8576b"
             ],
             [
              0.6666666666666666,
              "#ed7953"
             ],
             [
              0.7777777777777778,
              "#fb9f3a"
             ],
             [
              0.8888888888888888,
              "#fdca26"
             ],
             [
              1,
              "#f0f921"
             ]
            ],
            "type": "histogram2dcontour"
           }
          ],
          "mesh3d": [
           {
            "colorbar": {
             "outlinewidth": 0,
             "ticks": ""
            },
            "type": "mesh3d"
           }
          ],
          "parcoords": [
           {
            "line": {
             "colorbar": {
              "outlinewidth": 0,
              "ticks": ""
             }
            },
            "type": "parcoords"
           }
          ],
          "pie": [
           {
            "automargin": true,
            "type": "pie"
           }
          ],
          "scatter": [
           {
            "fillpattern": {
             "fillmode": "overlay",
             "size": 10,
             "solidity": 0.2
            },
            "type": "scatter"
           }
          ],
          "scatter3d": [
           {
            "line": {
             "colorbar": {
              "outlinewidth": 0,
              "ticks": ""
             }
            },
            "marker": {
             "colorbar": {
              "outlinewidth": 0,
              "ticks": ""
             }
            },
            "type": "scatter3d"
           }
          ],
          "scattercarpet": [
           {
            "marker": {
             "colorbar": {
              "outlinewidth": 0,
              "ticks": ""
             }
            },
            "type": "scattercarpet"
           }
          ],
          "scattergeo": [
           {
            "marker": {
             "colorbar": {
              "outlinewidth": 0,
              "ticks": ""
             }
            },
            "type": "scattergeo"
           }
          ],
          "scattergl": [
           {
            "marker": {
             "colorbar": {
              "outlinewidth": 0,
              "ticks": ""
             }
            },
            "type": "scattergl"
           }
          ],
          "scattermapbox": [
           {
            "marker": {
             "colorbar": {
              "outlinewidth": 0,
              "ticks": ""
             }
            },
            "type": "scattermapbox"
           }
          ],
          "scatterpolar": [
           {
            "marker": {
             "colorbar": {
              "outlinewidth": 0,
              "ticks": ""
             }
            },
            "type": "scatterpolar"
           }
          ],
          "scatterpolargl": [
           {
            "marker": {
             "colorbar": {
              "outlinewidth": 0,
              "ticks": ""
             }
            },
            "type": "scatterpolargl"
           }
          ],
          "scatterternary": [
           {
            "marker": {
             "colorbar": {
              "outlinewidth": 0,
              "ticks": ""
             }
            },
            "type": "scatterternary"
           }
          ],
          "surface": [
           {
            "colorbar": {
             "outlinewidth": 0,
             "ticks": ""
            },
            "colorscale": [
             [
              0,
              "#0d0887"
             ],
             [
              0.1111111111111111,
              "#46039f"
             ],
             [
              0.2222222222222222,
              "#7201a8"
             ],
             [
              0.3333333333333333,
              "#9c179e"
             ],
             [
              0.4444444444444444,
              "#bd3786"
             ],
             [
              0.5555555555555556,
              "#d8576b"
             ],
             [
              0.6666666666666666,
              "#ed7953"
             ],
             [
              0.7777777777777778,
              "#fb9f3a"
             ],
             [
              0.8888888888888888,
              "#fdca26"
             ],
             [
              1,
              "#f0f921"
             ]
            ],
            "type": "surface"
           }
          ],
          "table": [
           {
            "cells": {
             "fill": {
              "color": "#EBF0F8"
             },
             "line": {
              "color": "white"
             }
            },
            "header": {
             "fill": {
              "color": "#C8D4E3"
             },
             "line": {
              "color": "white"
             }
            },
            "type": "table"
           }
          ]
         },
         "layout": {
          "annotationdefaults": {
           "arrowcolor": "#2a3f5f",
           "arrowhead": 0,
           "arrowwidth": 1
          },
          "autotypenumbers": "strict",
          "coloraxis": {
           "colorbar": {
            "outlinewidth": 0,
            "ticks": ""
           }
          },
          "colorscale": {
           "diverging": [
            [
             0,
             "#8e0152"
            ],
            [
             0.1,
             "#c51b7d"
            ],
            [
             0.2,
             "#de77ae"
            ],
            [
             0.3,
             "#f1b6da"
            ],
            [
             0.4,
             "#fde0ef"
            ],
            [
             0.5,
             "#f7f7f7"
            ],
            [
             0.6,
             "#e6f5d0"
            ],
            [
             0.7,
             "#b8e186"
            ],
            [
             0.8,
             "#7fbc41"
            ],
            [
             0.9,
             "#4d9221"
            ],
            [
             1,
             "#276419"
            ]
           ],
           "sequential": [
            [
             0,
             "#0d0887"
            ],
            [
             0.1111111111111111,
             "#46039f"
            ],
            [
             0.2222222222222222,
             "#7201a8"
            ],
            [
             0.3333333333333333,
             "#9c179e"
            ],
            [
             0.4444444444444444,
             "#bd3786"
            ],
            [
             0.5555555555555556,
             "#d8576b"
            ],
            [
             0.6666666666666666,
             "#ed7953"
            ],
            [
             0.7777777777777778,
             "#fb9f3a"
            ],
            [
             0.8888888888888888,
             "#fdca26"
            ],
            [
             1,
             "#f0f921"
            ]
           ],
           "sequentialminus": [
            [
             0,
             "#0d0887"
            ],
            [
             0.1111111111111111,
             "#46039f"
            ],
            [
             0.2222222222222222,
             "#7201a8"
            ],
            [
             0.3333333333333333,
             "#9c179e"
            ],
            [
             0.4444444444444444,
             "#bd3786"
            ],
            [
             0.5555555555555556,
             "#d8576b"
            ],
            [
             0.6666666666666666,
             "#ed7953"
            ],
            [
             0.7777777777777778,
             "#fb9f3a"
            ],
            [
             0.8888888888888888,
             "#fdca26"
            ],
            [
             1,
             "#f0f921"
            ]
           ]
          },
          "colorway": [
           "#636efa",
           "#EF553B",
           "#00cc96",
           "#ab63fa",
           "#FFA15A",
           "#19d3f3",
           "#FF6692",
           "#B6E880",
           "#FF97FF",
           "#FECB52"
          ],
          "font": {
           "color": "#2a3f5f"
          },
          "geo": {
           "bgcolor": "white",
           "lakecolor": "white",
           "landcolor": "#E5ECF6",
           "showlakes": true,
           "showland": true,
           "subunitcolor": "white"
          },
          "hoverlabel": {
           "align": "left"
          },
          "hovermode": "closest",
          "mapbox": {
           "style": "light"
          },
          "paper_bgcolor": "white",
          "plot_bgcolor": "#E5ECF6",
          "polar": {
           "angularaxis": {
            "gridcolor": "white",
            "linecolor": "white",
            "ticks": ""
           },
           "bgcolor": "#E5ECF6",
           "radialaxis": {
            "gridcolor": "white",
            "linecolor": "white",
            "ticks": ""
           }
          },
          "scene": {
           "xaxis": {
            "backgroundcolor": "#E5ECF6",
            "gridcolor": "white",
            "gridwidth": 2,
            "linecolor": "white",
            "showbackground": true,
            "ticks": "",
            "zerolinecolor": "white"
           },
           "yaxis": {
            "backgroundcolor": "#E5ECF6",
            "gridcolor": "white",
            "gridwidth": 2,
            "linecolor": "white",
            "showbackground": true,
            "ticks": "",
            "zerolinecolor": "white"
           },
           "zaxis": {
            "backgroundcolor": "#E5ECF6",
            "gridcolor": "white",
            "gridwidth": 2,
            "linecolor": "white",
            "showbackground": true,
            "ticks": "",
            "zerolinecolor": "white"
           }
          },
          "shapedefaults": {
           "line": {
            "color": "#2a3f5f"
           }
          },
          "ternary": {
           "aaxis": {
            "gridcolor": "white",
            "linecolor": "white",
            "ticks": ""
           },
           "baxis": {
            "gridcolor": "white",
            "linecolor": "white",
            "ticks": ""
           },
           "bgcolor": "#E5ECF6",
           "caxis": {
            "gridcolor": "white",
            "linecolor": "white",
            "ticks": ""
           }
          },
          "title": {
           "x": 0.05
          },
          "xaxis": {
           "automargin": true,
           "gridcolor": "white",
           "linecolor": "white",
           "ticks": "",
           "title": {
            "standoff": 15
           },
           "zerolinecolor": "white",
           "zerolinewidth": 2
          },
          "yaxis": {
           "automargin": true,
           "gridcolor": "white",
           "linecolor": "white",
           "ticks": "",
           "title": {
            "standoff": 15
           },
           "zerolinecolor": "white",
           "zerolinewidth": 2
          }
         }
        },
        "updatemenus": [
         {
          "buttons": [
           {
            "args": [
             null,
             {
              "frame": {
               "duration": 500,
               "redraw": false
              },
              "fromcurrent": true,
              "transition": {
               "duration": 300,
               "easing": "quadratic-in-out"
              }
             }
            ],
            "label": "Play",
            "method": "animate"
           },
           {
            "args": [
             [
              null
             ],
             {
              "frame": {
               "duration": 0,
               "redraw": false
              },
              "mode": "immediate",
              "transition": {
               "duration": 0
              }
             }
            ],
            "label": "Pause",
            "method": "animate"
           }
          ],
          "direction": "left",
          "pad": {
           "r": 10,
           "t": 87
          },
          "showactive": false,
          "type": "buttons",
          "x": 0.1,
          "xanchor": "right",
          "y": 0,
          "yanchor": "top"
         }
        ],
        "xaxis": {
         "range": [
          -30.75,
          131.75
         ],
         "title": {
          "text": "X"
         }
        },
        "yaxis": {
         "range": [
          -30.75,
          107
         ],
         "title": {
          "text": "Y"
         }
        }
       }
      }
     },
     "metadata": {},
     "output_type": "display_data"
    }
   ],
   "source": [
    "\n",
    "# Define as coordenadas do polígono em diferentes estágios\n",
    "polygon_stages = polygon_stages2\n",
    "\n",
    "# Definir os anos como estágios do polígono para a animação\n",
    "years = years2\n",
    "\n",
    "# Criação da estrutura da figura\n",
    "fig_dict = {\n",
    "    \"data\": [],\n",
    "    \"layout\": {},\n",
    "    \"frames\": []\n",
    "}\n",
    "\n",
    "# Configuração do layout\n",
    "fig_dict[\"layout\"][\"xaxis\"] = {\"range\": [xMin, xMax], \"title\": \"X\"}\n",
    "fig_dict[\"layout\"][\"yaxis\"] = {\"range\": [yMin, yMax], \"title\": \"Y\"}\n",
    "fig_dict[\"layout\"][\"hovermode\"] = \"closest\"\n",
    "fig_dict[\"layout\"][\"updatemenus\"] = [\n",
    "    {\n",
    "        \"buttons\": [\n",
    "            {\n",
    "                \"args\": [None, {\"frame\": {\"duration\": 500, \"redraw\": False},\n",
    "                                \"fromcurrent\": True, \"transition\": {\"duration\": 300,\n",
    "                                                                    \"easing\": \"quadratic-in-out\"}}],\n",
    "                \"label\": \"Play\",\n",
    "                \"method\": \"animate\"\n",
    "            },\n",
    "            {\n",
    "                \"args\": [[None], {\"frame\": {\"duration\": 0, \"redraw\": False},\n",
    "                                  \"mode\": \"immediate\",\n",
    "                                  \"transition\": {\"duration\": 0}}],\n",
    "                \"label\": \"Pause\",\n",
    "                \"method\": \"animate\"\n",
    "            }\n",
    "        ],\n",
    "        \"direction\": \"left\",\n",
    "        \"pad\": {\"r\": 10, \"t\": 87},\n",
    "        \"showactive\": False,\n",
    "        \"type\": \"buttons\",\n",
    "        \"x\": 0.1,\n",
    "        \"xanchor\": \"right\",\n",
    "        \"y\": 0,\n",
    "        \"yanchor\": \"top\"\n",
    "    }\n",
    "]\n",
    "\n",
    "sliders_dict = {\n",
    "    \"active\": 0,\n",
    "    \"yanchor\": \"top\",\n",
    "    \"xanchor\": \"left\",\n",
    "    \"currentvalue\": {\n",
    "        \"font\": {\"size\": 20},\n",
    "        \"prefix\": \"Stage:\",\n",
    "        \"visible\": True,\n",
    "        \"xanchor\": \"right\"\n",
    "    },\n",
    "    \"transition\": {\"duration\": 300, \"easing\": \"cubic-in-out\"},\n",
    "    \"pad\": {\"b\": 10, \"t\": 50},\n",
    "    \"len\": 0.9,\n",
    "    \"x\": 0.1,\n",
    "    \"y\": 0,\n",
    "    \"steps\": []\n",
    "}\n",
    "\n",
    "# Configuração inicial do polígono\n",
    "initial_polygon = polygon_stages[0]\n",
    "x, y = zip(*initial_polygon)\n",
    "data_dict = {\n",
    "    \"x\": x,\n",
    "    \"y\": y,\n",
    "    \"mode\": \"lines+markers\",\n",
    "    \"name\": \"Polygon\",\n",
    "    \"line\": {\"shape\": \"linear\"}\n",
    "}\n",
    "fig_dict[\"data\"].append(data_dict)\n",
    "\n",
    "# Criação dos frames para cada estágio do polígono\n",
    "for i, year in enumerate(years):\n",
    "    frame = {\"data\": [], \"name\": str(year)}\n",
    "    polygon = polygon_stages[i]\n",
    "    x, y = zip(*polygon)\n",
    "    data_dict = {\n",
    "        \"x\": x,\n",
    "        \"y\": y,\n",
    "        \"mode\": \"lines+markers\",\n",
    "        \"name\": \"Polygon\",\n",
    "        \"line\": {\"shape\": \"linear\"}\n",
    "    }\n",
    "    frame[\"data\"].append(data_dict)\n",
    "    fig_dict[\"frames\"].append(frame)\n",
    "\n",
    "    slider_step = {\n",
    "        \"args\": [\n",
    "            [year],\n",
    "            {\"frame\": {\"duration\": 300, \"redraw\": False},\n",
    "             \"mode\": \"immediate\",\n",
    "             \"transition\": {\"duration\": 300}}\n",
    "        ],\n",
    "        \"label\": year,\n",
    "        \"method\": \"animate\"\n",
    "    }\n",
    "    sliders_dict[\"steps\"].append(slider_step)\n",
    "\n",
    "fig_dict[\"layout\"][\"sliders\"] = [sliders_dict]\n",
    "\n",
    "fig = go.Figure(fig_dict)\n",
    "\n",
    "fig.show()\n"
   ]
  },
  {
   "cell_type": "code",
   "execution_count": 7,
   "metadata": {},
   "outputs": [],
   "source": [
    "def color_triangle(graph, triangulos, i):\n",
    "    colors = [0, 1, 2]\n",
    "    if i == 0:\n",
    "        p1,p2,p3 = triangulos[i]\n",
    "        graph.nodes[p1]['color'] = colors[0]\n",
    "        graph.nodes[p2]['color'] = colors[1]\n",
    "        graph.nodes[p3]['color'] = colors[2]\n",
    "        return graph\n",
    "\n",
    "    ja_coloridos = dict()\n",
    "    point = 0\n",
    "    for p in triangulos[i]:\n",
    "        if graph.nodes[p]['color'] != None:\n",
    "            ja_coloridos[p] = graph.nodes[p]['color']\n",
    "        else:\n",
    "            point = p    \n",
    "            \n",
    "    to_color = list((set(colors) - (set(ja_coloridos.values()) & set(colors))))[0]\n",
    "    graph.nodes[point]['color'] = to_color\n",
    "    \n",
    "    return graph\n",
    "\n"
   ]
  },
  {
   "cell_type": "code",
   "execution_count": 8,
   "metadata": {},
   "outputs": [],
   "source": [
    "colored_Graph = G.graph.copy()\n",
    "\n",
    "dual = nx.Graph()\n",
    "for i in range(len(triangulos)):\n",
    "    tri_v = '-'.join(np.array(triangulos[i],dtype=str))\n",
    "    dual.add_node(i,tri_v = tri_v)\n",
    "\n",
    "for i in range(len(triangulos)):\n",
    "    for j in range(len(triangulos)):\n",
    "        if(len(set(triangulos[i]+triangulos[j]))) == 4:\n",
    "            dual.add_edge(i,j)\n",
    "\n",
    "dfs_edges = list(nx.dfs_edges(dual))\n",
    "colored_Graph = color_triangle(colored_Graph,triangulos,0)\n",
    "for i,j in dfs_edges:\n",
    "    colored_Graph = color_triangle(colored_Graph,triangulos,j)"
   ]
  },
  {
   "cell_type": "code",
   "execution_count": 9,
   "metadata": {},
   "outputs": [],
   "source": [
    "colors  = list(nx.get_node_attributes(colored_Graph,'color').values())"
   ]
  },
  {
   "cell_type": "code",
   "execution_count": 10,
   "metadata": {},
   "outputs": [],
   "source": [
    "def plot_custom_polygon_2(G, vertices, arestas, coloracao):\n",
    "    fig, ax = plt.subplots()\n",
    "    # Pega as posições dos nós\n",
    "    pos = nx.get_node_attributes(G, 'pos')\n",
    "\n",
    "    # Define um mapa de cores para as 3 cores\n",
    "    cores = ['cyan', 'magenta', 'yellow']  # Pode ajustar as cores conforme necessário\n",
    "\n",
    "    # Desenha o grafo com as cores especificadas na coloração\n",
    "    node_colors = [cores[coloracao[i]] for i in range(len(vertices))]\n",
    "    nx.draw(G, pos, with_labels=True, node_color=node_colors, edge_color='r', node_size=500, font_size=12, font_color='black')\n",
    "\n",
    "    # Desenha apenas os segmentos de arestas definidos\n",
    "    for ar in arestas:\n",
    "        x_values = [ar.pInicio.x, ar.pFinal.x]\n",
    "        y_values = [ar.pInicio.y, ar.pFinal.y]\n",
    "        ax.plot(x_values, y_values, 'r-')\n",
    "\n",
    "    # Ajusta os limites do gráfico\n",
    "    ax.set_xlim(min(v.x for v in vertices) - 1, max(v.x for v in vertices) + 1)\n",
    "    ax.set_ylim(min(v.y for v in vertices) - 1, max(v.y for v in vertices) + 1)\n",
    "    ax.set_aspect('equal')\n",
    "\n",
    "    plt.xlabel('X')\n",
    "    plt.ylabel('Y')\n",
    "    plt.title('Custom Polygon')\n",
    "    plt.grid(True)\n",
    "\n",
    "    plt.show()"
   ]
  },
  {
   "cell_type": "code",
   "execution_count": 11,
   "metadata": {},
   "outputs": [
    {
     "data": {
      "image/png": "[encoded data removed]",
      "text/plain": [
       "<Figure size 640x480 with 1 Axes>"
      ]
     },
     "metadata": {},
     "output_type": "display_data"
    }
   ],
   "source": [
    "plot_custom_polygon_2(colored_Graph, G.vertices, G.arestas, colors)"
   ]
  }
 ],
 "metadata": {
  "kernelspec": {
   "display_name": "Python 3",
   "language": "python",
   "name": "python3"
  },
  "language_info": {
   "codemirror_mode": {
    "name": "ipython",
    "version": 3
   },
   "file_extension": ".py",
   "mimetype": "text/x-python",
   "name": "python",
   "nbconvert_exporter": "python",
   "pygments_lexer": "ipython3",
   "version": "3.10.4"
  }
 },
 "nbformat": 4,
 "nbformat_minor": 2
}
